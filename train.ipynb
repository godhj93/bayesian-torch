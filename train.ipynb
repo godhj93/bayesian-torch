{
 "cells": [
  {
   "cell_type": "code",
   "execution_count": null,
   "metadata": {},
   "outputs": [],
   "source": [
    "import torch\n",
    "import torch.nn as nn\n",
    "import torch.nn.functional as F\n",
    "import torch.optim as optim\n",
    "import numpy as np\n",
    "import matplotlib.pyplot as plt\n",
    "from torchvision import datasets, transforms\n",
    "from tqdm import tqdm\n",
    "\n",
    "from models import LeNet_BNN, LeNet_BNN_uni, LeNet\n",
    "from utils import train_BNN, train_DNN, test_BNN, test_DNN\n",
    "device = torch.device(\"cuda:0\" if torch.cuda.is_available() else \"cpu\")\n",
    "\n",
    "dnn = LeNet()\n",
    "dnn.load_state_dict(torch.load('runs/dnn_bs1024_lr0.001_mc100_temp_1.0_ep100_20240711-160323/best_model.pth'))\n",
    "\n",
    "# MNIST dataset\n",
    "train_dataset = datasets.MNIST(root='./data/', train=True, transform=transforms.ToTensor(), download=True)\n",
    "test_dataset = datasets.MNIST(root='./data/', train=False, transform=transforms.ToTensor())\n",
    "\n",
    "train_loader = torch.utils.data.DataLoader(dataset=train_dataset, batch_size=1024, shuffle=True, num_workers=4, pin_memory=True)\n",
    "test_loader = torch.utils.data.DataLoader(dataset=test_dataset, batch_size=1024, shuffle=False, num_workers=4, pin_memory=True)\n",
    "\n",
    "test_DNN(dnn, test_loader)\n"
   ]
  },
  {
   "cell_type": "code",
   "execution_count": null,
   "metadata": {},
   "outputs": [],
   "source": [
    "# bnn_uni = LeNet_BNN_uni().to(device)\n",
    "# bnn_uni.load_state_dict(torch.load('bnn_uni.pth'))\n",
    "# # train_BNN(10, bnn_uni)\n",
    "# test_BNN(bnn_uni, test_loader, 100, 1024, 'cuda')"
   ]
  },
  {
   "cell_type": "markdown",
   "metadata": {},
   "source": [
    "### $\\mu$, $\\sigma$ 학습 가능한지 확인"
   ]
  },
  {
   "cell_type": "code",
   "execution_count": null,
   "metadata": {},
   "outputs": [],
   "source": [
    "from torch.distributions import Normal\n",
    "target_w = 3.0\n",
    "\n",
    "# Sample the weights\n",
    "mu = torch.nn.Parameter(torch.Tensor(1))\n",
    "sigma = torch.nn.Parameter(torch.Tensor(1))\n",
    "mu.data.normal_(0, 0.1)\n",
    "sigma.data.normal_(1, 0.1)\n",
    "\n",
    "w_dist = Normal(mu,sigma)\n",
    "\n",
    "loss = torch.nn.MSELoss()\n",
    "optimizer = torch.optim.Adam([mu, sigma], lr=0.01)\n",
    "\n",
    "# Log for plotting\n",
    "mu_log = []\n",
    "sigma_log = []\n",
    "\n",
    "# Sample the weights\n",
    "for epoch in range(1000):\n",
    "    w = w_dist.rsample()\n",
    "    \n",
    "    loss_val = loss(w, torch.Tensor([target_w]))\n",
    "    optimizer.zero_grad()\n",
    "    loss_val.backward()\n",
    "    optimizer.step()\n",
    "    mu_log.append(mu.item())\n",
    "    sigma_log.append(sigma.item())\n",
    "    \n",
    "import matplotlib.pyplot as plt\n",
    "\n",
    "plt.plot(mu_log)\n",
    "plt.plot(sigma_log)\n",
    "plt.grid()\n",
    "plt.legend(['mu', 'sigma'])\n",
    "\n",
    "# plot target\n",
    "plt.plot([0,1000], [target_w, target_w], 'r--')"
   ]
  },
  {
   "cell_type": "markdown",
   "metadata": {},
   "source": [
    "### 신경망 모델의 가중치를 분포로 학습가능한지 확인 $w_i \\sim \\mathbf{N}(\\mu_i,\\sigma_i)$"
   ]
  },
  {
   "cell_type": "code",
   "execution_count": null,
   "metadata": {},
   "outputs": [],
   "source": [
    "\n",
    "w_conv1_dnn = dnn.conv1.weight.data\n",
    "\n",
    "# Sample the weights\n",
    "mu = torch.nn.Parameter(torch.zeros_like(w_conv1_dnn))\n",
    "sigma = torch.nn.Parameter(torch.ones_like(w_conv1_dnn))\n",
    "\n",
    "w_dist = Normal(mu,sigma)\n",
    "\n",
    "loss = torch.nn.MSELoss()\n",
    "optimizer = torch.optim.Adam([mu, sigma], lr=0.01)\n",
    "\n",
    "# Log for plotting\n",
    "mu_log = []\n",
    "sigma_log = []\n",
    "losses = []\n",
    "for epoch in tqdm(range(1000)):\n",
    "    w = w_dist.rsample()\n",
    "    \n",
    "    loss_val = loss(w, w_conv1_dnn)\n",
    "    optimizer.zero_grad()\n",
    "    loss_val.backward()\n",
    "    optimizer.step()\n",
    "    mu_log.append(mu.mean().item())\n",
    "    sigma_log.append(sigma.mean().item())\n",
    "    losses.append(loss_val.item())\n",
    "    \n",
    "# plot training progress\n",
    "plt.plot(losses)\n",
    "plt.plot(mu_log)\n",
    "plt.plot(sigma_log)\n",
    "plt.grid()\n",
    "plt.legend(['loss', 'mu', 'sigma'])\n",
    "\n",
    "import torch\n",
    "import numpy as np\n",
    "import matplotlib.pyplot as plt\n",
    "from scipy.stats import norm\n",
    "\n",
    "# 예시 데이터, 실제 데이터로 대체하세요.\n",
    "mu_kernel = mu  # 실제 mu_kernel 값으로 대체\n",
    "rho_kernel = sigma  # 실제 rho_kernel 값으로 대체\n",
    "w_dnn = dnn.conv1.weight.data\n",
    "# sigma_weight 계산\n",
    "sigma_weight = torch.log1p(torch.exp(rho_kernel))\n",
    "\n",
    "plt.figure(figsize=(15,15))\n",
    "for idx, (w_target, mu, sigma) in enumerate(zip(w_dnn, mu_kernel, sigma_weight)):\n",
    "    \n",
    "    print(w_target.shape, mu.shape, sigma.shape)\n",
    "    w_target = w_target.cpu().detach().numpy()\n",
    "    plt.subplot(6,1, idx+1)\n",
    "    for i in range(3):\n",
    "        \n",
    "        for j in range(3):\n",
    "            \n",
    "            plt.axvline(x=w_target[0,i,j], color='r', linestyle='--', label='target')\n",
    "            \n",
    "            x = np.linspace(mu[0,i,j].item() - 3 * sigma[0,i,j].item(), mu[0,i,j].item() + 3 * sigma[0,i,j].item(), 1000)\n",
    "            pdf = norm.pdf(x, loc=mu[0,i,j].item(), scale= sigma[0,i,j].item())\n",
    "            # plt.subplot(3,3,i+j+1)\n",
    "\n",
    "            plt.plot(x, pdf, label=f'N({mu[0,i,j].item():.2f}, {sigma[0,i,j].item():.2f})')\n",
    "            \n",
    "        "
   ]
  },
  {
   "cell_type": "markdown",
   "metadata": {},
   "source": [
    "### 만약 입력 X까지 고려한 출력 y를 loss로 사용한다면?"
   ]
  },
  {
   "cell_type": "code",
   "execution_count": null,
   "metadata": {},
   "outputs": [],
   "source": [
    "# bnn_uni = LeNet_BNN_uni().to(device)\n",
    "# loss = torch.nn.MSELoss()\n",
    "# optimizer = torch.optim.Adam(bnn_uni.conv1.parameters(), lr=0.01)\n",
    "\n",
    "# losses = []\n",
    "\n",
    "# for e in range(10):\n",
    "#     for x,y in tqdm(train_loader):\n",
    "        \n",
    "#         y_bnn, _ = bnn_uni.conv1.forward(x.to(device))\n",
    "        \n",
    "            \n",
    "#         y_dnn = dnn.conv1.forward(x.to(device))\n",
    "\n",
    "#         loss_val = loss(y_bnn, y_dnn)\n",
    "\n",
    "#         optimizer.zero_grad()\n",
    "#         loss_val.backward()\n",
    "#         optimizer.step()\n",
    "        \n",
    "#         losses.append(loss_val.item())\n",
    "    \n",
    "\n",
    "\n",
    "# plt.plot(losses)\n",
    "# plt.grid()\n",
    "\n",
    "# import torch\n",
    "# import numpy as np\n",
    "# import matplotlib.pyplot as plt\n",
    "# from scipy.stats import norm\n",
    "\n",
    "# # 예시 데이터, 실제 데이터로 대체하세요.\n",
    "# mu_kernel = bnn_uni.conv1.mu_kernel  # 실제 mu_kernel 값으로 대체\n",
    "# rho_kernel = bnn_uni.conv1.rho_kernel  # 실제 rho_kernel 값으로 대체\n",
    "# w_dnn = dnn.conv1.weight.data\n",
    "# # sigma_weight 계산\n",
    "# sigma_weight = torch.log1p(torch.exp(rho_kernel))\n",
    "\n",
    "# plt.figure(figsize=(15,15))\n",
    "# for idx, (w_target, mu, sigma) in enumerate(zip(w_dnn, mu_kernel, sigma_weight)):\n",
    "    \n",
    "#     print(w_target.shape, mu.shape, sigma.shape)\n",
    "#     w_target = w_target.cpu().detach().numpy()\n",
    "#     plt.subplot(6,1, idx+1)\n",
    "#     for i in range(3):\n",
    "        \n",
    "#         for j in range(3):\n",
    "            \n",
    "#             plt.axvline(x=w_target[0,i,j], color='r', linestyle='--', label='target')\n",
    "            \n",
    "#             x = np.linspace(mu[0,i,j].item() - 3 * sigma[0,i,j].item(), mu[0,i,j].item() + 3 * sigma[0,i,j].item(), 1000)\n",
    "#             pdf = norm.pdf(x, loc=mu[0,i,j].item(), scale= sigma[0,i,j].item())\n",
    "#             # plt.subplot(3,3,i+j+1)\n",
    "\n",
    "#             plt.plot(x, pdf, label=f'N({mu[0,i,j].item():.2f}, {sigma[0,i,j].item():.2f})')\n",
    "            \n",
    "        "
   ]
  },
  {
   "cell_type": "markdown",
   "metadata": {},
   "source": [
    "### Aleatoric?"
   ]
  },
  {
   "cell_type": "code",
   "execution_count": null,
   "metadata": {},
   "outputs": [],
   "source": [
    "bnn_uni = LeNet_BNN_uni().to(device)"
   ]
  },
  {
   "cell_type": "code",
   "execution_count": null,
   "metadata": {},
   "outputs": [],
   "source": [
    "\n",
    "w_conv1_dnn = dnn.conv1.weight.data\n",
    "\n",
    "# Sample the weights\n",
    "\n",
    "# loss = torch.nn.MSELoss()\n",
    "optimizer = torch.optim.Adam([bnn_uni.conv1.mu_kernel, bnn_uni.conv1.rho_kernel], lr=1e-3)\n",
    "\n",
    "# Log for plotting\n",
    "mu_log = []\n",
    "sigma_log = []\n",
    "losses = []\n",
    "for epoch in range(1000):\n",
    "    \n",
    "    mu = bnn_uni.conv1.mu_kernel\n",
    "    sigma = torch.log1p(torch.exp(bnn_uni.conv1.rho_kernel))\n",
    "\n",
    "    loss_val = 0.5 * torch.mean((mu - w_conv1_dnn)**2 / sigma + sigma )\n",
    "        \n",
    "        \n",
    "    \n",
    "    # loss_val = loss(w, w_conv1_dnn)\n",
    "    optimizer.zero_grad()\n",
    "    loss_val.backward()\n",
    "    optimizer.step()\n",
    "    mu_log.append(mu.mean().item())\n",
    "    sigma_log.append(sigma.mean().item())\n",
    "    losses.append(loss_val.item())\n",
    "    \n",
    "# plot training progress\n",
    "plt.plot(losses)\n",
    "plt.plot(mu_log)\n",
    "plt.plot(sigma_log)\n",
    "plt.grid()\n",
    "plt.legend(['loss', 'mu', 'sigma'])\n",
    "\n",
    "import torch\n",
    "import numpy as np\n",
    "import matplotlib.pyplot as plt\n",
    "from scipy.stats import norm\n",
    "\n",
    "# 예시 데이터, 실제 데이터로 대체하세요.\n",
    "mu_kernel = bnn_uni.conv1.mu_kernel  # 실제 mu_kernel 값으로 대체\n",
    "rho_kernel = bnn_uni.conv1.rho_kernel  # 실제 rho_kernel 값으로 대체\n",
    "w_dnn = dnn.conv1.weight.data\n",
    "# sigma_weight 계산\n",
    "sigma_weight = torch.log1p(torch.exp(rho_kernel))\n",
    "\n",
    "plt.figure(figsize=(15,15))\n",
    "for idx, (w_target, mu, sigma) in enumerate(zip(w_dnn, mu_kernel, sigma_weight)):\n",
    "    \n",
    "    print(w_target.shape, mu.shape, sigma.shape)\n",
    "    w_target = w_target.cpu().detach().numpy()\n",
    "    plt.subplot(6,1, idx+1)\n",
    "    for i in range(3):\n",
    "        \n",
    "        for j in range(3):\n",
    "            \n",
    "            plt.axvline(x=w_target[0,i,j], color='r', linestyle='--', label='target')\n",
    "            \n",
    "            x = np.linspace(mu[0,i,j].item() - 3 * sigma[0,i,j].item(), mu[0,i,j].item() + 3 * sigma[0,i,j].item(), 1000)\n",
    "            pdf = norm.pdf(x, loc=mu[0,i,j].item(), scale= sigma[0,i,j].item())\n",
    "            # plt.subplot(3,3,i+j+1)\n",
    "\n",
    "            plt.plot(x, pdf, label=f'N({mu[0,i,j].item():.2f}, {sigma[0,i,j].item():.2f})')\n",
    "            \n",
    "        "
   ]
  },
  {
   "cell_type": "code",
   "execution_count": null,
   "metadata": {},
   "outputs": [],
   "source": [
    "\n",
    "w_conv2_dnn = dnn.conv2.weight.data\n",
    "\n",
    "# Sample the weights\n",
    "\n",
    "# loss = torch.nn.MSELoss()\n",
    "optimizer = torch.optim.Adam([bnn_uni.conv2.mu_kernel, bnn_uni.conv2.rho_kernel], lr=1e-3)\n",
    "\n",
    "# Log for plotting\n",
    "mu_log = []\n",
    "sigma_log = []\n",
    "losses = []\n",
    "for epoch in range(1000):\n",
    "    \n",
    "    mu = bnn_uni.conv2.mu_kernel\n",
    "    sigma = torch.log1p(torch.exp(bnn_uni.conv2.rho_kernel))\n",
    "\n",
    "    loss_val = 0.5 * torch.mean((mu - w_conv2_dnn)**2 / sigma + sigma )\n",
    "        \n",
    "        \n",
    "    \n",
    "    # loss_val = loss(w, w_conv2_dnn)\n",
    "    optimizer.zero_grad()\n",
    "    loss_val.backward()\n",
    "    optimizer.step()\n",
    "    mu_log.append(mu.mean().item())\n",
    "    sigma_log.append(sigma.mean().item())\n",
    "    losses.append(loss_val.item())\n",
    "    \n",
    "# plot training progress\n",
    "plt.plot(losses)\n",
    "plt.plot(mu_log)\n",
    "plt.plot(sigma_log)\n",
    "plt.grid()\n",
    "plt.legend(['loss', 'mu', 'sigma'])\n",
    "\n",
    "import torch\n",
    "import numpy as np\n",
    "import matplotlib.pyplot as plt\n",
    "from scipy.stats import norm\n",
    "\n",
    "# 예시 데이터, 실제 데이터로 대체하세요.\n",
    "mu_kernel = bnn_uni.conv2.mu_kernel  # 실제 mu_kernel 값으로 대체\n",
    "print(mu_kernel.shape)\n",
    "rho_kernel = bnn_uni.conv2.rho_kernel  # 실제 rho_kernel 값으로 대체\n",
    "w_dnn = dnn.conv2.weight.data\n",
    "# sigma_weight 계산\n",
    "sigma_weight = torch.log1p(torch.exp(rho_kernel))\n",
    "\n",
    "plt.figure(figsize=(15,15))\n",
    "for idx, (w_target, mu, sigma) in enumerate(zip(w_dnn, mu_kernel, sigma_weight)):\n",
    "    \n",
    "    print(w_target.shape, mu.shape, sigma.shape)\n",
    "    w_target = w_target.cpu().detach().numpy()\n",
    "    plt.subplot(16,1, idx+1)\n",
    "    for i in range(3):\n",
    "        \n",
    "        for j in range(3):\n",
    "            \n",
    "            plt.axvline(x=w_target[0,i,j], color='r', linestyle='--', label='target')\n",
    "            \n",
    "            x = np.linspace(mu[0,i,j].item() - 3 * sigma[0,i,j].item(), mu[0,i,j].item() + 3 * sigma[0,i,j].item(), 1000)\n",
    "            pdf = norm.pdf(x, loc=mu[0,i,j].item(), scale= sigma[0,i,j].item())\n",
    "            # plt.subplot(3,3,i+j+1)\n",
    "\n",
    "            plt.plot(x, pdf, label=f'N({mu[0,i,j].item():.2f}, {sigma[0,i,j].item():.2f})')\n",
    "            \n",
    "        "
   ]
  },
  {
   "cell_type": "markdown",
   "metadata": {},
   "source": [
    "### Set the Prior distribution "
   ]
  },
  {
   "cell_type": "code",
   "execution_count": null,
   "metadata": {},
   "outputs": [],
   "source": [
    "bnn_new = LeNet_BNN_uni().to(device)"
   ]
  },
  {
   "cell_type": "code",
   "execution_count": null,
   "metadata": {},
   "outputs": [],
   "source": [
    "bnn_new.conv1.prior_mean, bnn_new.conv1.prior_variance, bnn_new.conv2.prior_mean, bnn_new.conv2.prior_variance"
   ]
  },
  {
   "cell_type": "code",
   "execution_count": null,
   "metadata": {},
   "outputs": [],
   "source": [
    "# bnn_new.conv1.prior_mean = bnn_uni.conv1.mu_kernel.detach().clone()\n",
    "# bnn_new.conv1.prior_variance = torch.log1p(torch.exp(bnn_uni.conv1.rho_kernel)).detach().clone()\n",
    "\n",
    "# bnn_new.conv2.prior_mean = bnn_uni.conv2.mu_kernel.detach().clone()\n",
    "# bnn_new.conv2.prior_variance = torch.log1p(torch.exp(bnn_uni.conv2.rho_kernel)).detach().clone()"
   ]
  },
  {
   "cell_type": "code",
   "execution_count": null,
   "metadata": {},
   "outputs": [],
   "source": [
    "bnn_new.conv1.prior_weight_mu = bnn_uni.conv1.mu_kernel.detach().clone()\n",
    "bnn_new.conv1.prior_weight_sigma = torch.log1p(torch.exp(bnn_uni.conv1.rho_kernel)).detach().clone()\n",
    "\n",
    "bnn_new.conv2.prior_weight_mu = bnn_uni.conv2.mu_kernel.detach().clone()\n",
    "bnn_new.conv2.prior_weight_sigma = torch.log1p(torch.exp(bnn_uni.conv2.rho_kernel)).detach().clone()"
   ]
  },
  {
   "cell_type": "code",
   "execution_count": null,
   "metadata": {},
   "outputs": [],
   "source": [
    "# import torch.optim as optim\n",
    "# from torch.utils.tensorboard import SummaryWriter\n",
    "# class args:\n",
    "#     pass\n",
    "# args = args()\n",
    "# args.t = 1.0\n",
    "# writer = SummaryWriter(f'runs/bnn_new2')\n",
    "# train_BNN(epoch= 100, model = bnn_new, train_loader= train_loader, test_loader= test_loader, optimizer= optim.Adam(bnn_new.parameters(), lr=1e-3), writer = writer, mc_runs = 100, bs = 1024, device = 'cuda', args=args)"
   ]
  },
  {
   "cell_type": "markdown",
   "metadata": {},
   "source": [
    "### MOPED"
   ]
  },
  {
   "cell_type": "code",
   "execution_count": null,
   "metadata": {},
   "outputs": [],
   "source": [
    "# from bayesian_torch.models.dnn_to_bnn import dnn_to_bnn, get_kl_loss\n",
    "# from torch.utils.tensorboard import SummaryWriter\n",
    "# bnn_rho_init = -3.0\n",
    "# moped_delta_factor = 0.2\n",
    "# const_bnn_prior_parameters = {\n",
    "#         \"prior_mu\": 0.0,\n",
    "#         \"prior_sigma\": 1.0,\n",
    "#         \"posterior_mu_init\": 0.0,\n",
    "#         \"posterior_rho_init\": bnn_rho_init,\n",
    "#         \"type\": \"Reparameterization\",  # Flipout or Reparameterization\n",
    "#         \"moped_enable\": True,  # initialize mu/sigma from the dnn weights\n",
    "#         \"moped_delta\": moped_delta_factor,\n",
    "#     }\n",
    "\n",
    "\n",
    "# dnn_moped = LeNet()\n",
    "# dnn_moped.load_state_dict(torch.load('runs/dnn_bs1024_lr0.001_mc100_temp_1.0_ep100_20240711-160323/best_model.pth'))\n",
    "\n",
    "# dnn_to_bnn(dnn_moped, const_bnn_prior_parameters)\n",
    "\n",
    "# class args:\n",
    "#     pass\n",
    "\n",
    "# args = args()\n",
    "# args.t = 1.0\n",
    "# writer = SummaryWriter(f'runs/dnn_moped2')\n",
    "# train_BNN(epoch= 100, model = dnn_moped.cuda(), train_loader= train_loader, test_loader= test_loader, optimizer= optim.Adam(dnn_moped.parameters(), lr=1e-3), writer = writer, mc_runs = 100, bs = 1024, device = 'cuda', args=args, moped=True)\n",
    "\n"
   ]
  },
  {
   "cell_type": "markdown",
   "metadata": {},
   "source": [
    "### multivariate Gaussian distribution"
   ]
  },
  {
   "cell_type": "markdown",
   "metadata": {},
   "source": [
    "### covariance matrix 학습 가능한지 확인"
   ]
  },
  {
   "cell_type": "code",
   "execution_count": null,
   "metadata": {},
   "outputs": [],
   "source": [
    "target_matrix = torch.eye(10, requires_grad=True)\n",
    "\n",
    "L_init = torch.tril(torch.rand(10,10))\n",
    "L = nn.Parameter(L_init)\n",
    "\n",
    "optimizer = optim.Adam([L], lr=1e-2)\n",
    "\n",
    "losses = []\n",
    "for epoch in range(1000):\n",
    "    \n",
    "    loss = 0.5 * torch.sum((L.T @ L - target_matrix)**2)\n",
    "    \n",
    "    optimizer.zero_grad()\n",
    "    loss.backward()\n",
    "    optimizer.step()\n",
    "    \n",
    "    losses.append(loss.item())\n",
    "    \n",
    "plt.plot(losses)\n",
    "plt.grid()\n"
   ]
  },
  {
   "cell_type": "code",
   "execution_count": null,
   "metadata": {},
   "outputs": [],
   "source": [
    "plt.imshow((L.T@L).detach().numpy())"
   ]
  },
  {
   "cell_type": "code",
   "execution_count": null,
   "metadata": {},
   "outputs": [],
   "source": [
    "\n",
    "device = torch.device('cuda' if torch.cuda.is_available() else 'cpu')\n",
    "bnn_multi = LeNet_BNN().to(device)\n",
    "\n",
    "import copy\n",
    "cov_not_optimized = bnn_multi.conv1.get_covariance_matrix().cpu().detach().numpy()  \n",
    "print(cov_not_optimized.shape)\n",
    "optimizer = optim.Adam([bnn_multi.conv1.mu_kernel, bnn_multi.conv1.L_param], lr=1e-2)\n",
    "\n",
    "mu_log = []\n",
    "losses = []\n",
    "mean_loss = []\n",
    "for idx, _ in tqdm(enumerate(range(10000))):\n",
    "    w_conv1_dnn = dnn.conv1.weight.data.to(device)\n",
    "    c_in, c_out, k, _ = w_conv1_dnn.size()\n",
    "    \n",
    "    mu = bnn_multi.conv1.mu_kernel\n",
    "    mu_flat = mu.view(-1)\n",
    "    w_flat = w_conv1_dnn.view(-1)\n",
    "\n",
    "    epslion = 1e-6\n",
    "    cov = bnn_multi.conv1.get_covariance_matrix() + epslion * torch.eye(c_in * c_out * k * k).to(device)\n",
    "    \n",
    "    # Sampling the weight\n",
    "    w = torch.distributions.MultivariateNormal(mu_flat, cov).rsample().reshape(c_in, c_out, k, k)\n",
    "    \n",
    "    # k_value = torch.tensor(k, dtype=torch.float32).to(device)\n",
    "    # pi_value = torch.tensor(torch.pi, dtype=torch.float32).to(device)\n",
    "    # nnl = 0.5 * (k_value * torch.log(2 * pi_value) + torch.logdet(cov) + (w_flat - mu_flat).t() @ torch.inverse(cov) @ (w_flat - mu_flat))\n",
    "\n",
    "    nnl = (w - w_conv1_dnn).pow(2).mean()\n",
    "    optimizer.zero_grad()\n",
    "    nnl.backward()  # Do not use retain_graph=True\n",
    "    optimizer.step()\n",
    "\n",
    "    mu_log.append(mu.mean().item())\n",
    "    \n",
    "    losses.append(nnl.item())\n",
    "    \n",
    "    mean_loss.append(np.mean(losses))\n",
    "\n",
    "plt.figure(figsize=(15,15))\n",
    "plt.subplot(1,3,1)\n",
    "plt.imshow(cov_not_optimized[:9,:9])\n",
    "plt.title('Covariance matrix (not optimized)')\n",
    "\n",
    "plt.subplot(1,3,2)\n",
    "i=1\n",
    "plt.imshow(bnn_multi.conv1.get_covariance_matrix().cpu().detach().numpy()[:,:][:9*i,:9*i])\n",
    "plt.title('Covariance matrix (optimized)')\n",
    "plt.colorbar()\n",
    "plt.subplot(1,3,3)\n",
    "plt.plot(mean_loss[:])\n",
    "plt.grid()\n",
    "plt.title('Loss')\n"
   ]
  },
  {
   "cell_type": "code",
   "execution_count": null,
   "metadata": {},
   "outputs": [],
   "source": [
    "import torch\n",
    "import matplotlib.pyplot as plt\n",
    "\n",
    "# Sample the weights\n",
    "weight_dist = torch.distributions.MultivariateNormal(\n",
    "    bnn_multi.conv1.mu_kernel.view(-1),\n",
    "    bnn_multi.conv1.get_covariance_matrix() + epslion * torch.eye(c_in * c_out * k * k).to(device)\n",
    ")\n",
    "\n",
    "w_bnn = weight_dist.rsample().reshape(6, 1, 3, 3).view(-1)\n",
    "w_dnn = dnn.conv1.weight.data.view(-1)\n",
    "\n",
    "# Visualize the difference using vertical lines\n",
    "plt.figure(figsize=(10, 5))\n",
    "x = range(len(w_dnn.cpu().detach().numpy()))\n",
    "\n",
    "# # Plot DNN weights with thicker lines\n",
    "# plt.vlines(x, ymin=0, ymax=w_dnn.cpu().detach().numpy(), color='r', linewidth=3, label='DNN')\n",
    "\n",
    "# # Plot BNN weights with thinner lines\n",
    "# plt.vlines(x, ymin=0, ymax=w_bnn.cpu().detach().numpy(), color='b', linewidth=1, label='BNN')\n",
    "\n",
    "# Plot differences\n",
    "\n",
    "plt.vlines(x, ymin=0, ymax=(w_dnn.cpu().detach() - w_bnn.cpu().detach()).abs(), color='g', linewidth=1, label='DNN - BNN')\n",
    "\n",
    "plt.legend()\n",
    "plt.grid()\n",
    "plt.title('DNN and BNN Weight Differences (Learned)')\n",
    "plt.xlabel('Weight Index')\n",
    "plt.ylabel('Diff (abs)')\n",
    "plt.ylim(0,3)\n",
    "plt.show()\n"
   ]
  },
  {
   "cell_type": "markdown",
   "metadata": {},
   "source": [
    "## Cov randomly initialized"
   ]
  },
  {
   "cell_type": "code",
   "execution_count": null,
   "metadata": {},
   "outputs": [],
   "source": [
    "\n",
    "device = torch.device('cuda' if torch.cuda.is_available() else 'cpu')\n",
    "bnn_multi = LeNet_BNN().to(device)\n",
    "\n",
    "import copy\n",
    "cov_not_optimized = bnn_multi.conv1.get_covariance_matrix().cpu().detach().numpy()  \n",
    "print(cov_not_optimized.shape)\n",
    "optimizer = optim.Adam([bnn_multi.conv1.mu_kernel], lr=1e-2)\n",
    "\n",
    "mu_log = []\n",
    "losses = []\n",
    "mean_loss = []\n",
    "for idx, _ in tqdm(enumerate(range(10000))):\n",
    "    w_conv1_dnn = dnn.conv1.weight.data.to(device)\n",
    "    c_in, c_out, k, _ = w_conv1_dnn.size()\n",
    "    \n",
    "    mu = bnn_multi.conv1.mu_kernel\n",
    "    mu_flat = mu.view(-1)\n",
    "    w_flat = w_conv1_dnn.view(-1)\n",
    "\n",
    "    epslion = 1e-6\n",
    "    cov = bnn_multi.conv1.get_covariance_matrix() + epslion * torch.eye(c_in * c_out * k * k).to(device)\n",
    "    \n",
    "    # Sampling the weight\n",
    "    w = torch.distributions.MultivariateNormal(mu_flat, cov).rsample().reshape(c_in, c_out, k, k)\n",
    "    \n",
    "    # k_value = torch.tensor(k, dtype=torch.float32).to(device)\n",
    "    # pi_value = torch.tensor(torch.pi, dtype=torch.float32).to(device)\n",
    "    # nnl = 0.5 * (k_value * torch.log(2 * pi_value) + torch.logdet(cov) + (w_flat - mu_flat).t() @ torch.inverse(cov) @ (w_flat - mu_flat))\n",
    "\n",
    "    nnl = (w - w_conv1_dnn).pow(2).mean()\n",
    "    optimizer.zero_grad()\n",
    "    nnl.backward()  # Do not use retain_graph=True\n",
    "    optimizer.step()\n",
    "\n",
    "    mu_log.append(mu.mean().item())\n",
    "    \n",
    "    losses.append(nnl.item())\n",
    "    \n",
    "    mean_loss.append(np.mean(losses))\n",
    "\n",
    "plt.figure(figsize=(15,15))\n",
    "plt.subplot(1,3,1)\n",
    "plt.imshow(cov_not_optimized[:9,:9])\n",
    "plt.title('Covariance matrix (not optimized)')\n",
    "\n",
    "plt.subplot(1,3,2)\n",
    "i=1\n",
    "plt.imshow(bnn_multi.conv1.get_covariance_matrix().cpu().detach().numpy()[:,:][:9*i,:9*i])\n",
    "plt.title('Covariance matrix (optimized)')\n",
    "plt.colorbar()\n",
    "plt.subplot(1,3,3)\n",
    "plt.plot(mean_loss[:])\n",
    "plt.grid()\n",
    "plt.title('Loss')\n"
   ]
  },
  {
   "cell_type": "code",
   "execution_count": null,
   "metadata": {},
   "outputs": [],
   "source": [
    "import torch\n",
    "import matplotlib.pyplot as plt\n",
    "\n",
    "# Sample the weights\n",
    "weight_dist = torch.distributions.MultivariateNormal(\n",
    "    bnn_multi.conv1.mu_kernel.view(-1),\n",
    "    bnn_multi.conv1.get_covariance_matrix() + epslion * torch.eye(c_in * c_out * k * k).to(device)\n",
    ")\n",
    "\n",
    "w_bnn = weight_dist.rsample().reshape(6, 1, 3, 3).view(-1)\n",
    "w_dnn = dnn.conv1.weight.data.view(-1)\n",
    "\n",
    "# Visualize the difference using vertical lines\n",
    "plt.figure(figsize=(10, 5))\n",
    "x = range(len(w_dnn.cpu().detach().numpy()))\n",
    "\n",
    "# # Plot DNN weights with thicker lines\n",
    "# plt.vlines(x, ymin=0, ymax=w_dnn.cpu().detach().numpy(), color='r', linewidth=3, label='DNN')\n",
    "\n",
    "# # Plot BNN weights with thinner lines\n",
    "# plt.vlines(x, ymin=0, ymax=w_bnn.cpu().detach().numpy(), color='b', linewidth=1, label='BNN')\n",
    "\n",
    "# Plot differences\n",
    "\n",
    "plt.vlines(x, ymin=0, ymax=(w_dnn.cpu().detach() - w_bnn.cpu().detach()).abs(), color='r', linewidth=1, label='DNN - BNN')\n",
    "\n",
    "plt.legend()\n",
    "plt.grid()\n",
    "plt.title('DNN and BNN Weight Differences (Randomly Initialized)')\n",
    "plt.xlabel('Weight Index')\n",
    "plt.ylabel('Diff (abs)')\n",
    "plt.ylim(0,3)\n",
    "plt.show()\n"
   ]
  },
  {
   "cell_type": "markdown",
   "metadata": {},
   "source": [
    "# cov = I"
   ]
  },
  {
   "cell_type": "code",
   "execution_count": null,
   "metadata": {},
   "outputs": [],
   "source": [
    "\n",
    "device = torch.device('cuda' if torch.cuda.is_available() else 'cpu')\n",
    "bnn_multi = LeNet_BNN().to(device)\n",
    "\n",
    "import copy\n",
    "cov_not_optimized = bnn_multi.conv1.get_covariance_matrix().cpu().detach().numpy()  \n",
    "print(cov_not_optimized.shape)\n",
    "optimizer = optim.Adam([bnn_multi.conv1.mu_kernel, bnn_multi.conv1.L_param], lr=1e-2)\n",
    "\n",
    "mu_log = []\n",
    "losses = []\n",
    "mean_loss = []\n",
    "for idx, _ in tqdm(enumerate(range(10000))):\n",
    "    w_conv1_dnn = dnn.conv1.weight.data.to(device)\n",
    "    c_in, c_out, k, _ = w_conv1_dnn.size()\n",
    "    \n",
    "    mu = bnn_multi.conv1.mu_kernel\n",
    "    mu_flat = mu.view(-1)\n",
    "    w_flat = w_conv1_dnn.view(-1)\n",
    "\n",
    "    epslion = 1e-6\n",
    "    cov = bnn_multi.conv1.get_covariance_matrix() + epslion * torch.eye(c_in * c_out * k * k).to(device)\n",
    "    \n",
    "    # Sampling the weight\n",
    "    w = torch.distributions.MultivariateNormal(mu_flat, torch.eye(c_in * c_out * k * k).to(device)).rsample().reshape(c_in, c_out, k, k)\n",
    "    \n",
    "    # k_value = torch.tensor(k, dtype=torch.float32).to(device)\n",
    "    # pi_value = torch.tensor(torch.pi, dtype=torch.float32).to(device)\n",
    "    # nnl = 0.5 * (k_value * torch.log(2 * pi_value) + torch.logdet(cov) + (w_flat - mu_flat).t() @ torch.inverse(cov) @ (w_flat - mu_flat))\n",
    "\n",
    "    nnl = (w - w_conv1_dnn).pow(2).mean()\n",
    "    optimizer.zero_grad()\n",
    "    nnl.backward()  # Do not use retain_graph=True\n",
    "    optimizer.step()\n",
    "\n",
    "    mu_log.append(mu.mean().item())\n",
    "    \n",
    "    losses.append(nnl.item())\n",
    "    \n",
    "    mean_loss.append(np.mean(losses))\n",
    "\n",
    "plt.figure(figsize=(15,15))\n",
    "plt.subplot(1,3,1)\n",
    "plt.imshow(cov_not_optimized[:9,:9])\n",
    "plt.title('Covariance matrix (not optimized)')\n",
    "\n",
    "plt.subplot(1,3,2)\n",
    "i=1\n",
    "plt.imshow(bnn_multi.conv1.get_covariance_matrix().cpu().detach().numpy()[:,:][:9*i,:9*i])\n",
    "plt.title('Covariance matrix (optimized)')\n",
    "plt.colorbar()\n",
    "plt.subplot(1,3,3)\n",
    "plt.plot(mean_loss[:])\n",
    "plt.grid()\n",
    "plt.title('Loss')\n"
   ]
  },
  {
   "cell_type": "code",
   "execution_count": null,
   "metadata": {},
   "outputs": [],
   "source": [
    "import torch\n",
    "import matplotlib.pyplot as plt\n",
    "\n",
    "# Sample the weights\n",
    "weight_dist = torch.distributions.MultivariateNormal(\n",
    "    bnn_multi.conv1.mu_kernel.view(-1),\n",
    "    torch.eye(c_in * c_out * k * k).to(device)\n",
    ")\n",
    "\n",
    "w_bnn = weight_dist.rsample().reshape(6, 1, 3, 3).view(-1)\n",
    "w_dnn = dnn.conv1.weight.data.view(-1)\n",
    "\n",
    "# Visualize the difference using vertical lines\n",
    "plt.figure(figsize=(10, 5))\n",
    "x = range(len(w_dnn.cpu().detach().numpy()))\n",
    "\n",
    "# # Plot DNN weights with thicker lines\n",
    "# plt.vlines(x, ymin=0, ymax=w_dnn.cpu().detach().numpy(), color='r', linewidth=3, label='DNN')\n",
    "\n",
    "# # Plot BNN weights with thinner lines\n",
    "# plt.vlines(x, ymin=0, ymax=w_bnn.cpu().detach().numpy(), color='b', linewidth=1, label='BNN')\n",
    "\n",
    "plt.vlines(x, ymin=0, ymax=(w_bnn - w_dnn).abs().cpu().detach().numpy(), color='b', linewidth=1, label='BNN')\n",
    "plt.legend()\n",
    "plt.grid()\n",
    "plt.title('DNN and BNN Weight Differences (Cov = I)')\n",
    "plt.xlabel('Weight Index')\n",
    "plt.ylabel('Diff (Abs)')\n",
    "plt.ylim(0,3)\n",
    "plt.show()\n"
   ]
  },
  {
   "cell_type": "code",
   "execution_count": null,
   "metadata": {},
   "outputs": [],
   "source": [
    "# import torch\n",
    "# import matplotlib.pyplot as plt\n",
    "\n",
    "# bnn_multi_not_trained = LeNet_BNN().to(device)\n",
    "\n",
    "# # Sample the weights\n",
    "# weight_dist = torch.distributions.MultivariateNormal(\n",
    "#     bnn_multi_not_trained.conv1.mu_kernel.view(-1),\n",
    "#     bnn_multi_not_trained.conv1.get_covariance_matrix()\n",
    "# )\n",
    "\n",
    "# w_bnn = weight_dist.rsample().reshape(6, 1, 3, 3).view(-1)\n",
    "# w_dnn = dnn.conv1.weight.data.view(-1)\n",
    "\n",
    "# # Visualize the difference using vertical lines\n",
    "# plt.figure(figsize=(10, 5))\n",
    "# x = range(len(w_dnn.cpu().detach().numpy()))\n",
    "\n",
    "# # # Plot DNN weights with thicker lines\n",
    "# # plt.vlines(x, ymin=0, ymax=w_dnn.cpu().detach().numpy(), color='r', linewidth=3, label='DNN')\n",
    "\n",
    "# # # Plot BNN weights with thinner lines\n",
    "# # plt.vlines(x, ymin=0, ymax=w_bnn.cpu().detach().numpy(), color='b', linewidth=1, label='BNN')\n",
    "\n",
    "# # Plot differences\n",
    "# plt.vlines(x, ymin=0, ymax=(w_bnn - w_dnn).cpu().detach().numpy(), color='b', linewidth=1, label='BNN')\n",
    "\n",
    "# plt.legend()\n",
    "# plt.grid()\n",
    "# plt.title('DNN and BNN Weight Differences')\n",
    "# plt.xlabel('Weight Index')\n",
    "# plt.ylabel('Weight Value')\n",
    "# plt.show()\n"
   ]
  },
  {
   "cell_type": "markdown",
   "metadata": {},
   "source": [
    "### Layer 2개 일 때는 어떻게 될까?"
   ]
  },
  {
   "cell_type": "markdown",
   "metadata": {},
   "source": [
    "### Leanred"
   ]
  },
  {
   "cell_type": "code",
   "execution_count": null,
   "metadata": {},
   "outputs": [],
   "source": [
    "\n",
    "device = torch.device('cuda' if torch.cuda.is_available() else 'cpu')\n",
    "bnn_multi = LeNet_BNN().to(device)\n",
    "optimizer = optim.Adam(bnn_multi.parameters(), lr=1e-3)\n",
    "\n",
    "mu_log = []\n",
    "losses = []\n",
    "mean_loss = []\n",
    "for idx, _ in tqdm(enumerate(range(10000))):\n",
    "    w_conv1_dnn = dnn.conv1.weight.data.to(device)\n",
    "    w_conv2_dnn = dnn.conv2.weight.data.to(device)\n",
    "    \n",
    "    c_in_conv1, c_out_conv1, k_conv1, _ = w_conv1_dnn.size()\n",
    "    c_in_conv2, c_out_conv2, k_conv2, _ = w_conv2_dnn.size()\n",
    "    \n",
    "    mu_bnn_conv1 = bnn_multi.conv1.mu_kernel\n",
    "    mu_flat_conv1 = mu_bnn_conv1.view(-1)\n",
    "    \n",
    "    mu_bnn_conv2 = bnn_multi.conv2.mu_kernel\n",
    "    mu_flat_conv2 = mu_bnn_conv2.view(-1)\n",
    "    \n",
    "    w_flat_conv1 = w_conv1_dnn.view(-1)\n",
    "    w_flat_conv2 = w_conv2_dnn.view(-1)\n",
    "\n",
    "    epslion = 1e-6\n",
    "    cov_1 = bnn_multi.conv1.get_covariance_matrix() + epslion * torch.eye(c_in_conv1 * c_out_conv1 * k_conv1 * k_conv1).to(device)\n",
    "    cov_2 = bnn_multi.conv2.get_covariance_matrix() + epslion * torch.eye(c_in_conv2 * c_out_conv2 * k_conv2 * k_conv2).to(device)\n",
    "    \n",
    "    # Sampling the weight\n",
    "    w_bnn_conv1 = torch.distributions.MultivariateNormal(mu_flat_conv1, cov_1).rsample().reshape(c_in_conv1, c_out_conv1, k_conv1, k_conv1)\n",
    "    w_bnn_conv2 = torch.distributions.MultivariateNormal(mu_flat_conv2, cov_2).rsample().reshape(c_in_conv2, c_out_conv2, k_conv2, k_conv2)\n",
    "\n",
    "    nll = (w_bnn_conv1 - w_conv1_dnn).pow(2).mean()\n",
    "    nll += (w_bnn_conv2 - w_conv2_dnn).pow(2).mean()\n",
    "    \n",
    "    optimizer.zero_grad()\n",
    "    nll.backward()  # Do not use retain_graph=True\n",
    "    optimizer.step()\n",
    "\n",
    "    mu_log.append(mu.mean().item())\n",
    "    \n",
    "    losses.append(nll.item())\n",
    "    \n",
    "    mean_loss.append(np.mean(losses))\n",
    "\n",
    "plt.figure(figsize=(5,5))\n",
    "# plt.subplot(1,3,1)\n",
    "# plt.imshow(cov_not_optimized[:9,:9])\n",
    "# plt.title('Covariance matrix (not optimized)')\n",
    "\n",
    "# plt.subplot(1,3,2)\n",
    "# i=1\n",
    "# plt.imshow(bnn_multi.conv1.get_covariance_matrix().cpu().detach().numpy()[:,:][:9*i,:9*i])\n",
    "# plt.title('Covariance matrix (optimized)')\n",
    "# plt.colorbar()\n",
    "# plt.subplot(1,3,3)\n",
    "plt.plot(mean_loss[:])\n",
    "plt.grid()\n",
    "plt.title('Loss')\n"
   ]
  },
  {
   "cell_type": "code",
   "execution_count": null,
   "metadata": {},
   "outputs": [],
   "source": [
    "import torch\n",
    "import matplotlib.pyplot as plt\n",
    "\n",
    "# Sample the weights\n",
    "weight_dist_conv1 = torch.distributions.MultivariateNormal(\n",
    "    bnn_multi.conv1.mu_kernel.view(-1),\n",
    "    bnn_multi.conv1.get_covariance_matrix() +  epslion * torch.eye(c_in_conv1 * c_out_conv1 * k_conv1 * k_conv1).to(device)\n",
    ")\n",
    "\n",
    "w_bnn_conv1 = weight_dist_conv1.rsample().reshape(6, 1, 3, 3).view(-1)\n",
    "w_dnn_conv1 = dnn.conv1.weight.data.view(-1)\n",
    "\n",
    "weight_dist_conv2 = torch.distributions.MultivariateNormal(\n",
    "    bnn_multi.conv2.mu_kernel.view(-1),\n",
    "    bnn_multi.conv2.get_covariance_matrix() +  epslion * torch.eye(c_in_conv2 * c_out_conv2 * k_conv2 * k_conv2).to(device)\n",
    ")    \n",
    "\n",
    "w_bnn_conv2 = weight_dist_conv2.rsample().reshape(16, 6, 3, 3).view(-1)\n",
    "w_dnn_conv2 = dnn.conv2.weight.data.view(-1)\n",
    "\n",
    "# Visualize the difference using vertical lines\n",
    "\n",
    "plt.figure(figsize=(10, 10))\n",
    "plt.subplot(2,2,1)\n",
    "x = range(len(w_dnn_conv1.cpu().detach().numpy()))\n",
    "\n",
    "# Plot DNN weights with thicker lines\n",
    "plt.vlines(x, ymin=0, ymax=w_dnn_conv1.cpu().detach().numpy(), color='r', linewidth=3, label='DNN')\n",
    "\n",
    "# Plot BNN weights with thinner lines\n",
    "plt.vlines(x, ymin=0, ymax=w_bnn_conv1.cpu().detach().numpy(), color='b', linewidth=1, label='BNN')\n",
    "\n",
    "plt.legend()\n",
    "plt.grid()\n",
    "plt.title('DNN and BNN Weight Differences (Conv1)')\n",
    "plt.xlabel('Weight Index')\n",
    "plt.ylabel('Weight Value')\n",
    "\n",
    "plt.subplot(2,2,2)\n",
    "x = range(len(w_dnn_conv2.cpu().detach().numpy()))\n",
    "\n",
    "# Plot DNN weights with thicker lines\n",
    "plt.vlines(x, ymin=0, ymax=w_dnn_conv2.cpu().detach().numpy(), color='r', linewidth=3, label='DNN')\n",
    "\n",
    "# Plot BNN weights with thinner lines\n",
    "plt.vlines(x, ymin=0, ymax=w_bnn_conv2.cpu().detach().numpy(), color='b', linewidth=1, label='BNN')\n",
    "\n",
    "plt.legend()\n",
    "plt.grid()\n",
    "plt.title('DNN and BNN Weight Differences (Conv2)')\n",
    "plt.xlabel('Weight Index')\n",
    "plt.ylabel('Weight Value')\n",
    "\n",
    "plt.subplot(2,2,3)\n",
    "x = range(len(w_dnn_conv1.cpu().detach().numpy()))\n",
    "\n",
    "# Plot differences\n",
    "plt.vlines(x, ymin=0, ymax=(w_bnn_conv1 - w_dnn_conv1).abs().cpu().detach().numpy(), color='b', linewidth=1, label='BNN')\n",
    "\n",
    "plt.legend()\n",
    "plt.grid()\n",
    "plt.title('DNN and BNN Weight Differences (Conv1)')\n",
    "plt.xlabel('Weight Index')\n",
    "plt.ylabel('Diff (Abs)')\n",
    "plt.ylim(0,3)\n",
    "\n",
    "plt.subplot(2,2,4)\n",
    "x = range(len(w_dnn_conv2.cpu().detach().numpy()))\n",
    "\n",
    "# Plot differences\n",
    "plt.vlines(x, ymin=0, ymax=(w_bnn_conv2 - w_dnn_conv2).abs().cpu().detach().numpy(), color='b', linewidth=1, label='BNN')\n",
    "\n",
    "plt.legend()\n",
    "plt.grid()\n",
    "plt.title('DNN and BNN Weight Differences (Conv2)')\n",
    "plt.xlabel('Weight Index')\n",
    "plt.ylabel('Diff (Abs)')\n",
    "plt.ylim(0,3)\n",
    "\n",
    "plt.show()\n",
    "\n"
   ]
  },
  {
   "cell_type": "markdown",
   "metadata": {},
   "source": [
    "### cov = I"
   ]
  },
  {
   "cell_type": "code",
   "execution_count": null,
   "metadata": {},
   "outputs": [],
   "source": [
    "\n",
    "device = torch.device('cuda' if torch.cuda.is_available() else 'cpu')\n",
    "bnn_multi = LeNet_BNN().to(device)\n",
    "optimizer = optim.Adam(bnn_multi.parameters(), lr=1e-3)\n",
    "\n",
    "mu_log = []\n",
    "losses = []\n",
    "mean_loss = []\n",
    "for idx, _ in tqdm(enumerate(range(10000))):\n",
    "    w_conv1_dnn = dnn.conv1.weight.data.to(device)\n",
    "    w_conv2_dnn = dnn.conv2.weight.data.to(device)\n",
    "    \n",
    "    c_in_conv1, c_out_conv1, k_conv1, _ = w_conv1_dnn.size()\n",
    "    c_in_conv2, c_out_conv2, k_conv2, _ = w_conv2_dnn.size()\n",
    "    \n",
    "    mu_bnn_conv1 = bnn_multi.conv1.mu_kernel\n",
    "    mu_flat_conv1 = mu_bnn_conv1.view(-1)\n",
    "    \n",
    "    mu_bnn_conv2 = bnn_multi.conv2.mu_kernel\n",
    "    mu_flat_conv2 = mu_bnn_conv2.view(-1)\n",
    "    \n",
    "    w_flat_conv1 = w_conv1_dnn.view(-1)\n",
    "    w_flat_conv2 = w_conv2_dnn.view(-1)\n",
    "\n",
    "    epslion = 1e-6\n",
    "    cov_1 = torch.eye(c_in_conv1 * c_out_conv1 * k_conv1 * k_conv1).to(device)\n",
    "    cov_2 = torch.eye(c_in_conv2 * c_out_conv2 * k_conv2 * k_conv2).to(device)\n",
    "    \n",
    "    # Sampling the weight\n",
    "    w_bnn_conv1 = torch.distributions.MultivariateNormal(mu_flat_conv1, cov_1).rsample().reshape(c_in_conv1, c_out_conv1, k_conv1, k_conv1)\n",
    "    w_bnn_conv2 = torch.distributions.MultivariateNormal(mu_flat_conv2, cov_2).rsample().reshape(c_in_conv2, c_out_conv2, k_conv2, k_conv2)\n",
    "\n",
    "    nll = (w_bnn_conv1 - w_conv1_dnn).pow(2).mean()\n",
    "    nll += (w_bnn_conv2 - w_conv2_dnn).pow(2).mean()\n",
    "    \n",
    "    optimizer.zero_grad()\n",
    "    nll.backward()  # Do not use retain_graph=True\n",
    "    optimizer.step()\n",
    "\n",
    "    mu_log.append(mu.mean().item())\n",
    "    \n",
    "    losses.append(nll.item())\n",
    "    \n",
    "    mean_loss.append(np.mean(losses))\n",
    "\n",
    "plt.figure(figsize=(5,5))\n",
    "# plt.subplot(1,3,1)\n",
    "# plt.imshow(cov_not_optimized[:9,:9])\n",
    "# plt.title('Covariance matrix (not optimized)')\n",
    "\n",
    "# plt.subplot(1,3,2)\n",
    "# i=1\n",
    "# plt.imshow(bnn_multi.conv1.get_covariance_matrix().cpu().detach().numpy()[:,:][:9*i,:9*i])\n",
    "# plt.title('Covariance matrix (optimized)')\n",
    "# plt.colorbar()\n",
    "# plt.subplot(1,3,3)\n",
    "plt.plot(mean_loss[:])\n",
    "plt.grid()\n",
    "plt.title('Loss')\n"
   ]
  },
  {
   "cell_type": "code",
   "execution_count": null,
   "metadata": {},
   "outputs": [],
   "source": []
  },
  {
   "cell_type": "code",
   "execution_count": null,
   "metadata": {},
   "outputs": [],
   "source": [
    "import torch\n",
    "import matplotlib.pyplot as plt\n",
    "\n",
    "# Sample the weights\n",
    "weight_dist_conv1 = torch.distributions.MultivariateNormal(\n",
    "    bnn_multi.conv1.mu_kernel.view(-1),\n",
    "    torch.eye(c_in_conv1 * c_out_conv1 * k_conv1 * k_conv1).to(device)\n",
    ")\n",
    "\n",
    "w_bnn_conv1 = weight_dist_conv1.rsample().reshape(6, 1, 3, 3).view(-1)\n",
    "w_dnn_conv1 = dnn.conv1.weight.data.view(-1)\n",
    "\n",
    "weight_dist_conv2 = torch.distributions.MultivariateNormal(\n",
    "    bnn_multi.conv2.mu_kernel.view(-1),\n",
    "    torch.eye(c_in_conv2 * c_out_conv2 * k_conv2 * k_conv2).to(device)\n",
    ")    \n",
    "\n",
    "w_bnn_conv2 = weight_dist_conv2.rsample().reshape(16, 6, 3, 3).view(-1)\n",
    "w_dnn_conv2 = dnn.conv2.weight.data.view(-1)\n",
    "\n",
    "# Visualize the difference using vertical lines\n",
    "\n",
    "plt.figure(figsize=(10, 10))\n",
    "plt.subplot(2,2,1)\n",
    "x = range(len(w_dnn_conv1.cpu().detach().numpy()))\n",
    "\n",
    "# Plot DNN weights with thicker lines\n",
    "plt.vlines(x, ymin=0, ymax=w_dnn_conv1.cpu().detach().numpy(), color='r', linewidth=3, label='DNN')\n",
    "\n",
    "# Plot BNN weights with thinner lines\n",
    "plt.vlines(x, ymin=0, ymax=w_bnn_conv1.cpu().detach().numpy(), color='b', linewidth=1, label='BNN')\n",
    "\n",
    "plt.legend()\n",
    "plt.grid()\n",
    "plt.title('DNN and BNN Weight Differences (Conv1)')\n",
    "plt.xlabel('Weight Index')\n",
    "plt.ylabel('Weight Value')\n",
    "\n",
    "plt.subplot(2,2,2)\n",
    "x = range(len(w_dnn_conv2.cpu().detach().numpy()))\n",
    "\n",
    "# Plot DNN weights with thicker lines\n",
    "plt.vlines(x, ymin=0, ymax=w_dnn_conv2.cpu().detach().numpy(), color='r', linewidth=3, label='DNN')\n",
    "\n",
    "# Plot BNN weights with thinner lines\n",
    "plt.vlines(x, ymin=0, ymax=w_bnn_conv2.cpu().detach().numpy(), color='b', linewidth=1, label='BNN')\n",
    "\n",
    "plt.legend()\n",
    "plt.grid()\n",
    "plt.title('DNN and BNN Weight Differences (Conv2)')\n",
    "plt.xlabel('Weight Index')\n",
    "plt.ylabel('Weight Value')\n",
    "\n",
    "plt.subplot(2,2,3)\n",
    "x = range(len(w_dnn_conv1.cpu().detach().numpy()))\n",
    "\n",
    "# Plot differences\n",
    "plt.vlines(x, ymin=0, ymax=(w_bnn_conv1 - w_dnn_conv1).abs().cpu().detach().numpy(), color='b', linewidth=1, label='BNN')\n",
    "\n",
    "plt.legend()\n",
    "plt.grid()\n",
    "plt.title('DNN and BNN Weight Differences (Conv1)')\n",
    "plt.xlabel('Weight Index')\n",
    "plt.ylabel('Diff (Abs)')\n",
    "plt.ylim(0,3)\n",
    "\n",
    "plt.subplot(2,2,4)\n",
    "x = range(len(w_dnn_conv2.cpu().detach().numpy()))\n",
    "\n",
    "# Plot differences\n",
    "plt.vlines(x, ymin=0, ymax=(w_bnn_conv2 - w_dnn_conv2).abs().cpu().detach().numpy(), color='b', linewidth=1, label='BNN')\n",
    "\n",
    "plt.legend()\n",
    "plt.grid()\n",
    "plt.title('DNN and BNN Weight Differences (Conv2)')\n",
    "plt.xlabel('Weight Index')\n",
    "plt.ylabel('Diff (Abs)')\n",
    "plt.ylim(0,3)\n",
    "\n",
    "plt.show()\n",
    "\n"
   ]
  },
  {
   "cell_type": "markdown",
   "metadata": {},
   "source": [
    "### Cov randomly initialized"
   ]
  },
  {
   "cell_type": "code",
   "execution_count": 15,
   "metadata": {},
   "outputs": [
    {
     "name": "stderr",
     "output_type": "stream",
     "text": [
      "10000it [00:51, 195.04it/s]\n"
     ]
    },
    {
     "data": {
      "text/plain": [
       "Text(0.5, 1.0, 'Loss')"
      ]
     },
     "execution_count": 15,
     "metadata": {},
     "output_type": "execute_result"
    },
    {
     "data": {
      "image/png": "[encoded data removed]",
      "text/plain": [
       "<Figure size 500x500 with 1 Axes>"
      ]
     },
     "metadata": {},
     "output_type": "display_data"
    }
   ],
   "source": [
    "\n",
    "device = torch.device('cuda' if torch.cuda.is_available() else 'cpu')\n",
    "bnn_multi = LeNet_BNN().to(device)\n",
    "optimizer = optim.Adam([bnn_multi.conv1.mu_kernel, bnn_multi.conv2.mu_kernel], lr=1e-3)\n",
    "\n",
    "mu_log = []\n",
    "losses = []\n",
    "mean_loss = []\n",
    "for idx, _ in tqdm(enumerate(range(10000))):\n",
    "    w_conv1_dnn = dnn.conv1.weight.data.to(device)\n",
    "    w_conv2_dnn = dnn.conv2.weight.data.to(device)\n",
    "    \n",
    "    c_in_conv1, c_out_conv1, k_conv1, _ = w_conv1_dnn.size()\n",
    "    c_in_conv2, c_out_conv2, k_conv2, _ = w_conv2_dnn.size()\n",
    "    \n",
    "    mu_bnn_conv1 = bnn_multi.conv1.mu_kernel\n",
    "    mu_flat_conv1 = mu_bnn_conv1.view(-1)\n",
    "    \n",
    "    mu_bnn_conv2 = bnn_multi.conv2.mu_kernel\n",
    "    mu_flat_conv2 = mu_bnn_conv2.view(-1)\n",
    "    \n",
    "    w_flat_conv1 = w_conv1_dnn.view(-1)\n",
    "    w_flat_conv2 = w_conv2_dnn.view(-1)\n",
    "\n",
    "    epslion = 1e-6\n",
    "    cov_1 = bnn_multi.conv1.get_covariance_matrix()\n",
    "    cov_2 = bnn_multi.conv2.get_covariance_matrix()\n",
    "    \n",
    "    # Sampling the weight\n",
    "    w_bnn_conv1 = torch.distributions.MultivariateNormal(mu_flat_conv1, cov_1).rsample().reshape(c_in_conv1, c_out_conv1, k_conv1, k_conv1)\n",
    "    w_bnn_conv2 = torch.distributions.MultivariateNormal(mu_flat_conv2, cov_2).rsample().reshape(c_in_conv2, c_out_conv2, k_conv2, k_conv2)\n",
    "\n",
    "    nll = (w_bnn_conv1 - w_conv1_dnn).pow(2).mean()\n",
    "    nll += (w_bnn_conv2 - w_conv2_dnn).pow(2).mean()\n",
    "    \n",
    "    optimizer.zero_grad()\n",
    "    nll.backward()  # Do not use retain_graph=True\n",
    "    optimizer.step()\n",
    "\n",
    "    mu_log.append(mu_bnn_conv1.mean().item() + mu_bnn_conv2.mean().item())\n",
    "    \n",
    "    losses.append(nll.item())\n",
    "    \n",
    "    mean_loss.append(np.mean(losses))\n",
    "\n",
    "plt.figure(figsize=(5,5))\n",
    "# plt.subplot(1,3,1)\n",
    "# plt.imshow(cov_not_optimized[:9,:9])\n",
    "# plt.title('Covariance matrix (not optimized)')\n",
    "\n",
    "# plt.subplot(1,3,2)\n",
    "# i=1\n",
    "# plt.imshow(bnn_multi.conv1.get_covariance_matrix().cpu().detach().numpy()[:,:][:9*i,:9*i])\n",
    "# plt.title('Covariance matrix (optimized)')\n",
    "# plt.colorbar()\n",
    "# plt.subplot(1,3,3)\n",
    "plt.plot(mean_loss[:])\n",
    "plt.grid()\n",
    "plt.title('Loss')\n"
   ]
  },
  {
   "cell_type": "code",
   "execution_count": 16,
   "metadata": {},
   "outputs": [
    {
     "data": {
      "image/png": "[encoded data removed]",
      "text/plain": [
       "<Figure size 1000x1000 with 4 Axes>"
      ]
     },
     "metadata": {},
     "output_type": "display_data"
    }
   ],
   "source": [
    "import torch\n",
    "import matplotlib.pyplot as plt\n",
    "\n",
    "# Sample the weights\n",
    "weight_dist_conv1 = torch.distributions.MultivariateNormal(\n",
    "    bnn_multi.conv1.mu_kernel.view(-1),\n",
    "    bnn_multi.conv1.get_covariance_matrix() +  epslion * torch.eye(c_in_conv1 * c_out_conv1 * k_conv1 * k_conv1).to(device)\n",
    ")\n",
    "\n",
    "w_bnn_conv1 = weight_dist_conv1.rsample().reshape(6, 1, 3, 3).view(-1)\n",
    "w_dnn_conv1 = dnn.conv1.weight.data.view(-1)\n",
    "\n",
    "weight_dist_conv2 = torch.distributions.MultivariateNormal(\n",
    "    bnn_multi.conv2.mu_kernel.view(-1),\n",
    "    bnn_multi.conv2.get_covariance_matrix() +  epslion * torch.eye(c_in_conv2 * c_out_conv2 * k_conv2 * k_conv2).to(device)\n",
    ")    \n",
    "\n",
    "w_bnn_conv2 = weight_dist_conv2.rsample().reshape(16, 6, 3, 3).view(-1)\n",
    "w_dnn_conv2 = dnn.conv2.weight.data.view(-1)\n",
    "\n",
    "# Visualize the difference using vertical lines\n",
    "\n",
    "plt.figure(figsize=(10, 10))\n",
    "plt.subplot(2,2,1)\n",
    "x = range(len(w_dnn_conv1.cpu().detach().numpy()))\n",
    "\n",
    "# Plot DNN weights with thicker lines\n",
    "plt.vlines(x, ymin=0, ymax=w_dnn_conv1.cpu().detach().numpy(), color='r', linewidth=3, label='DNN')\n",
    "\n",
    "# Plot BNN weights with thinner lines\n",
    "plt.vlines(x, ymin=0, ymax=w_bnn_conv1.cpu().detach().numpy(), color='b', linewidth=1, label='BNN')\n",
    "\n",
    "plt.legend()\n",
    "plt.grid()\n",
    "plt.title('DNN and BNN Weight Differences (Conv1)')\n",
    "plt.xlabel('Weight Index')\n",
    "plt.ylabel('Weight Value')\n",
    "\n",
    "plt.subplot(2,2,2)\n",
    "x = range(len(w_dnn_conv2.cpu().detach().numpy()))\n",
    "\n",
    "# Plot DNN weights with thicker lines\n",
    "plt.vlines(x, ymin=0, ymax=w_dnn_conv2.cpu().detach().numpy(), color='r', linewidth=3, label='DNN')\n",
    "\n",
    "# Plot BNN weights with thinner lines\n",
    "plt.vlines(x, ymin=0, ymax=w_bnn_conv2.cpu().detach().numpy(), color='b', linewidth=1, label='BNN')\n",
    "\n",
    "plt.legend()\n",
    "plt.grid()\n",
    "plt.title('DNN and BNN Weight Differences (Conv2)')\n",
    "plt.xlabel('Weight Index')\n",
    "plt.ylabel('Weight Value')\n",
    "\n",
    "plt.subplot(2,2,3)\n",
    "x = range(len(w_dnn_conv1.cpu().detach().numpy()))\n",
    "\n",
    "# Plot differences\n",
    "plt.vlines(x, ymin=0, ymax=(w_bnn_conv1 - w_dnn_conv1).abs().cpu().detach().numpy(), color='b', linewidth=1, label='BNN')\n",
    "\n",
    "plt.legend()\n",
    "plt.grid()\n",
    "plt.title('DNN and BNN Weight Differences (Conv1)')\n",
    "plt.xlabel('Weight Index')\n",
    "plt.ylabel('Diff (Abs)')\n",
    "plt.ylim(0,3)\n",
    "\n",
    "plt.subplot(2,2,4)\n",
    "x = range(len(w_dnn_conv2.cpu().detach().numpy()))\n",
    "\n",
    "# Plot differences\n",
    "plt.vlines(x, ymin=0, ymax=(w_bnn_conv2 - w_dnn_conv2).abs().cpu().detach().numpy(), color='b', linewidth=1, label='BNN')\n",
    "\n",
    "plt.legend()\n",
    "plt.grid()\n",
    "plt.title('DNN and BNN Weight Differences (Conv2)')\n",
    "plt.xlabel('Weight Index')\n",
    "plt.ylabel('Diff (Abs)')\n",
    "plt.ylim(0,3)\n",
    "\n",
    "plt.show()\n",
    "\n"
   ]
  },
  {
   "cell_type": "markdown",
   "metadata": {},
   "source": [
    "### Set the Prior distribution using the learned covariance matrix"
   ]
  },
  {
   "cell_type": "code",
   "execution_count": 1,
   "metadata": {},
   "outputs": [
    {
     "data": {
      "text/plain": [
       "(0.9848, 0.046528087556362153)"
      ]
     },
     "execution_count": 1,
     "metadata": {},
     "output_type": "execute_result"
    }
   ],
   "source": [
    "import torch\n",
    "import torch.nn as nn\n",
    "import torch.nn.functional as F\n",
    "import torch.optim as optim\n",
    "import numpy as np\n",
    "import matplotlib.pyplot as plt\n",
    "from torchvision import datasets, transforms\n",
    "from tqdm import tqdm\n",
    "\n",
    "from models import LeNet_BNN, LeNet_BNN_uni, LeNet\n",
    "from utils import train_BNN, train_DNN, test_BNN, test_DNN\n",
    "device = torch.device(\"cuda:0\" if torch.cuda.is_available() else \"cpu\")\n",
    "\n",
    "dnn = LeNet()\n",
    "dnn.load_state_dict(torch.load('runs/dnn_bs1024_lr0.001_mc100_temp_1.0_ep100_20240711-160323/best_model.pth'))\n",
    "\n",
    "# MNIST dataset\n",
    "train_dataset = datasets.MNIST(root='./data/', train=True, transform=transforms.ToTensor(), download=True)\n",
    "test_dataset = datasets.MNIST(root='./data/', train=False, transform=transforms.ToTensor())\n",
    "\n",
    "train_loader = torch.utils.data.DataLoader(dataset=train_dataset, batch_size=1024, shuffle=True, num_workers=4, pin_memory=True)\n",
    "test_loader = torch.utils.data.DataLoader(dataset=test_dataset, batch_size=1024, shuffle=False, num_workers=4, pin_memory=True)\n",
    "\n",
    "test_DNN(dnn, test_loader)\n"
   ]
  },
  {
   "cell_type": "code",
   "execution_count": 2,
   "metadata": {},
   "outputs": [
    {
     "data": {
      "text/plain": [
       "(0.9853, 0.04415414296090603)"
      ]
     },
     "execution_count": 2,
     "metadata": {},
     "output_type": "execute_result"
    }
   ],
   "source": [
    "dnn = LeNet().to(device)\n",
    "dnn.load_state_dict(torch.load('runs/dnn_bs1024_lr0.001_mc100_ep100_20240710-202543/best_model.pth'))\n",
    "\n",
    "test_DNN(dnn, test_loader)"
   ]
  },
  {
   "cell_type": "code",
   "execution_count": 3,
   "metadata": {},
   "outputs": [
    {
     "name": "stderr",
     "output_type": "stream",
     "text": [
      "10000it [01:08, 146.61it/s]\n"
     ]
    },
    {
     "data": {
      "text/plain": [
       "Text(0.5, 1.0, 'Loss')"
      ]
     },
     "execution_count": 3,
     "metadata": {},
     "output_type": "execute_result"
    },
    {
     "data": {
      "image/png": "[encoded data removed]",
      "text/plain": [
       "<Figure size 500x500 with 1 Axes>"
      ]
     },
     "metadata": {},
     "output_type": "display_data"
    }
   ],
   "source": [
    "\n",
    "device = torch.device('cuda' if torch.cuda.is_available() else 'cpu')\n",
    "bnn_multi = LeNet_BNN().to(device)\n",
    "optimizer = optim.Adam(bnn_multi.parameters(), lr=1e-3)\n",
    "\n",
    "mu_log = []\n",
    "losses = []\n",
    "mean_loss = []\n",
    "for idx, _ in tqdm(enumerate(range(10000))):\n",
    "    w_conv1_dnn = dnn.conv1.weight.data.to(device)\n",
    "    w_conv2_dnn = dnn.conv2.weight.data.to(device)\n",
    "    \n",
    "    c_in_conv1, c_out_conv1, k_conv1, _ = w_conv1_dnn.size()\n",
    "    c_in_conv2, c_out_conv2, k_conv2, _ = w_conv2_dnn.size()\n",
    "    \n",
    "    mu_bnn_conv1 = bnn_multi.conv1.mu_kernel\n",
    "    mu_flat_conv1 = mu_bnn_conv1.view(-1)\n",
    "    \n",
    "    mu_bnn_conv2 = bnn_multi.conv2.mu_kernel\n",
    "    mu_flat_conv2 = mu_bnn_conv2.view(-1)\n",
    "    \n",
    "    w_flat_conv1 = w_conv1_dnn.view(-1)\n",
    "    w_flat_conv2 = w_conv2_dnn.view(-1)\n",
    "\n",
    "    epslion = 1e-6\n",
    "    cov_1 = bnn_multi.conv1.get_covariance_matrix() + epslion * torch.eye(c_in_conv1 * c_out_conv1 * k_conv1 * k_conv1).to(device)\n",
    "    cov_2 = bnn_multi.conv2.get_covariance_matrix() + epslion * torch.eye(c_in_conv2 * c_out_conv2 * k_conv2 * k_conv2).to(device)\n",
    "    \n",
    "    # Sampling the weight\n",
    "    w_bnn_conv1 = torch.distributions.MultivariateNormal(mu_flat_conv1, cov_1).rsample().reshape(c_in_conv1, c_out_conv1, k_conv1, k_conv1)\n",
    "    w_bnn_conv2 = torch.distributions.MultivariateNormal(mu_flat_conv2, cov_2).rsample().reshape(c_in_conv2, c_out_conv2, k_conv2, k_conv2)\n",
    "\n",
    "    nll = (w_bnn_conv1 - w_conv1_dnn).pow(2).mean()\n",
    "    nll += (w_bnn_conv2 - w_conv2_dnn).pow(2).mean()\n",
    "    \n",
    "    optimizer.zero_grad()\n",
    "    nll.backward()  # Do not use retain_graph=True\n",
    "    optimizer.step()\n",
    "\n",
    "    mu_log.append(mu_flat_conv1.mean().item() + mu_flat_conv2.mean().item())\n",
    "    \n",
    "    losses.append(nll.item())\n",
    "    \n",
    "    mean_loss.append(np.mean(losses))\n",
    "\n",
    "plt.figure(figsize=(5,5))\n",
    "# plt.subplot(1,3,1)\n",
    "# plt.imshow(cov_not_optimized[:9,:9])\n",
    "# plt.title('Covariance matrix (not optimized)')\n",
    "\n",
    "# plt.subplot(1,3,2)\n",
    "# i=1\n",
    "# plt.imshow(bnn_multi.conv1.get_covariance_matrix().cpu().detach().numpy()[:,:][:9*i,:9*i])\n",
    "# plt.title('Covariance matrix (optimized)')\n",
    "# plt.colorbar()\n",
    "# plt.subplot(1,3,3)\n",
    "plt.plot(mean_loss[:])\n",
    "plt.grid()\n",
    "plt.title('Loss')\n"
   ]
  },
  {
   "cell_type": "code",
   "execution_count": 4,
   "metadata": {},
   "outputs": [
    {
     "data": {
      "image/png": "[encoded data removed]",
      "text/plain": [
       "<Figure size 1000x1000 with 4 Axes>"
      ]
     },
     "metadata": {},
     "output_type": "display_data"
    }
   ],
   "source": [
    "import torch\n",
    "import matplotlib.pyplot as plt\n",
    "\n",
    "# Sample the weights\n",
    "weight_dist_conv1 = torch.distributions.MultivariateNormal(\n",
    "    bnn_multi.conv1.mu_kernel.view(-1),\n",
    "    bnn_multi.conv1.get_covariance_matrix() +  epslion * torch.eye(c_in_conv1 * c_out_conv1 * k_conv1 * k_conv1).to(device)\n",
    ")\n",
    "\n",
    "w_bnn_conv1 = weight_dist_conv1.rsample().reshape(6, 1, 3, 3).view(-1)\n",
    "w_dnn_conv1 = dnn.conv1.weight.data.view(-1)\n",
    "\n",
    "weight_dist_conv2 = torch.distributions.MultivariateNormal(\n",
    "    bnn_multi.conv2.mu_kernel.view(-1),\n",
    "    bnn_multi.conv2.get_covariance_matrix() +  epslion * torch.eye(c_in_conv2 * c_out_conv2 * k_conv2 * k_conv2).to(device)\n",
    ")    \n",
    "\n",
    "w_bnn_conv2 = weight_dist_conv2.rsample().reshape(16, 6, 3, 3).view(-1)\n",
    "w_dnn_conv2 = dnn.conv2.weight.data.view(-1)\n",
    "\n",
    "# Visualize the difference using vertical lines\n",
    "\n",
    "plt.figure(figsize=(10, 10))\n",
    "plt.subplot(2,2,1)\n",
    "x = range(len(w_dnn_conv1.cpu().detach().numpy()))\n",
    "\n",
    "# Plot DNN weights with thicker lines\n",
    "plt.vlines(x, ymin=0, ymax=w_dnn_conv1.cpu().detach().numpy(), color='r', linewidth=3, label='DNN')\n",
    "\n",
    "# Plot BNN weights with thinner lines\n",
    "plt.vlines(x, ymin=0, ymax=w_bnn_conv1.cpu().detach().numpy(), color='b', linewidth=1, label='BNN')\n",
    "\n",
    "plt.legend()\n",
    "plt.grid()\n",
    "plt.title('DNN and BNN Weight Differences (Conv1)')\n",
    "plt.xlabel('Weight Index')\n",
    "plt.ylabel('Weight Value')\n",
    "\n",
    "plt.subplot(2,2,2)\n",
    "x = range(len(w_dnn_conv2.cpu().detach().numpy()))\n",
    "\n",
    "# Plot DNN weights with thicker lines\n",
    "plt.vlines(x, ymin=0, ymax=w_dnn_conv2.cpu().detach().numpy(), color='r', linewidth=3, label='DNN')\n",
    "\n",
    "# Plot BNN weights with thinner lines\n",
    "plt.vlines(x, ymin=0, ymax=w_bnn_conv2.cpu().detach().numpy(), color='b', linewidth=1, label='BNN')\n",
    "\n",
    "plt.legend()\n",
    "plt.grid()\n",
    "plt.title('DNN and BNN Weight Differences (Conv2)')\n",
    "plt.xlabel('Weight Index')\n",
    "plt.ylabel('Weight Value')\n",
    "\n",
    "plt.subplot(2,2,3)\n",
    "x = range(len(w_dnn_conv1.cpu().detach().numpy()))\n",
    "\n",
    "# Plot differences\n",
    "plt.vlines(x, ymin=0, ymax=(w_bnn_conv1 - w_dnn_conv1).abs().cpu().detach().numpy(), color='b', linewidth=1, label='BNN')\n",
    "\n",
    "plt.legend()\n",
    "plt.grid()\n",
    "plt.title('DNN and BNN Weight Differences (Conv1)')\n",
    "plt.xlabel('Weight Index')\n",
    "plt.ylabel('Diff (Abs)')\n",
    "plt.ylim(0,3)\n",
    "\n",
    "plt.subplot(2,2,4)\n",
    "x = range(len(w_dnn_conv2.cpu().detach().numpy()))\n",
    "\n",
    "# Plot differences\n",
    "plt.vlines(x, ymin=0, ymax=(w_bnn_conv2 - w_dnn_conv2).abs().cpu().detach().numpy(), color='b', linewidth=1, label='BNN')\n",
    "\n",
    "plt.legend()\n",
    "plt.grid()\n",
    "plt.title('DNN and BNN Weight Differences (Conv2)')\n",
    "plt.xlabel('Weight Index')\n",
    "plt.ylabel('Diff (Abs)')\n",
    "plt.ylim(0,3)\n",
    "\n",
    "plt.show()\n",
    "\n"
   ]
  },
  {
   "cell_type": "code",
   "execution_count": 5,
   "metadata": {},
   "outputs": [],
   "source": [
    "import torch\n",
    "\n",
    "if torch.any(torch.isnan(mu_flat_conv2)) or torch.any(torch.isinf(mu_flat_conv2)):\n",
    "    raise ValueError(\"mu_flat tensor contains NaN or Inf values\")\n",
    "\n",
    "if torch.any(torch.isnan(cov_2)) or torch.any(torch.isinf(cov_2)):\n",
    "    raise ValueError(\"covariance matrix contains NaN or Inf values\")\n"
   ]
  },
  {
   "cell_type": "code",
   "execution_count": 6,
   "metadata": {},
   "outputs": [
    {
     "data": {
      "text/plain": [
       "torch.Size([864])"
      ]
     },
     "execution_count": 6,
     "metadata": {},
     "output_type": "execute_result"
    }
   ],
   "source": [
    "mu_flat_conv2.shape"
   ]
  },
  {
   "cell_type": "code",
   "execution_count": 7,
   "metadata": {},
   "outputs": [
    {
     "data": {
      "text/plain": [
       "<matplotlib.image.AxesImage at 0x7f98fcaf7be0>"
      ]
     },
     "execution_count": 7,
     "metadata": {},
     "output_type": "execute_result"
    },
    {
     "data": {
      "image/png": "[encoded data removed]",
      "text/plain": [
       "<Figure size 640x480 with 2 Axes>"
      ]
     },
     "metadata": {},
     "output_type": "display_data"
    }
   ],
   "source": [
    "\n",
    "bnn_with_good_prior = LeNet_BNN().to(device) \n",
    "\n",
    "'''\n",
    "bnn_with_good_prior.conv1.prior_mean = bnn.conv1.mu_kernel.detach().clone().flatten()\n",
    "bnn_with_good_prior.conv1.prior_variance = bnn_with_good_prior.conv1.get_covariance_matrix(bnn.conv1.L_param.detach().clone(), bnn.conv1.B_param.detach().clone())\n",
    "\n",
    "    epslion = 1e-6\n",
    "    cov_1 = bnn_multi.conv1.get_covariance_matrix() + epslion * torch.eye(c_in_conv1 * c_out_conv1 * k_conv1 * k_conv1).to(device)\n",
    "    cov_2 = bnn_multi.conv2.get_covariance_matrix() + epslion * torch.eye(c_in_conv2 * c_out_conv2 * k_conv2 * k_conv2).to(device)\n",
    "    \n",
    "'''\n",
    "epslion = 1e-6\n",
    "\n",
    "bnn_with_good_prior.conv1.prior_mean = bnn_multi.conv1.mu_kernel.detach().clone().flatten()\n",
    "bnn_with_good_prior.conv1.prior_variance = bnn_multi.conv1.get_covariance_matrix().detach().clone() + epslion * torch.eye(c_in_conv1 * c_out_conv1 * k_conv1 * k_conv1).to(device)\n",
    "\n",
    "bnn_with_good_prior.conv2.prior_mean = bnn_multi.conv2.mu_kernel.detach().clone().flatten()\n",
    "bnn_with_good_prior.conv2.prior_variance = bnn_multi.conv2.get_covariance_matrix().detach().clone() + epslion * torch.eye(c_in_conv2 * c_out_conv2 * k_conv2 * k_conv2).to(device)\n",
    "\n",
    "bnn_with_good_prior.conv1.mu_kernel = bnn_multi.conv1.mu_kernel\n",
    "# bnn_with_good_prior.conv1.L_param = bnn_multi.conv1.L_param\n",
    "\n",
    "bnn_with_good_prior.conv2.mu_kernel = bnn_multi.conv2.mu_kernel\n",
    "# bnn_with_good_prior.conv2.L_param = bnn_multi.conv2.L_param\n",
    "\n",
    "bnn_with_good_prior.fc1 = dnn.fc1\n",
    "\n",
    "plt.subplot(1,3,1)\n",
    "plt.imshow(bnn_with_good_prior.conv1.prior_variance.cpu().detach().numpy())\n",
    "# plt.colorbar()\n",
    "\n",
    "plt.subplot(1,3,2)\n",
    "plt.imshow(bnn_with_good_prior.conv2.prior_variance.cpu().detach().numpy())\n",
    "\n",
    "# plt.subplot(1,3,3)\n",
    "# plt.imshow(bnn_with_good_prior.fc1.prior_variance.cpu().detach().numpy())\n",
    "# plt.colorbar()"
   ]
  },
  {
   "cell_type": "code",
   "execution_count": 8,
   "metadata": {},
   "outputs": [
    {
     "name": "stderr",
     "output_type": "stream",
     "text": [
      "\u001b[34m[Train] Epoch: 0/100, Acc: 0.77680, NNL: 1.58277 KL: 21679.51327\u001b[0m: : 59it [01:53,  1.92s/it]\n"
     ]
    },
    {
     "name": "stdout",
     "output_type": "stream",
     "text": [
      "\u001b[33m[Test] Acc: 0.91560, NNL: 0.36475, KL: 6181.11035\u001b[0m\n",
      "\u001b[32mBest model saved at epoch 0\u001b[0m\n"
     ]
    },
    {
     "name": "stderr",
     "output_type": "stream",
     "text": [
      "\u001b[34m[Train] Epoch: 1/100, Acc: 0.92463, NNL: 0.29301 KL: 3759.80858\u001b[0m: : 59it [01:52,  1.90s/it]\n"
     ]
    },
    {
     "name": "stdout",
     "output_type": "stream",
     "text": [
      "\u001b[33m[Test] Acc: 0.91560, NNL: 0.33654, KL: 2361.58521\u001b[0m\n",
      "\u001b[32mBest model saved at epoch 1\u001b[0m\n"
     ]
    },
    {
     "name": "stderr",
     "output_type": "stream",
     "text": [
      "\u001b[34m[Train] Epoch: 2/100, Acc: 0.94665, NNL: 0.18841 KL: 1813.23185\u001b[0m: : 59it [01:53,  1.93s/it]\n"
     ]
    },
    {
     "name": "stdout",
     "output_type": "stream",
     "text": [
      "\u001b[33m[Test] Acc: 0.94430, NNL: 0.22208, KL: 1400.84937\u001b[0m\n",
      "\u001b[32mBest model saved at epoch 2\u001b[0m\n"
     ]
    },
    {
     "name": "stderr",
     "output_type": "stream",
     "text": [
      "\u001b[34m[Train] Epoch: 3/100, Acc: 0.95763, NNL: 0.14214 KL: 1165.32894\u001b[0m: : 59it [01:52,  1.90s/it]\n"
     ]
    },
    {
     "name": "stdout",
     "output_type": "stream",
     "text": [
      "\u001b[33m[Test] Acc: 0.96870, NNL: 0.11852, KL: 968.46216\u001b[0m\n",
      "\u001b[32mBest model saved at epoch 3\u001b[0m\n"
     ]
    },
    {
     "name": "stderr",
     "output_type": "stream",
     "text": [
      "\u001b[34m[Train] Epoch: 4/100, Acc: 0.96567, NNL: 0.11291 KL: 837.59309\u001b[0m: : 59it [01:49,  1.85s/it]\n"
     ]
    },
    {
     "name": "stdout",
     "output_type": "stream",
     "text": [
      "\u001b[33m[Test] Acc: 0.96400, NNL: 0.12917, KL: 722.56641\u001b[0m\n",
      "\u001b[32mBest model saved at epoch 4\u001b[0m\n"
     ]
    },
    {
     "name": "stderr",
     "output_type": "stream",
     "text": [
      "\u001b[34m[Train] Epoch: 5/100, Acc: 0.96787, NNL: 0.10671 KL: 639.87646\u001b[0m: : 59it [01:49,  1.86s/it]\n"
     ]
    },
    {
     "name": "stdout",
     "output_type": "stream",
     "text": [
      "\u001b[33m[Test] Acc: 0.96820, NNL: 0.11442, KL: 565.02911\u001b[0m\n",
      "\u001b[32mBest model saved at epoch 5\u001b[0m\n"
     ]
    },
    {
     "name": "stderr",
     "output_type": "stream",
     "text": [
      "\u001b[34m[Train] Epoch: 6/100, Acc: 0.97173, NNL: 0.09211 KL: 508.53697\u001b[0m: : 59it [01:48,  1.84s/it]\n"
     ]
    },
    {
     "name": "stdout",
     "output_type": "stream",
     "text": [
      "\u001b[33m[Test] Acc: 0.97020, NNL: 0.09802, KL: 456.38708\u001b[0m\n",
      "\u001b[32mBest model saved at epoch 6\u001b[0m\n"
     ]
    },
    {
     "name": "stderr",
     "output_type": "stream",
     "text": [
      "\u001b[34m[Train] Epoch: 7/100, Acc: 0.97215, NNL: 0.08928 KL: 415.67010\u001b[0m: : 59it [01:49,  1.85s/it]\n"
     ]
    },
    {
     "name": "stdout",
     "output_type": "stream",
     "text": [
      "\u001b[33m[Test] Acc: 0.97190, NNL: 0.09505, KL: 377.54068\u001b[0m\n",
      "\u001b[32mBest model saved at epoch 7\u001b[0m\n"
     ]
    },
    {
     "name": "stderr",
     "output_type": "stream",
     "text": [
      "\u001b[34m[Train] Epoch: 8/100, Acc: 0.97450, NNL: 0.08344 KL: 347.00950\u001b[0m: : 59it [01:49,  1.85s/it]\n"
     ]
    },
    {
     "name": "stdout",
     "output_type": "stream",
     "text": [
      "\u001b[33m[Test] Acc: 0.97610, NNL: 0.08295, KL: 318.10342\u001b[0m\n",
      "\u001b[32mBest model saved at epoch 8\u001b[0m\n"
     ]
    },
    {
     "name": "stderr",
     "output_type": "stream",
     "text": [
      "\u001b[34m[Train] Epoch: 9/100, Acc: 0.97572, NNL: 0.07754 KL: 294.49726\u001b[0m: : 59it [01:48,  1.85s/it]\n"
     ]
    },
    {
     "name": "stdout",
     "output_type": "stream",
     "text": [
      "\u001b[33m[Test] Acc: 0.97310, NNL: 0.08742, KL: 271.95206\u001b[0m\n",
      "\u001b[32mBest model saved at epoch 9\u001b[0m\n"
     ]
    },
    {
     "name": "stderr",
     "output_type": "stream",
     "text": [
      "\u001b[34m[Train] Epoch: 10/100, Acc: 0.97738, NNL: 0.07296 KL: 253.24776\u001b[0m: : 59it [01:49,  1.86s/it]\n"
     ]
    },
    {
     "name": "stdout",
     "output_type": "stream",
     "text": [
      "\u001b[33m[Test] Acc: 0.97710, NNL: 0.07281, KL: 235.25726\u001b[0m\n",
      "\u001b[32mBest model saved at epoch 10\u001b[0m\n"
     ]
    },
    {
     "name": "stderr",
     "output_type": "stream",
     "text": [
      "\u001b[34m[Train] Epoch: 11/100, Acc: 0.97733, NNL: 0.07159 KL: 220.13733\u001b[0m: : 59it [01:48,  1.85s/it]\n"
     ]
    },
    {
     "name": "stdout",
     "output_type": "stream",
     "text": [
      "\u001b[33m[Test] Acc: 0.97210, NNL: 0.08930, KL: 205.50871\u001b[0m\n",
      "\u001b[32mBest model saved at epoch 11\u001b[0m\n"
     ]
    },
    {
     "name": "stderr",
     "output_type": "stream",
     "text": [
      "\u001b[34m[Train] Epoch: 12/100, Acc: 0.97982, NNL: 0.06453 KL: 193.08087\u001b[0m: : 59it [01:48,  1.85s/it]\n"
     ]
    },
    {
     "name": "stdout",
     "output_type": "stream",
     "text": [
      "\u001b[33m[Test] Acc: 0.97930, NNL: 0.06826, KL: 180.99820\u001b[0m\n",
      "\u001b[32mBest model saved at epoch 12\u001b[0m\n"
     ]
    },
    {
     "name": "stderr",
     "output_type": "stream",
     "text": [
      "\u001b[34m[Train] Epoch: 13/100, Acc: 0.98043, NNL: 0.06303 KL: 170.63968\u001b[0m: : 59it [01:48,  1.84s/it]\n"
     ]
    },
    {
     "name": "stdout",
     "output_type": "stream",
     "text": [
      "\u001b[33m[Test] Acc: 0.97690, NNL: 0.07520, KL: 160.52643\u001b[0m\n",
      "\u001b[32mBest model saved at epoch 13\u001b[0m\n"
     ]
    },
    {
     "name": "stderr",
     "output_type": "stream",
     "text": [
      "\u001b[34m[Train] Epoch: 14/100, Acc: 0.98207, NNL: 0.05818 KL: 151.78848\u001b[0m: : 59it [01:47,  1.82s/it]\n"
     ]
    },
    {
     "name": "stdout",
     "output_type": "stream",
     "text": [
      "\u001b[33m[Test] Acc: 0.97920, NNL: 0.06791, KL: 143.22716\u001b[0m\n",
      "\u001b[32mBest model saved at epoch 14\u001b[0m\n"
     ]
    },
    {
     "name": "stderr",
     "output_type": "stream",
     "text": [
      "\u001b[34m[Train] Epoch: 15/100, Acc: 0.98197, NNL: 0.05654 KL: 135.78114\u001b[0m: : 59it [01:47,  1.82s/it]\n"
     ]
    },
    {
     "name": "stdout",
     "output_type": "stream",
     "text": [
      "\u001b[33m[Test] Acc: 0.97830, NNL: 0.06655, KL: 128.46277\u001b[0m\n",
      "\u001b[32mBest model saved at epoch 15\u001b[0m\n"
     ]
    },
    {
     "name": "stderr",
     "output_type": "stream",
     "text": [
      "\u001b[34m[Train] Epoch: 16/100, Acc: 0.98398, NNL: 0.05299 KL: 122.06046\u001b[0m: : 59it [01:47,  1.82s/it]\n"
     ]
    },
    {
     "name": "stdout",
     "output_type": "stream",
     "text": [
      "\u001b[33m[Test] Acc: 0.98180, NNL: 0.06251, KL: 115.75116\u001b[0m\n",
      "\u001b[32mBest model saved at epoch 16\u001b[0m\n"
     ]
    },
    {
     "name": "stderr",
     "output_type": "stream",
     "text": [
      "\u001b[34m[Train] Epoch: 17/100, Acc: 0.98377, NNL: 0.05212 KL: 110.20356\u001b[0m: : 59it [01:47,  1.82s/it]\n"
     ]
    },
    {
     "name": "stdout",
     "output_type": "stream",
     "text": [
      "\u001b[33m[Test] Acc: 0.98140, NNL: 0.05795, KL: 104.72335\u001b[0m\n",
      "\u001b[32mBest model saved at epoch 17\u001b[0m\n"
     ]
    },
    {
     "name": "stderr",
     "output_type": "stream",
     "text": [
      "\u001b[34m[Train] Epoch: 18/100, Acc: 0.98460, NNL: 0.05103 KL: 99.88299\u001b[0m: : 59it [01:47,  1.82s/it] \n"
     ]
    },
    {
     "name": "stdout",
     "output_type": "stream",
     "text": [
      "\u001b[33m[Test] Acc: 0.97850, NNL: 0.06585, KL: 95.09146\u001b[0m\n",
      "\u001b[32mBest model saved at epoch 18\u001b[0m\n"
     ]
    },
    {
     "name": "stderr",
     "output_type": "stream",
     "text": [
      "\u001b[34m[Train] Epoch: 19/100, Acc: 0.98417, NNL: 0.04950 KL: 90.84243\u001b[0m: : 59it [01:47,  1.82s/it]\n"
     ]
    },
    {
     "name": "stdout",
     "output_type": "stream",
     "text": [
      "\u001b[33m[Test] Acc: 0.98130, NNL: 0.06002, KL: 86.62811\u001b[0m\n",
      "\u001b[32mBest model saved at epoch 19\u001b[0m\n"
     ]
    },
    {
     "name": "stderr",
     "output_type": "stream",
     "text": [
      "\u001b[34m[Train] Epoch: 20/100, Acc: 0.98587, NNL: 0.04640 KL: 82.87748\u001b[0m: : 59it [01:47,  1.82s/it]\n"
     ]
    },
    {
     "name": "stdout",
     "output_type": "stream",
     "text": [
      "\u001b[33m[Test] Acc: 0.98090, NNL: 0.05745, KL: 79.15147\u001b[0m\n",
      "\u001b[32mBest model saved at epoch 20\u001b[0m\n"
     ]
    },
    {
     "name": "stderr",
     "output_type": "stream",
     "text": [
      "\u001b[34m[Train] Epoch: 21/100, Acc: 0.98548, NNL: 0.04733 KL: 75.82461\u001b[0m: : 59it [01:47,  1.82s/it]\n"
     ]
    },
    {
     "name": "stdout",
     "output_type": "stream",
     "text": [
      "\u001b[33m[Test] Acc: 0.98310, NNL: 0.05475, KL: 72.51453\u001b[0m\n",
      "\u001b[32mBest model saved at epoch 21\u001b[0m\n"
     ]
    },
    {
     "name": "stderr",
     "output_type": "stream",
     "text": [
      "\u001b[34m[Train] Epoch: 22/100, Acc: 0.98618, NNL: 0.04587 KL: 69.54999\u001b[0m: : 59it [01:47,  1.82s/it]\n"
     ]
    },
    {
     "name": "stdout",
     "output_type": "stream",
     "text": [
      "\u001b[33m[Test] Acc: 0.98340, NNL: 0.05234, KL: 66.59644\u001b[0m\n",
      "\u001b[32mBest model saved at epoch 22\u001b[0m\n"
     ]
    },
    {
     "name": "stderr",
     "output_type": "stream",
     "text": [
      "\u001b[34m[Train] Epoch: 23/100, Acc: 0.98680, NNL: 0.04471 KL: 63.94434\u001b[0m: : 59it [01:47,  1.83s/it]\n"
     ]
    },
    {
     "name": "stdout",
     "output_type": "stream",
     "text": [
      "\u001b[33m[Test] Acc: 0.98190, NNL: 0.05433, KL: 61.29844\u001b[0m\n",
      "\u001b[32mBest model saved at epoch 23\u001b[0m\n"
     ]
    },
    {
     "name": "stderr",
     "output_type": "stream",
     "text": [
      "\u001b[34m[Train] Epoch: 24/100, Acc: 0.98625, NNL: 0.04529 KL: 58.91715\u001b[0m: : 59it [01:47,  1.82s/it]\n"
     ]
    },
    {
     "name": "stdout",
     "output_type": "stream",
     "text": [
      "\u001b[33m[Test] Acc: 0.98180, NNL: 0.05983, KL: 56.53864\u001b[0m\n",
      "\u001b[32mBest model saved at epoch 24\u001b[0m\n"
     ]
    },
    {
     "name": "stderr",
     "output_type": "stream",
     "text": [
      "\u001b[34m[Train] Epoch: 25/100, Acc: 0.98627, NNL: 0.04422 KL: 54.39287\u001b[0m: : 59it [01:47,  1.82s/it]\n"
     ]
    },
    {
     "name": "stdout",
     "output_type": "stream",
     "text": [
      "\u001b[33m[Test] Acc: 0.98180, NNL: 0.05739, KL: 52.24718\u001b[0m\n",
      "\u001b[32mBest model saved at epoch 25\u001b[0m\n"
     ]
    },
    {
     "name": "stderr",
     "output_type": "stream",
     "text": [
      "\u001b[34m[Train] Epoch: 26/100, Acc: 0.98680, NNL: 0.04387 KL: 50.30786\u001b[0m: : 59it [01:46,  1.81s/it]\n"
     ]
    },
    {
     "name": "stdout",
     "output_type": "stream",
     "text": [
      "\u001b[33m[Test] Acc: 0.98360, NNL: 0.05291, KL: 48.36681\u001b[0m\n",
      "\u001b[32mBest model saved at epoch 26\u001b[0m\n"
     ]
    },
    {
     "name": "stderr",
     "output_type": "stream",
     "text": [
      "\u001b[34m[Train] Epoch: 27/100, Acc: 0.98677, NNL: 0.04307 KL: 46.60888\u001b[0m: : 59it [01:47,  1.82s/it]\n"
     ]
    },
    {
     "name": "stdout",
     "output_type": "stream",
     "text": [
      "\u001b[33m[Test] Acc: 0.98320, NNL: 0.05317, KL: 44.84790\u001b[0m\n",
      "\u001b[32mBest model saved at epoch 27\u001b[0m\n"
     ]
    },
    {
     "name": "stderr",
     "output_type": "stream",
     "text": [
      "\u001b[34m[Train] Epoch: 28/100, Acc: 0.98655, NNL: 0.04305 KL: 43.25031\u001b[0m: : 59it [01:47,  1.82s/it]\n"
     ]
    },
    {
     "name": "stdout",
     "output_type": "stream",
     "text": [
      "\u001b[33m[Test] Acc: 0.98310, NNL: 0.05063, KL: 41.64848\u001b[0m\n",
      "\u001b[32mBest model saved at epoch 28\u001b[0m\n"
     ]
    },
    {
     "name": "stderr",
     "output_type": "stream",
     "text": [
      "\u001b[34m[Train] Epoch: 29/100, Acc: 0.98822, NNL: 0.04005 KL: 40.19268\u001b[0m: : 59it [01:46,  1.81s/it]\n"
     ]
    },
    {
     "name": "stdout",
     "output_type": "stream",
     "text": [
      "\u001b[33m[Test] Acc: 0.98450, NNL: 0.05223, KL: 38.73199\u001b[0m\n",
      "\u001b[32mBest model saved at epoch 29\u001b[0m\n"
     ]
    },
    {
     "name": "stderr",
     "output_type": "stream",
     "text": [
      "\u001b[34m[Train] Epoch: 30/100, Acc: 0.98750, NNL: 0.04009 KL: 37.40293\u001b[0m: : 59it [01:47,  1.82s/it]\n"
     ]
    },
    {
     "name": "stdout",
     "output_type": "stream",
     "text": [
      "\u001b[33m[Test] Acc: 0.98280, NNL: 0.05604, KL: 36.06850\u001b[0m\n",
      "\u001b[32mBest model saved at epoch 30\u001b[0m\n"
     ]
    },
    {
     "name": "stderr",
     "output_type": "stream",
     "text": [
      "\u001b[34m[Train] Epoch: 31/100, Acc: 0.98803, NNL: 0.03996 KL: 34.85230\u001b[0m: : 59it [01:47,  1.82s/it]\n"
     ]
    },
    {
     "name": "stdout",
     "output_type": "stream",
     "text": [
      "\u001b[33m[Test] Acc: 0.98460, NNL: 0.04968, KL: 33.63033\u001b[0m\n",
      "\u001b[32mBest model saved at epoch 31\u001b[0m\n"
     ]
    },
    {
     "name": "stderr",
     "output_type": "stream",
     "text": [
      "\u001b[34m[Train] Epoch: 32/100, Acc: 0.98828, NNL: 0.03932 KL: 32.51521\u001b[0m: : 59it [01:47,  1.82s/it]\n"
     ]
    },
    {
     "name": "stdout",
     "output_type": "stream",
     "text": [
      "\u001b[33m[Test] Acc: 0.98400, NNL: 0.05237, KL: 31.39417\u001b[0m\n",
      "\u001b[32mBest model saved at epoch 32\u001b[0m\n"
     ]
    },
    {
     "name": "stderr",
     "output_type": "stream",
     "text": [
      "\u001b[34m[Train] Epoch: 33/100, Acc: 0.98752, NNL: 0.04048 KL: 30.37026\u001b[0m: : 59it [01:47,  1.82s/it]\n"
     ]
    },
    {
     "name": "stdout",
     "output_type": "stream",
     "text": [
      "\u001b[33m[Test] Acc: 0.98370, NNL: 0.04982, KL: 29.33996\u001b[0m\n",
      "\u001b[32mBest model saved at epoch 33\u001b[0m\n"
     ]
    },
    {
     "name": "stderr",
     "output_type": "stream",
     "text": [
      "\u001b[34m[Train] Epoch: 34/100, Acc: 0.98797, NNL: 0.03844 KL: 28.39774\u001b[0m: : 59it [01:47,  1.82s/it]\n"
     ]
    },
    {
     "name": "stdout",
     "output_type": "stream",
     "text": [
      "\u001b[33m[Test] Acc: 0.98400, NNL: 0.04982, KL: 27.44948\u001b[0m\n",
      "\u001b[32mBest model saved at epoch 34\u001b[0m\n"
     ]
    },
    {
     "name": "stderr",
     "output_type": "stream",
     "text": [
      "\u001b[34m[Train] Epoch: 35/100, Acc: 0.98883, NNL: 0.03724 KL: 26.58159\u001b[0m: : 59it [01:47,  1.82s/it]\n"
     ]
    },
    {
     "name": "stdout",
     "output_type": "stream",
     "text": [
      "\u001b[33m[Test] Acc: 0.98430, NNL: 0.05013, KL: 25.70738\u001b[0m\n",
      "\u001b[32mBest model saved at epoch 35\u001b[0m\n"
     ]
    },
    {
     "name": "stderr",
     "output_type": "stream",
     "text": [
      "\u001b[34m[Train] Epoch: 36/100, Acc: 0.98918, NNL: 0.03723 KL: 24.90646\u001b[0m: : 59it [01:47,  1.82s/it]\n"
     ]
    },
    {
     "name": "stdout",
     "output_type": "stream",
     "text": [
      "\u001b[33m[Test] Acc: 0.98390, NNL: 0.05169, KL: 24.09939\u001b[0m\n",
      "\u001b[32mBest model saved at epoch 36\u001b[0m\n"
     ]
    },
    {
     "name": "stderr",
     "output_type": "stream",
     "text": [
      "\u001b[34m[Train] Epoch: 37/100, Acc: 0.98867, NNL: 0.03821 KL: 23.35952\u001b[0m: : 59it [01:47,  1.82s/it]\n"
     ]
    },
    {
     "name": "stdout",
     "output_type": "stream",
     "text": [
      "\u001b[33m[Test] Acc: 0.98400, NNL: 0.05115, KL: 22.61374\u001b[0m\n",
      "\u001b[32mBest model saved at epoch 37\u001b[0m\n"
     ]
    },
    {
     "name": "stderr",
     "output_type": "stream",
     "text": [
      "\u001b[34m[Train] Epoch: 38/100, Acc: 0.98945, NNL: 0.03695 KL: 21.92922\u001b[0m: : 59it [01:47,  1.82s/it]\n"
     ]
    },
    {
     "name": "stdout",
     "output_type": "stream",
     "text": [
      "\u001b[33m[Test] Acc: 0.98300, NNL: 0.04959, KL: 21.23899\u001b[0m\n",
      "\u001b[32mBest model saved at epoch 38\u001b[0m\n"
     ]
    },
    {
     "name": "stderr",
     "output_type": "stream",
     "text": [
      "\u001b[34m[Train] Epoch: 39/100, Acc: 0.98913, NNL: 0.03613 KL: 20.60507\u001b[0m: : 59it [01:47,  1.82s/it]\n"
     ]
    },
    {
     "name": "stdout",
     "output_type": "stream",
     "text": [
      "\u001b[33m[Test] Acc: 0.98430, NNL: 0.04986, KL: 19.96559\u001b[0m\n",
      "\u001b[32mBest model saved at epoch 39\u001b[0m\n"
     ]
    },
    {
     "name": "stderr",
     "output_type": "stream",
     "text": [
      "\u001b[34m[Train] Epoch: 40/100, Acc: 0.98917, NNL: 0.03625 KL: 19.37804\u001b[0m: : 59it [01:47,  1.82s/it]\n"
     ]
    },
    {
     "name": "stdout",
     "output_type": "stream",
     "text": [
      "\u001b[33m[Test] Acc: 0.98440, NNL: 0.05016, KL: 18.78519\u001b[0m\n",
      "\u001b[32mBest model saved at epoch 40\u001b[0m\n"
     ]
    },
    {
     "name": "stderr",
     "output_type": "stream",
     "text": [
      "\u001b[34m[Train] Epoch: 41/100, Acc: 0.98947, NNL: 0.03634 KL: 18.23991\u001b[0m: : 59it [01:47,  1.83s/it]\n"
     ]
    },
    {
     "name": "stdout",
     "output_type": "stream",
     "text": [
      "\u001b[33m[Test] Acc: 0.98440, NNL: 0.04762, KL: 17.68953\u001b[0m\n",
      "\u001b[32mBest model saved at epoch 41\u001b[0m\n"
     ]
    },
    {
     "name": "stderr",
     "output_type": "stream",
     "text": [
      "\u001b[34m[Train] Epoch: 42/100, Acc: 0.98893, NNL: 0.03626 KL: 17.18313\u001b[0m: : 59it [01:47,  1.82s/it]\n"
     ]
    },
    {
     "name": "stdout",
     "output_type": "stream",
     "text": [
      "\u001b[33m[Test] Acc: 0.98430, NNL: 0.04883, KL: 16.67229\u001b[0m\n",
      "\u001b[32mBest model saved at epoch 42\u001b[0m\n"
     ]
    },
    {
     "name": "stderr",
     "output_type": "stream",
     "text": [
      "\u001b[34m[Train] Epoch: 43/100, Acc: 0.98962, NNL: 0.03537 KL: 16.20125\u001b[0m: : 59it [01:47,  1.82s/it]\n"
     ]
    },
    {
     "name": "stdout",
     "output_type": "stream",
     "text": [
      "\u001b[33m[Test] Acc: 0.98540, NNL: 0.04951, KL: 15.72588\u001b[0m\n",
      "\u001b[32mBest model saved at epoch 43\u001b[0m\n"
     ]
    },
    {
     "name": "stderr",
     "output_type": "stream",
     "text": [
      "\u001b[34m[Train] Epoch: 44/100, Acc: 0.98983, NNL: 0.03449 KL: 15.28810\u001b[0m: : 59it [01:47,  1.82s/it]\n"
     ]
    },
    {
     "name": "stdout",
     "output_type": "stream",
     "text": [
      "\u001b[33m[Test] Acc: 0.98500, NNL: 0.04643, KL: 14.84620\u001b[0m\n",
      "\u001b[32mBest model saved at epoch 44\u001b[0m\n"
     ]
    },
    {
     "name": "stderr",
     "output_type": "stream",
     "text": [
      "\u001b[34m[Train] Epoch: 45/100, Acc: 0.98962, NNL: 0.03511 KL: 14.43863\u001b[0m: : 59it [01:47,  1.83s/it]\n"
     ]
    },
    {
     "name": "stdout",
     "output_type": "stream",
     "text": [
      "\u001b[33m[Test] Acc: 0.98520, NNL: 0.04645, KL: 14.02722\u001b[0m\n",
      "\u001b[32mBest model saved at epoch 45\u001b[0m\n"
     ]
    },
    {
     "name": "stderr",
     "output_type": "stream",
     "text": [
      "\u001b[34m[Train] Epoch: 46/100, Acc: 0.98945, NNL: 0.03458 KL: 13.64753\u001b[0m: : 59it [01:47,  1.82s/it]\n"
     ]
    },
    {
     "name": "stdout",
     "output_type": "stream",
     "text": [
      "\u001b[33m[Test] Acc: 0.98490, NNL: 0.04747, KL: 13.26441\u001b[0m\n",
      "\u001b[32mBest model saved at epoch 46\u001b[0m\n"
     ]
    },
    {
     "name": "stderr",
     "output_type": "stream",
     "text": [
      "\u001b[34m[Train] Epoch: 47/100, Acc: 0.99003, NNL: 0.03379 KL: 12.91071\u001b[0m: : 59it [01:47,  1.82s/it]\n"
     ]
    },
    {
     "name": "stdout",
     "output_type": "stream",
     "text": [
      "\u001b[33m[Test] Acc: 0.98460, NNL: 0.04821, KL: 12.55342\u001b[0m\n",
      "\u001b[32mBest model saved at epoch 47\u001b[0m\n"
     ]
    },
    {
     "name": "stderr",
     "output_type": "stream",
     "text": [
      "\u001b[34m[Train] Epoch: 48/100, Acc: 0.99048, NNL: 0.03305 KL: 12.22389\u001b[0m: : 59it [01:47,  1.82s/it]\n"
     ]
    },
    {
     "name": "stdout",
     "output_type": "stream",
     "text": [
      "\u001b[33m[Test] Acc: 0.98500, NNL: 0.04831, KL: 11.89087\u001b[0m\n",
      "\u001b[32mBest model saved at epoch 48\u001b[0m\n"
     ]
    },
    {
     "name": "stderr",
     "output_type": "stream",
     "text": [
      "\u001b[34m[Train] Epoch: 49/100, Acc: 0.99038, NNL: 0.03335 KL: 11.58372\u001b[0m: : 59it [01:47,  1.82s/it]\n"
     ]
    },
    {
     "name": "stdout",
     "output_type": "stream",
     "text": [
      "\u001b[33m[Test] Acc: 0.98570, NNL: 0.04716, KL: 11.27315\u001b[0m\n",
      "\u001b[32mBest model saved at epoch 49\u001b[0m\n"
     ]
    },
    {
     "name": "stderr",
     "output_type": "stream",
     "text": [
      "\u001b[34m[Train] Epoch: 50/100, Acc: 0.99002, NNL: 0.03367 KL: 10.98660\u001b[0m: : 59it [01:47,  1.82s/it]\n"
     ]
    },
    {
     "name": "stdout",
     "output_type": "stream",
     "text": [
      "\u001b[33m[Test] Acc: 0.98450, NNL: 0.04891, KL: 10.69690\u001b[0m\n",
      "\u001b[32mBest model saved at epoch 50\u001b[0m\n"
     ]
    },
    {
     "name": "stderr",
     "output_type": "stream",
     "text": [
      "\u001b[34m[Train] Epoch: 51/100, Acc: 0.99028, NNL: 0.03286 KL: 10.42955\u001b[0m: : 59it [01:47,  1.82s/it]\n"
     ]
    },
    {
     "name": "stdout",
     "output_type": "stream",
     "text": [
      "\u001b[33m[Test] Acc: 0.98550, NNL: 0.04590, KL: 10.15941\u001b[0m\n",
      "\u001b[32mBest model saved at epoch 51\u001b[0m\n"
     ]
    },
    {
     "name": "stderr",
     "output_type": "stream",
     "text": [
      "\u001b[34m[Train] Epoch: 52/100, Acc: 0.99063, NNL: 0.03241 KL: 9.90978\u001b[0m: : 59it [01:47,  1.82s/it] \n"
     ]
    },
    {
     "name": "stdout",
     "output_type": "stream",
     "text": [
      "\u001b[33m[Test] Acc: 0.98470, NNL: 0.04759, KL: 9.65744\u001b[0m\n",
      "\u001b[32mBest model saved at epoch 52\u001b[0m\n"
     ]
    },
    {
     "name": "stderr",
     "output_type": "stream",
     "text": [
      "\u001b[34m[Train] Epoch: 53/100, Acc: 0.99073, NNL: 0.03209 KL: 9.42458\u001b[0m: : 59it [01:47,  1.82s/it]\n"
     ]
    },
    {
     "name": "stdout",
     "output_type": "stream",
     "text": [
      "\u001b[33m[Test] Acc: 0.98590, NNL: 0.04556, KL: 9.18948\u001b[0m\n",
      "\u001b[32mBest model saved at epoch 53\u001b[0m\n"
     ]
    },
    {
     "name": "stderr",
     "output_type": "stream",
     "text": [
      "\u001b[34m[Train] Epoch: 54/100, Acc: 0.99043, NNL: 0.03251 KL: 8.97192\u001b[0m: : 59it [01:47,  1.82s/it]\n"
     ]
    },
    {
     "name": "stdout",
     "output_type": "stream",
     "text": [
      "\u001b[33m[Test] Acc: 0.98560, NNL: 0.04747, KL: 8.75214\u001b[0m\n",
      "\u001b[32mBest model saved at epoch 54\u001b[0m\n"
     ]
    },
    {
     "name": "stderr",
     "output_type": "stream",
     "text": [
      "\u001b[34m[Train] Epoch: 55/100, Acc: 0.99068, NNL: 0.03178 KL: 8.54921\u001b[0m: : 59it [01:47,  1.82s/it]\n"
     ]
    },
    {
     "name": "stdout",
     "output_type": "stream",
     "text": [
      "\u001b[33m[Test] Acc: 0.98480, NNL: 0.04776, KL: 8.34415\u001b[0m\n",
      "\u001b[32mBest model saved at epoch 55\u001b[0m\n"
     ]
    },
    {
     "name": "stderr",
     "output_type": "stream",
     "text": [
      "\u001b[34m[Train] Epoch: 56/100, Acc: 0.99063, NNL: 0.03179 KL: 8.15481\u001b[0m: : 59it [01:47,  1.82s/it]\n"
     ]
    },
    {
     "name": "stdout",
     "output_type": "stream",
     "text": [
      "\u001b[33m[Test] Acc: 0.98590, NNL: 0.04454, KL: 7.96353\u001b[0m\n",
      "\u001b[32mBest model saved at epoch 56\u001b[0m\n"
     ]
    },
    {
     "name": "stderr",
     "output_type": "stream",
     "text": [
      "\u001b[34m[Train] Epoch: 57/100, Acc: 0.99052, NNL: 0.03150 KL: 7.78658\u001b[0m: : 59it [01:47,  1.82s/it]\n"
     ]
    },
    {
     "name": "stdout",
     "output_type": "stream",
     "text": [
      "\u001b[33m[Test] Acc: 0.98580, NNL: 0.04745, KL: 7.60777\u001b[0m\n",
      "\u001b[32mBest model saved at epoch 57\u001b[0m\n"
     ]
    },
    {
     "name": "stderr",
     "output_type": "stream",
     "text": [
      "\u001b[34m[Train] Epoch: 58/100, Acc: 0.99077, NNL: 0.03165 KL: 7.44296\u001b[0m: : 59it [01:47,  1.82s/it]\n"
     ]
    },
    {
     "name": "stdout",
     "output_type": "stream",
     "text": [
      "\u001b[33m[Test] Acc: 0.98510, NNL: 0.04670, KL: 7.27631\u001b[0m\n",
      "\u001b[32mBest model saved at epoch 58\u001b[0m\n"
     ]
    },
    {
     "name": "stderr",
     "output_type": "stream",
     "text": [
      "\u001b[34m[Train] Epoch: 59/100, Acc: 0.99112, NNL: 0.03090 KL: 7.12229\u001b[0m: : 59it [01:47,  1.82s/it]\n"
     ]
    },
    {
     "name": "stdout",
     "output_type": "stream",
     "text": [
      "\u001b[33m[Test] Acc: 0.98550, NNL: 0.04675, KL: 6.96662\u001b[0m\n",
      "\u001b[32mBest model saved at epoch 59\u001b[0m\n"
     ]
    },
    {
     "name": "stderr",
     "output_type": "stream",
     "text": [
      "\u001b[34m[Train] Epoch: 60/100, Acc: 0.99108, NNL: 0.03084 KL: 6.82327\u001b[0m: : 59it [01:47,  1.82s/it]\n"
     ]
    },
    {
     "name": "stdout",
     "output_type": "stream",
     "text": [
      "\u001b[33m[Test] Acc: 0.98480, NNL: 0.04625, KL: 6.67805\u001b[0m\n",
      "\u001b[32mBest model saved at epoch 60\u001b[0m\n"
     ]
    },
    {
     "name": "stderr",
     "output_type": "stream",
     "text": [
      "\u001b[34m[Train] Epoch: 61/100, Acc: 0.99025, NNL: 0.03114 KL: 6.54426\u001b[0m: : 59it [01:47,  1.82s/it]\n"
     ]
    },
    {
     "name": "stdout",
     "output_type": "stream",
     "text": [
      "\u001b[33m[Test] Acc: 0.98530, NNL: 0.04658, KL: 6.40882\u001b[0m\n",
      "\u001b[32mBest model saved at epoch 61\u001b[0m\n"
     ]
    },
    {
     "name": "stderr",
     "output_type": "stream",
     "text": [
      "\u001b[34m[Train] Epoch: 62/100, Acc: 0.99125, NNL: 0.03059 KL: 6.28419\u001b[0m: : 59it [01:47,  1.82s/it]\n"
     ]
    },
    {
     "name": "stdout",
     "output_type": "stream",
     "text": [
      "\u001b[33m[Test] Acc: 0.98500, NNL: 0.04804, KL: 6.15826\u001b[0m\n",
      "\u001b[32mBest model saved at epoch 62\u001b[0m\n"
     ]
    },
    {
     "name": "stderr",
     "output_type": "stream",
     "text": [
      "\u001b[34m[Train] Epoch: 63/100, Acc: 0.99098, NNL: 0.03020 KL: 6.04178\u001b[0m: : 59it [01:47,  1.82s/it]\n"
     ]
    },
    {
     "name": "stdout",
     "output_type": "stream",
     "text": [
      "\u001b[33m[Test] Acc: 0.98430, NNL: 0.04753, KL: 5.92420\u001b[0m\n",
      "\u001b[32mBest model saved at epoch 63\u001b[0m\n"
     ]
    },
    {
     "name": "stderr",
     "output_type": "stream",
     "text": [
      "\u001b[34m[Train] Epoch: 64/100, Acc: 0.99112, NNL: 0.03010 KL: 5.81604\u001b[0m: : 59it [01:47,  1.82s/it]\n"
     ]
    },
    {
     "name": "stdout",
     "output_type": "stream",
     "text": [
      "\u001b[33m[Test] Acc: 0.98480, NNL: 0.04846, KL: 5.70662\u001b[0m\n",
      "\u001b[32mBest model saved at epoch 64\u001b[0m\n"
     ]
    },
    {
     "name": "stderr",
     "output_type": "stream",
     "text": [
      "\u001b[34m[Train] Epoch: 65/100, Acc: 0.99118, NNL: 0.02993 KL: 5.60574\u001b[0m: : 59it [01:47,  1.82s/it]\n"
     ]
    },
    {
     "name": "stdout",
     "output_type": "stream",
     "text": [
      "\u001b[33m[Test] Acc: 0.98540, NNL: 0.04626, KL: 5.50377\u001b[0m\n",
      "\u001b[32mBest model saved at epoch 65\u001b[0m\n"
     ]
    },
    {
     "name": "stderr",
     "output_type": "stream",
     "text": [
      "\u001b[34m[Train] Epoch: 66/100, Acc: 0.99117, NNL: 0.02991 KL: 5.41013\u001b[0m: : 59it [01:47,  1.82s/it]\n"
     ]
    },
    {
     "name": "stdout",
     "output_type": "stream",
     "text": [
      "\u001b[33m[Test] Acc: 0.98540, NNL: 0.04447, KL: 5.31536\u001b[0m\n",
      "\u001b[32mBest model saved at epoch 66\u001b[0m\n"
     ]
    },
    {
     "name": "stderr",
     "output_type": "stream",
     "text": [
      "\u001b[34m[Train] Epoch: 67/100, Acc: 0.99108, NNL: 0.02977 KL: 5.22810\u001b[0m: : 59it [01:47,  1.82s/it]\n"
     ]
    },
    {
     "name": "stdout",
     "output_type": "stream",
     "text": [
      "\u001b[33m[Test] Acc: 0.98540, NNL: 0.04685, KL: 5.14024\u001b[0m\n",
      "\u001b[32mBest model saved at epoch 67\u001b[0m\n"
     ]
    },
    {
     "name": "stderr",
     "output_type": "stream",
     "text": [
      "\u001b[34m[Train] Epoch: 68/100, Acc: 0.99140, NNL: 0.02884 KL: 5.05895\u001b[0m: : 59it [01:47,  1.82s/it]\n"
     ]
    },
    {
     "name": "stdout",
     "output_type": "stream",
     "text": [
      "\u001b[33m[Test] Acc: 0.98520, NNL: 0.04610, KL: 4.97709\u001b[0m\n",
      "\u001b[32mBest model saved at epoch 68\u001b[0m\n"
     ]
    },
    {
     "name": "stderr",
     "output_type": "stream",
     "text": [
      "\u001b[34m[Train] Epoch: 69/100, Acc: 0.99158, NNL: 0.02872 KL: 4.90186\u001b[0m: : 59it [01:47,  1.82s/it]\n"
     ]
    },
    {
     "name": "stdout",
     "output_type": "stream",
     "text": [
      "\u001b[33m[Test] Acc: 0.98600, NNL: 0.04487, KL: 4.82584\u001b[0m\n",
      "\u001b[32mBest model saved at epoch 69\u001b[0m\n"
     ]
    },
    {
     "name": "stderr",
     "output_type": "stream",
     "text": [
      "\u001b[34m[Train] Epoch: 70/100, Acc: 0.99157, NNL: 0.02880 KL: 4.75607\u001b[0m: : 59it [01:47,  1.82s/it]\n"
     ]
    },
    {
     "name": "stdout",
     "output_type": "stream",
     "text": [
      "\u001b[33m[Test] Acc: 0.98540, NNL: 0.04687, KL: 4.68550\u001b[0m\n",
      "\u001b[32mBest model saved at epoch 70\u001b[0m\n"
     ]
    },
    {
     "name": "stderr",
     "output_type": "stream",
     "text": [
      "\u001b[34m[Train] Epoch: 71/100, Acc: 0.99190, NNL: 0.02797 KL: 4.62084\u001b[0m: : 59it [01:47,  1.82s/it]\n"
     ]
    },
    {
     "name": "stdout",
     "output_type": "stream",
     "text": [
      "\u001b[33m[Test] Acc: 0.98500, NNL: 0.04534, KL: 4.55552\u001b[0m\n",
      "\u001b[32mBest model saved at epoch 71\u001b[0m\n"
     ]
    },
    {
     "name": "stderr",
     "output_type": "stream",
     "text": [
      "\u001b[34m[Train] Epoch: 72/100, Acc: 0.99162, NNL: 0.02848 KL: 4.49561\u001b[0m: : 59it [01:47,  1.82s/it]\n"
     ]
    },
    {
     "name": "stdout",
     "output_type": "stream",
     "text": [
      "\u001b[33m[Test] Acc: 0.98500, NNL: 0.04634, KL: 4.43520\u001b[0m\n",
      "\u001b[32mBest model saved at epoch 72\u001b[0m\n"
     ]
    },
    {
     "name": "stderr",
     "output_type": "stream",
     "text": [
      "\u001b[34m[Train] Epoch: 73/100, Acc: 0.99182, NNL: 0.02761 KL: 4.37962\u001b[0m: : 59it [01:47,  1.82s/it]\n"
     ]
    },
    {
     "name": "stdout",
     "output_type": "stream",
     "text": [
      "\u001b[33m[Test] Acc: 0.98560, NNL: 0.04596, KL: 4.32387\u001b[0m\n",
      "\u001b[32mBest model saved at epoch 73\u001b[0m\n"
     ]
    },
    {
     "name": "stderr",
     "output_type": "stream",
     "text": [
      "\u001b[34m[Train] Epoch: 74/100, Acc: 0.99200, NNL: 0.02774 KL: 4.27242\u001b[0m: : 59it [01:47,  1.82s/it]\n"
     ]
    },
    {
     "name": "stdout",
     "output_type": "stream",
     "text": [
      "\u001b[33m[Test] Acc: 0.98460, NNL: 0.04880, KL: 4.22070\u001b[0m\n",
      "\u001b[32mBest model saved at epoch 74\u001b[0m\n"
     ]
    },
    {
     "name": "stderr",
     "output_type": "stream",
     "text": [
      "\u001b[34m[Train] Epoch: 75/100, Acc: 0.99192, NNL: 0.02762 KL: 4.17335\u001b[0m: : 59it [01:47,  1.82s/it]\n"
     ]
    },
    {
     "name": "stdout",
     "output_type": "stream",
     "text": [
      "\u001b[33m[Test] Acc: 0.98510, NNL: 0.04729, KL: 4.12554\u001b[0m\n",
      "\u001b[32mBest model saved at epoch 75\u001b[0m\n"
     ]
    },
    {
     "name": "stderr",
     "output_type": "stream",
     "text": [
      "\u001b[34m[Train] Epoch: 76/100, Acc: 0.99248, NNL: 0.02719 KL: 4.08185\u001b[0m: : 59it [01:47,  1.82s/it]\n"
     ]
    },
    {
     "name": "stdout",
     "output_type": "stream",
     "text": [
      "\u001b[33m[Test] Acc: 0.98540, NNL: 0.04673, KL: 4.03810\u001b[0m\n",
      "\u001b[32mBest model saved at epoch 76\u001b[0m\n"
     ]
    },
    {
     "name": "stderr",
     "output_type": "stream",
     "text": [
      "\u001b[34m[Train] Epoch: 77/100, Acc: 0.99200, NNL: 0.02718 KL: 3.99775\u001b[0m: : 59it [01:47,  1.82s/it]\n"
     ]
    },
    {
     "name": "stdout",
     "output_type": "stream",
     "text": [
      "\u001b[33m[Test] Acc: 0.98520, NNL: 0.04840, KL: 3.95709\u001b[0m\n",
      "\u001b[32mBest model saved at epoch 77\u001b[0m\n"
     ]
    },
    {
     "name": "stderr",
     "output_type": "stream",
     "text": [
      "\u001b[34m[Train] Epoch: 78/100, Acc: 0.99237, NNL: 0.02697 KL: 3.92018\u001b[0m: : 59it [01:47,  1.82s/it]\n"
     ]
    },
    {
     "name": "stdout",
     "output_type": "stream",
     "text": [
      "\u001b[33m[Test] Acc: 0.98590, NNL: 0.04592, KL: 3.88290\u001b[0m\n",
      "\u001b[32mBest model saved at epoch 78\u001b[0m\n"
     ]
    },
    {
     "name": "stderr",
     "output_type": "stream",
     "text": [
      "\u001b[34m[Train] Epoch: 79/100, Acc: 0.99170, NNL: 0.02740 KL: 3.84888\u001b[0m: : 59it [01:47,  1.82s/it]\n"
     ]
    },
    {
     "name": "stdout",
     "output_type": "stream",
     "text": [
      "\u001b[33m[Test] Acc: 0.98570, NNL: 0.04728, KL: 3.81476\u001b[0m\n",
      "\u001b[32mBest model saved at epoch 79\u001b[0m\n"
     ]
    },
    {
     "name": "stderr",
     "output_type": "stream",
     "text": [
      "\u001b[34m[Train] Epoch: 80/100, Acc: 0.99218, NNL: 0.02702 KL: 3.78351\u001b[0m: : 59it [01:47,  1.82s/it]\n"
     ]
    },
    {
     "name": "stdout",
     "output_type": "stream",
     "text": [
      "\u001b[33m[Test] Acc: 0.98600, NNL: 0.04441, KL: 3.75199\u001b[0m\n",
      "\u001b[32mBest model saved at epoch 80\u001b[0m\n"
     ]
    },
    {
     "name": "stderr",
     "output_type": "stream",
     "text": [
      "\u001b[34m[Train] Epoch: 81/100, Acc: 0.99208, NNL: 0.02702 KL: 3.72354\u001b[0m: : 59it [01:46,  1.81s/it]\n"
     ]
    },
    {
     "name": "stdout",
     "output_type": "stream",
     "text": [
      "\u001b[33m[Test] Acc: 0.98520, NNL: 0.04670, KL: 3.69463\u001b[0m\n",
      "\u001b[32mBest model saved at epoch 81\u001b[0m\n"
     ]
    },
    {
     "name": "stderr",
     "output_type": "stream",
     "text": [
      "\u001b[34m[Train] Epoch: 82/100, Acc: 0.99248, NNL: 0.02600 KL: 3.66849\u001b[0m: : 59it [01:47,  1.82s/it]\n"
     ]
    },
    {
     "name": "stdout",
     "output_type": "stream",
     "text": [
      "\u001b[33m[Test] Acc: 0.98560, NNL: 0.04573, KL: 3.64212\u001b[0m\n",
      "\u001b[32mBest model saved at epoch 82\u001b[0m\n"
     ]
    },
    {
     "name": "stderr",
     "output_type": "stream",
     "text": [
      "\u001b[34m[Train] Epoch: 83/100, Acc: 0.99248, NNL: 0.02593 KL: 3.61836\u001b[0m: : 59it [01:47,  1.82s/it]\n"
     ]
    },
    {
     "name": "stdout",
     "output_type": "stream",
     "text": [
      "\u001b[33m[Test] Acc: 0.98510, NNL: 0.04615, KL: 3.59433\u001b[0m\n",
      "\u001b[32mBest model saved at epoch 83\u001b[0m\n"
     ]
    },
    {
     "name": "stderr",
     "output_type": "stream",
     "text": [
      "\u001b[34m[Train] Epoch: 84/100, Acc: 0.99255, NNL: 0.02618 KL: 3.57258\u001b[0m: : 59it [01:47,  1.82s/it]\n"
     ]
    },
    {
     "name": "stdout",
     "output_type": "stream",
     "text": [
      "\u001b[33m[Test] Acc: 0.98580, NNL: 0.04518, KL: 3.55071\u001b[0m\n",
      "\u001b[32mBest model saved at epoch 84\u001b[0m\n"
     ]
    },
    {
     "name": "stderr",
     "output_type": "stream",
     "text": [
      "\u001b[34m[Train] Epoch: 85/100, Acc: 0.99273, NNL: 0.02577 KL: 3.53083\u001b[0m: : 59it [01:47,  1.82s/it]\n"
     ]
    },
    {
     "name": "stdout",
     "output_type": "stream",
     "text": [
      "\u001b[33m[Test] Acc: 0.98560, NNL: 0.04553, KL: 3.51086\u001b[0m\n",
      "\u001b[32mBest model saved at epoch 85\u001b[0m\n"
     ]
    },
    {
     "name": "stderr",
     "output_type": "stream",
     "text": [
      "\u001b[34m[Train] Epoch: 86/100, Acc: 0.99248, NNL: 0.02572 KL: 3.49289\u001b[0m: : 59it [01:47,  1.82s/it]\n"
     ]
    },
    {
     "name": "stdout",
     "output_type": "stream",
     "text": [
      "\u001b[33m[Test] Acc: 0.98490, NNL: 0.04648, KL: 3.47494\u001b[0m\n",
      "\u001b[32mBest model saved at epoch 86\u001b[0m\n"
     ]
    },
    {
     "name": "stderr",
     "output_type": "stream",
     "text": [
      "\u001b[34m[Train] Epoch: 87/100, Acc: 0.99243, NNL: 0.02582 KL: 3.45847\u001b[0m: : 59it [01:47,  1.82s/it]\n"
     ]
    },
    {
     "name": "stdout",
     "output_type": "stream",
     "text": [
      "\u001b[33m[Test] Acc: 0.98480, NNL: 0.04802, KL: 3.44214\u001b[0m\n",
      "\u001b[32mBest model saved at epoch 87\u001b[0m\n"
     ]
    },
    {
     "name": "stderr",
     "output_type": "stream",
     "text": [
      "\u001b[34m[Train] Epoch: 88/100, Acc: 0.99267, NNL: 0.02496 KL: 3.42721\u001b[0m: : 59it [01:47,  1.82s/it]\n"
     ]
    },
    {
     "name": "stdout",
     "output_type": "stream",
     "text": [
      "\u001b[33m[Test] Acc: 0.98450, NNL: 0.04592, KL: 3.41256\u001b[0m\n",
      "\u001b[32mBest model saved at epoch 88\u001b[0m\n"
     ]
    },
    {
     "name": "stderr",
     "output_type": "stream",
     "text": [
      "\u001b[34m[Train] Epoch: 89/100, Acc: 0.99275, NNL: 0.02527 KL: 3.39907\u001b[0m: : 59it [01:47,  1.82s/it]\n"
     ]
    },
    {
     "name": "stdout",
     "output_type": "stream",
     "text": [
      "\u001b[33m[Test] Acc: 0.98490, NNL: 0.04776, KL: 3.38590\u001b[0m\n",
      "\u001b[32mBest model saved at epoch 89\u001b[0m\n"
     ]
    },
    {
     "name": "stderr",
     "output_type": "stream",
     "text": [
      "\u001b[34m[Train] Epoch: 90/100, Acc: 0.99292, NNL: 0.02452 KL: 3.37346\u001b[0m: : 59it [01:47,  1.82s/it]\n"
     ]
    },
    {
     "name": "stdout",
     "output_type": "stream",
     "text": [
      "\u001b[33m[Test] Acc: 0.98480, NNL: 0.04880, KL: 3.36141\u001b[0m\n",
      "\u001b[32mBest model saved at epoch 90\u001b[0m\n"
     ]
    },
    {
     "name": "stderr",
     "output_type": "stream",
     "text": [
      "\u001b[34m[Train] Epoch: 91/100, Acc: 0.99250, NNL: 0.02514 KL: 3.35063\u001b[0m: : 59it [01:47,  1.82s/it]\n"
     ]
    },
    {
     "name": "stdout",
     "output_type": "stream",
     "text": [
      "\u001b[33m[Test] Acc: 0.98620, NNL: 0.04509, KL: 3.33966\u001b[0m\n",
      "\u001b[32mBest model saved at epoch 91\u001b[0m\n"
     ]
    },
    {
     "name": "stderr",
     "output_type": "stream",
     "text": [
      "\u001b[34m[Train] Epoch: 92/100, Acc: 0.99268, NNL: 0.02563 KL: 3.32999\u001b[0m: : 59it [01:47,  1.82s/it]\n"
     ]
    },
    {
     "name": "stdout",
     "output_type": "stream",
     "text": [
      "\u001b[33m[Test] Acc: 0.98580, NNL: 0.04596, KL: 3.32058\u001b[0m\n",
      "\u001b[32mBest model saved at epoch 92\u001b[0m\n"
     ]
    },
    {
     "name": "stderr",
     "output_type": "stream",
     "text": [
      "\u001b[34m[Train] Epoch: 93/100, Acc: 0.99280, NNL: 0.02473 KL: 3.31143\u001b[0m: : 59it [01:47,  1.83s/it]\n"
     ]
    },
    {
     "name": "stdout",
     "output_type": "stream",
     "text": [
      "\u001b[33m[Test] Acc: 0.98480, NNL: 0.05048, KL: 3.30266\u001b[0m\n",
      "\u001b[32mBest model saved at epoch 93\u001b[0m\n"
     ]
    },
    {
     "name": "stderr",
     "output_type": "stream",
     "text": [
      "\u001b[34m[Train] Epoch: 94/100, Acc: 0.99262, NNL: 0.02512 KL: 3.29488\u001b[0m: : 59it [01:47,  1.82s/it]\n"
     ]
    },
    {
     "name": "stdout",
     "output_type": "stream",
     "text": [
      "\u001b[33m[Test] Acc: 0.98490, NNL: 0.04875, KL: 3.28698\u001b[0m\n",
      "\u001b[32mBest model saved at epoch 94\u001b[0m\n"
     ]
    },
    {
     "name": "stderr",
     "output_type": "stream",
     "text": [
      "\u001b[34m[Train] Epoch: 95/100, Acc: 0.99280, NNL: 0.02453 KL: 3.28007\u001b[0m: : 59it [01:47,  1.82s/it]\n"
     ]
    },
    {
     "name": "stdout",
     "output_type": "stream",
     "text": [
      "\u001b[33m[Test] Acc: 0.98540, NNL: 0.04546, KL: 3.27287\u001b[0m\n",
      "\u001b[32mBest model saved at epoch 95\u001b[0m\n"
     ]
    },
    {
     "name": "stderr",
     "output_type": "stream",
     "text": [
      "\u001b[34m[Train] Epoch: 96/100, Acc: 0.99320, NNL: 0.02391 KL: 3.26671\u001b[0m: : 59it [01:47,  1.82s/it]\n"
     ]
    },
    {
     "name": "stdout",
     "output_type": "stream",
     "text": [
      "\u001b[33m[Test] Acc: 0.98530, NNL: 0.04676, KL: 3.26044\u001b[0m\n",
      "\u001b[32mBest model saved at epoch 96\u001b[0m\n"
     ]
    },
    {
     "name": "stderr",
     "output_type": "stream",
     "text": [
      "\u001b[34m[Train] Epoch: 97/100, Acc: 0.99323, NNL: 0.02360 KL: 3.25491\u001b[0m: : 59it [01:47,  1.82s/it]\n"
     ]
    },
    {
     "name": "stdout",
     "output_type": "stream",
     "text": [
      "\u001b[33m[Test] Acc: 0.98520, NNL: 0.04884, KL: 3.24937\u001b[0m\n",
      "\u001b[32mBest model saved at epoch 97\u001b[0m\n"
     ]
    },
    {
     "name": "stderr",
     "output_type": "stream",
     "text": [
      "\u001b[34m[Train] Epoch: 98/100, Acc: 0.99308, NNL: 0.02393 KL: 3.24459\u001b[0m: : 59it [01:47,  1.82s/it]\n"
     ]
    },
    {
     "name": "stdout",
     "output_type": "stream",
     "text": [
      "\u001b[33m[Test] Acc: 0.98560, NNL: 0.04645, KL: 3.23956\u001b[0m\n",
      "\u001b[32mBest model saved at epoch 98\u001b[0m\n"
     ]
    },
    {
     "name": "stderr",
     "output_type": "stream",
     "text": [
      "\u001b[34m[Train] Epoch: 99/100, Acc: 0.99275, NNL: 0.02407 KL: 3.23536\u001b[0m: : 59it [01:47,  1.83s/it]\n"
     ]
    },
    {
     "name": "stdout",
     "output_type": "stream",
     "text": [
      "\u001b[33m[Test] Acc: 0.98550, NNL: 0.04658, KL: 3.23085\u001b[0m\n",
      "\u001b[32mBest model saved at epoch 99\u001b[0m\n"
     ]
    }
   ],
   "source": [
    "\n",
    "class args:\n",
    "    pass\n",
    "args = args()\n",
    "args.t = 1.0\n",
    "from torch.utils.tensorboard import SummaryWriter\n",
    "writer = SummaryWriter(f'runs/bnn_with_good_prior_multi')\n",
    "train_BNN(epoch= 100, model = bnn_with_good_prior.cuda(), train_loader= train_loader, test_loader= test_loader, optimizer= optim.Adam(bnn_with_good_prior.parameters(), lr=1e-3), writer = writer, mc_runs = 100, bs = 1024, device = 'cuda', args=args, moped=False)\n"
   ]
  },
  {
   "cell_type": "markdown",
   "metadata": {},
   "source": [
    "### mu_kernel 복사, Prior 설정 -> 즉, Cov 학습한것을 Prior로 설정한것을 제외하고 동일함 (24.7.13)\n",
    "### 결과 -> 매우 좋은 성능을 보임"
   ]
  },
  {
   "cell_type": "markdown",
   "metadata": {},
   "source": [
    "### Cov = I"
   ]
  },
  {
   "cell_type": "code",
   "execution_count": 20,
   "metadata": {},
   "outputs": [
    {
     "name": "stderr",
     "output_type": "stream",
     "text": [
      "10000it [00:46, 215.52it/s]\n"
     ]
    },
    {
     "data": {
      "text/plain": [
       "Text(0.5, 1.0, 'Loss')"
      ]
     },
     "execution_count": 20,
     "metadata": {},
     "output_type": "execute_result"
    },
    {
     "data": {
      "image/png": "[encoded data removed]",
      "text/plain": [
       "<Figure size 500x500 with 1 Axes>"
      ]
     },
     "metadata": {},
     "output_type": "display_data"
    }
   ],
   "source": [
    "\n",
    "device = torch.device('cuda' if torch.cuda.is_available() else 'cpu')\n",
    "bnn_multi = LeNet_BNN().to(device)\n",
    "optimizer = optim.Adam(bnn_multi.parameters(), lr=1e-3)\n",
    "\n",
    "mu_log = []\n",
    "losses = []\n",
    "mean_loss = []\n",
    "for idx, _ in tqdm(enumerate(range(10000))):\n",
    "    w_conv1_dnn = dnn.conv1.weight.data.to(device)\n",
    "    w_conv2_dnn = dnn.conv2.weight.data.to(device)\n",
    "    \n",
    "    c_in_conv1, c_out_conv1, k_conv1, _ = w_conv1_dnn.size()\n",
    "    c_in_conv2, c_out_conv2, k_conv2, _ = w_conv2_dnn.size()\n",
    "    \n",
    "    mu_bnn_conv1 = bnn_multi.conv1.mu_kernel\n",
    "    mu_flat_conv1 = mu_bnn_conv1.view(-1)\n",
    "    \n",
    "    mu_bnn_conv2 = bnn_multi.conv2.mu_kernel\n",
    "    mu_flat_conv2 = mu_bnn_conv2.view(-1)\n",
    "    \n",
    "    w_flat_conv1 = w_conv1_dnn.view(-1)\n",
    "    w_flat_conv2 = w_conv2_dnn.view(-1)\n",
    "\n",
    "    epslion = 1e-6\n",
    "    cov_1 = torch.eye(c_in_conv1 * c_out_conv1 * k_conv1 * k_conv1).to(device)\n",
    "    cov_2 = torch.eye(c_in_conv2 * c_out_conv2 * k_conv2 * k_conv2).to(device)\n",
    "    \n",
    "    # Sampling the weight\n",
    "    w_bnn_conv1 = torch.distributions.MultivariateNormal(mu_flat_conv1, cov_1).rsample().reshape(c_in_conv1, c_out_conv1, k_conv1, k_conv1)\n",
    "    w_bnn_conv2 = torch.distributions.MultivariateNormal(mu_flat_conv2, cov_2).rsample().reshape(c_in_conv2, c_out_conv2, k_conv2, k_conv2)\n",
    "\n",
    "    nll = (w_bnn_conv1 - w_conv1_dnn).pow(2).mean()\n",
    "    nll += (w_bnn_conv2 - w_conv2_dnn).pow(2).mean()\n",
    "    \n",
    "    optimizer.zero_grad()\n",
    "    nll.backward()  # Do not use retain_graph=True\n",
    "    optimizer.step()\n",
    "\n",
    "    mu_log.append(mu_flat_conv1.mean().item() + mu_flat_conv2.mean().item())\n",
    "    \n",
    "    losses.append(nll.item())\n",
    "    \n",
    "    mean_loss.append(np.mean(losses))\n",
    "\n",
    "plt.figure(figsize=(5,5))\n",
    "# plt.subplot(1,3,1)\n",
    "# plt.imshow(cov_not_optimized[:9,:9])\n",
    "# plt.title('Covariance matrix (not optimized)')\n",
    "\n",
    "# plt.subplot(1,3,2)\n",
    "# i=1\n",
    "# plt.imshow(bnn_multi.conv1.get_covariance_matrix().cpu().detach().numpy()[:,:][:9*i,:9*i])\n",
    "# plt.title('Covariance matrix (optimized)')\n",
    "# plt.colorbar()\n",
    "# plt.subplot(1,3,3)\n",
    "plt.plot(mean_loss[:])\n",
    "plt.grid()\n",
    "plt.title('Loss')\n"
   ]
  },
  {
   "cell_type": "code",
   "execution_count": 21,
   "metadata": {},
   "outputs": [
    {
     "data": {
      "text/plain": [
       "<matplotlib.image.AxesImage at 0x7f98a8128700>"
      ]
     },
     "execution_count": 21,
     "metadata": {},
     "output_type": "execute_result"
    },
    {
     "data": {
      "image/png": "[encoded data removed]",
      "text/plain": [
       "<Figure size 640x480 with 2 Axes>"
      ]
     },
     "metadata": {},
     "output_type": "display_data"
    }
   ],
   "source": [
    "\n",
    "bnn_with_good_prior = LeNet_BNN().to(device) \n",
    "\n",
    "'''\n",
    "bnn_with_good_prior.conv1.prior_mean = bnn.conv1.mu_kernel.detach().clone().flatten()\n",
    "bnn_with_good_prior.conv1.prior_variance = bnn_with_good_prior.conv1.get_covariance_matrix(bnn.conv1.L_param.detach().clone(), bnn.conv1.B_param.detach().clone())\n",
    "\n",
    "    epslion = 1e-6\n",
    "    cov_1 = bnn_multi.conv1.get_covariance_matrix() + epslion * torch.eye(c_in_conv1 * c_out_conv1 * k_conv1 * k_conv1).to(device)\n",
    "    cov_2 = bnn_multi.conv2.get_covariance_matrix() + epslion * torch.eye(c_in_conv2 * c_out_conv2 * k_conv2 * k_conv2).to(device)\n",
    "    \n",
    "'''\n",
    "epslion = 1e-6\n",
    "\n",
    "bnn_with_good_prior.conv1.prior_mean = bnn_multi.conv1.mu_kernel.detach().clone().flatten()\n",
    "bnn_with_good_prior.conv1.prior_variance = torch.eye(c_in_conv1 * c_out_conv1 * k_conv1 * k_conv1).to(device)\n",
    "\n",
    "bnn_with_good_prior.conv2.prior_mean = bnn_multi.conv2.mu_kernel.detach().clone().flatten()\n",
    "bnn_with_good_prior.conv2.prior_variance = torch.eye(c_in_conv2 * c_out_conv2 * k_conv2 * k_conv2).to(device)\n",
    "\n",
    "bnn_with_good_prior.conv1.mu_kernel = bnn_multi.conv1.mu_kernel\n",
    "# bnn_with_good_prior.conv1.L_param = bnn_multi.conv1.L_param\n",
    "\n",
    "bnn_with_good_prior.conv2.mu_kernel = bnn_multi.conv2.mu_kernel\n",
    "# bnn_with_good_prior.conv2.L_param = bnn_multi.conv2.L_param\n",
    "\n",
    "bnn_with_good_prior.fc1 = dnn.fc1\n",
    "\n",
    "plt.subplot(1,3,1)\n",
    "plt.imshow(bnn_with_good_prior.conv1.prior_variance.cpu().detach().numpy())\n",
    "# plt.colorbar()\n",
    "\n",
    "plt.subplot(1,3,2)\n",
    "plt.imshow(bnn_with_good_prior.conv2.prior_variance.cpu().detach().numpy())\n",
    "\n",
    "# plt.subplot(1,3,3)\n",
    "# plt.imshow(bnn_with_good_prior.fc1.prior_variance.cpu().detach().numpy())\n",
    "# plt.colorbar()"
   ]
  },
  {
   "cell_type": "code",
   "execution_count": 22,
   "metadata": {},
   "outputs": [
    {
     "name": "stderr",
     "output_type": "stream",
     "text": [
      "\u001b[34m[Train] Epoch: 0/100, Acc: 0.81465, NNL: 0.94031 KL: 0.45748\u001b[0m: : 34it [01:03,  1.88s/it]\n"
     ]
    },
    {
     "ename": "KeyboardInterrupt",
     "evalue": "",
     "output_type": "error",
     "traceback": [
      "\u001b[0;31m---------------------------------------------------------------------------\u001b[0m",
      "\u001b[0;31mKeyboardInterrupt\u001b[0m                         Traceback (most recent call last)",
      "Cell \u001b[0;32mIn[22], line 7\u001b[0m\n\u001b[1;32m      5\u001b[0m \u001b[38;5;28;01mfrom\u001b[39;00m \u001b[38;5;21;01mtorch\u001b[39;00m\u001b[38;5;21;01m.\u001b[39;00m\u001b[38;5;21;01mutils\u001b[39;00m\u001b[38;5;21;01m.\u001b[39;00m\u001b[38;5;21;01mtensorboard\u001b[39;00m \u001b[38;5;28;01mimport\u001b[39;00m SummaryWriter\n\u001b[1;32m      6\u001b[0m writer \u001b[38;5;241m=\u001b[39m SummaryWriter(\u001b[38;5;124mf\u001b[39m\u001b[38;5;124m'\u001b[39m\u001b[38;5;124mruns/bnn_with_covI_multi\u001b[39m\u001b[38;5;124m'\u001b[39m)\n\u001b[0;32m----> 7\u001b[0m \u001b[43mtrain_BNN\u001b[49m\u001b[43m(\u001b[49m\u001b[43mepoch\u001b[49m\u001b[38;5;241;43m=\u001b[39;49m\u001b[43m \u001b[49m\u001b[38;5;241;43m100\u001b[39;49m\u001b[43m,\u001b[49m\u001b[43m \u001b[49m\u001b[43mmodel\u001b[49m\u001b[43m \u001b[49m\u001b[38;5;241;43m=\u001b[39;49m\u001b[43m \u001b[49m\u001b[43mbnn_with_good_prior\u001b[49m\u001b[38;5;241;43m.\u001b[39;49m\u001b[43mcuda\u001b[49m\u001b[43m(\u001b[49m\u001b[43m)\u001b[49m\u001b[43m,\u001b[49m\u001b[43m \u001b[49m\u001b[43mtrain_loader\u001b[49m\u001b[38;5;241;43m=\u001b[39;49m\u001b[43m \u001b[49m\u001b[43mtrain_loader\u001b[49m\u001b[43m,\u001b[49m\u001b[43m \u001b[49m\u001b[43mtest_loader\u001b[49m\u001b[38;5;241;43m=\u001b[39;49m\u001b[43m \u001b[49m\u001b[43mtest_loader\u001b[49m\u001b[43m,\u001b[49m\u001b[43m \u001b[49m\u001b[43moptimizer\u001b[49m\u001b[38;5;241;43m=\u001b[39;49m\u001b[43m \u001b[49m\u001b[43moptim\u001b[49m\u001b[38;5;241;43m.\u001b[39;49m\u001b[43mAdam\u001b[49m\u001b[43m(\u001b[49m\u001b[43mbnn_with_good_prior\u001b[49m\u001b[38;5;241;43m.\u001b[39;49m\u001b[43mparameters\u001b[49m\u001b[43m(\u001b[49m\u001b[43m)\u001b[49m\u001b[43m,\u001b[49m\u001b[43m \u001b[49m\u001b[43mlr\u001b[49m\u001b[38;5;241;43m=\u001b[39;49m\u001b[38;5;241;43m1e-3\u001b[39;49m\u001b[43m)\u001b[49m\u001b[43m,\u001b[49m\u001b[43m \u001b[49m\u001b[43mwriter\u001b[49m\u001b[43m \u001b[49m\u001b[38;5;241;43m=\u001b[39;49m\u001b[43m \u001b[49m\u001b[43mwriter\u001b[49m\u001b[43m,\u001b[49m\u001b[43m \u001b[49m\u001b[43mmc_runs\u001b[49m\u001b[43m \u001b[49m\u001b[38;5;241;43m=\u001b[39;49m\u001b[43m \u001b[49m\u001b[38;5;241;43m100\u001b[39;49m\u001b[43m,\u001b[49m\u001b[43m \u001b[49m\u001b[43mbs\u001b[49m\u001b[43m \u001b[49m\u001b[38;5;241;43m=\u001b[39;49m\u001b[43m \u001b[49m\u001b[38;5;241;43m1024\u001b[39;49m\u001b[43m,\u001b[49m\u001b[43m \u001b[49m\u001b[43mdevice\u001b[49m\u001b[43m \u001b[49m\u001b[38;5;241;43m=\u001b[39;49m\u001b[43m \u001b[49m\u001b[38;5;124;43m'\u001b[39;49m\u001b[38;5;124;43mcuda\u001b[39;49m\u001b[38;5;124;43m'\u001b[39;49m\u001b[43m,\u001b[49m\u001b[43m \u001b[49m\u001b[43margs\u001b[49m\u001b[38;5;241;43m=\u001b[39;49m\u001b[43margs\u001b[49m\u001b[43m,\u001b[49m\u001b[43m \u001b[49m\u001b[43mmoped\u001b[49m\u001b[38;5;241;43m=\u001b[39;49m\u001b[38;5;28;43;01mFalse\u001b[39;49;00m\u001b[43m)\u001b[49m\n",
      "File \u001b[0;32m~/Projects/bayesian-torch/utils.py:30\u001b[0m, in \u001b[0;36mtrain_BNN\u001b[0;34m(epoch, model, train_loader, test_loader, optimizer, writer, args, mc_runs, bs, device, moped)\u001b[0m\n\u001b[1;32m     28\u001b[0m \u001b[38;5;28;01mfor\u001b[39;00m _ \u001b[38;5;129;01min\u001b[39;00m \u001b[38;5;28mrange\u001b[39m(mc_runs):\n\u001b[1;32m     29\u001b[0m     \u001b[38;5;28;01mif\u001b[39;00m \u001b[38;5;129;01mnot\u001b[39;00m moped:\n\u001b[0;32m---> 30\u001b[0m         output, kl \u001b[38;5;241m=\u001b[39m \u001b[43mmodel\u001b[49m\u001b[43m(\u001b[49m\u001b[43mdata\u001b[49m\u001b[43m)\u001b[49m\n\u001b[1;32m     31\u001b[0m         output_\u001b[38;5;241m.\u001b[39mappend(output)\n\u001b[1;32m     32\u001b[0m         kl_\u001b[38;5;241m.\u001b[39mappend(kl)\n",
      "File \u001b[0;32m~/anaconda3/envs/bnn/lib/python3.10/site-packages/torch/nn/modules/module.py:1511\u001b[0m, in \u001b[0;36mModule._wrapped_call_impl\u001b[0;34m(self, *args, **kwargs)\u001b[0m\n\u001b[1;32m   1509\u001b[0m     \u001b[38;5;28;01mreturn\u001b[39;00m \u001b[38;5;28mself\u001b[39m\u001b[38;5;241m.\u001b[39m_compiled_call_impl(\u001b[38;5;241m*\u001b[39margs, \u001b[38;5;241m*\u001b[39m\u001b[38;5;241m*\u001b[39mkwargs)  \u001b[38;5;66;03m# type: ignore[misc]\u001b[39;00m\n\u001b[1;32m   1510\u001b[0m \u001b[38;5;28;01melse\u001b[39;00m:\n\u001b[0;32m-> 1511\u001b[0m     \u001b[38;5;28;01mreturn\u001b[39;00m \u001b[38;5;28;43mself\u001b[39;49m\u001b[38;5;241;43m.\u001b[39;49m\u001b[43m_call_impl\u001b[49m\u001b[43m(\u001b[49m\u001b[38;5;241;43m*\u001b[39;49m\u001b[43margs\u001b[49m\u001b[43m,\u001b[49m\u001b[43m \u001b[49m\u001b[38;5;241;43m*\u001b[39;49m\u001b[38;5;241;43m*\u001b[39;49m\u001b[43mkwargs\u001b[49m\u001b[43m)\u001b[49m\n",
      "File \u001b[0;32m~/anaconda3/envs/bnn/lib/python3.10/site-packages/torch/nn/modules/module.py:1520\u001b[0m, in \u001b[0;36mModule._call_impl\u001b[0;34m(self, *args, **kwargs)\u001b[0m\n\u001b[1;32m   1515\u001b[0m \u001b[38;5;66;03m# If we don't have any hooks, we want to skip the rest of the logic in\u001b[39;00m\n\u001b[1;32m   1516\u001b[0m \u001b[38;5;66;03m# this function, and just call forward.\u001b[39;00m\n\u001b[1;32m   1517\u001b[0m \u001b[38;5;28;01mif\u001b[39;00m \u001b[38;5;129;01mnot\u001b[39;00m (\u001b[38;5;28mself\u001b[39m\u001b[38;5;241m.\u001b[39m_backward_hooks \u001b[38;5;129;01mor\u001b[39;00m \u001b[38;5;28mself\u001b[39m\u001b[38;5;241m.\u001b[39m_backward_pre_hooks \u001b[38;5;129;01mor\u001b[39;00m \u001b[38;5;28mself\u001b[39m\u001b[38;5;241m.\u001b[39m_forward_hooks \u001b[38;5;129;01mor\u001b[39;00m \u001b[38;5;28mself\u001b[39m\u001b[38;5;241m.\u001b[39m_forward_pre_hooks\n\u001b[1;32m   1518\u001b[0m         \u001b[38;5;129;01mor\u001b[39;00m _global_backward_pre_hooks \u001b[38;5;129;01mor\u001b[39;00m _global_backward_hooks\n\u001b[1;32m   1519\u001b[0m         \u001b[38;5;129;01mor\u001b[39;00m _global_forward_hooks \u001b[38;5;129;01mor\u001b[39;00m _global_forward_pre_hooks):\n\u001b[0;32m-> 1520\u001b[0m     \u001b[38;5;28;01mreturn\u001b[39;00m \u001b[43mforward_call\u001b[49m\u001b[43m(\u001b[49m\u001b[38;5;241;43m*\u001b[39;49m\u001b[43margs\u001b[49m\u001b[43m,\u001b[49m\u001b[43m \u001b[49m\u001b[38;5;241;43m*\u001b[39;49m\u001b[38;5;241;43m*\u001b[39;49m\u001b[43mkwargs\u001b[49m\u001b[43m)\u001b[49m\n\u001b[1;32m   1522\u001b[0m \u001b[38;5;28;01mtry\u001b[39;00m:\n\u001b[1;32m   1523\u001b[0m     result \u001b[38;5;241m=\u001b[39m \u001b[38;5;28;01mNone\u001b[39;00m\n",
      "File \u001b[0;32m~/Projects/bayesian-torch/models.py:47\u001b[0m, in \u001b[0;36mLeNet_BNN.forward\u001b[0;34m(self, x)\u001b[0m\n\u001b[1;32m     44\u001b[0m kl_sum \u001b[38;5;241m+\u001b[39m\u001b[38;5;241m=\u001b[39m kl\n\u001b[1;32m     45\u001b[0m x \u001b[38;5;241m=\u001b[39m F\u001b[38;5;241m.\u001b[39mrelu(x)\n\u001b[0;32m---> 47\u001b[0m x, kl \u001b[38;5;241m=\u001b[39m \u001b[38;5;28;43mself\u001b[39;49m\u001b[38;5;241;43m.\u001b[39;49m\u001b[43mconv2\u001b[49m\u001b[43m(\u001b[49m\u001b[43mx\u001b[49m\u001b[43m)\u001b[49m\n\u001b[1;32m     48\u001b[0m kl_sum \u001b[38;5;241m+\u001b[39m\u001b[38;5;241m=\u001b[39m kl\n\u001b[1;32m     49\u001b[0m x \u001b[38;5;241m=\u001b[39m F\u001b[38;5;241m.\u001b[39mrelu(x)\n",
      "File \u001b[0;32m~/anaconda3/envs/bnn/lib/python3.10/site-packages/torch/nn/modules/module.py:1511\u001b[0m, in \u001b[0;36mModule._wrapped_call_impl\u001b[0;34m(self, *args, **kwargs)\u001b[0m\n\u001b[1;32m   1509\u001b[0m     \u001b[38;5;28;01mreturn\u001b[39;00m \u001b[38;5;28mself\u001b[39m\u001b[38;5;241m.\u001b[39m_compiled_call_impl(\u001b[38;5;241m*\u001b[39margs, \u001b[38;5;241m*\u001b[39m\u001b[38;5;241m*\u001b[39mkwargs)  \u001b[38;5;66;03m# type: ignore[misc]\u001b[39;00m\n\u001b[1;32m   1510\u001b[0m \u001b[38;5;28;01melse\u001b[39;00m:\n\u001b[0;32m-> 1511\u001b[0m     \u001b[38;5;28;01mreturn\u001b[39;00m \u001b[38;5;28;43mself\u001b[39;49m\u001b[38;5;241;43m.\u001b[39;49m\u001b[43m_call_impl\u001b[49m\u001b[43m(\u001b[49m\u001b[38;5;241;43m*\u001b[39;49m\u001b[43margs\u001b[49m\u001b[43m,\u001b[49m\u001b[43m \u001b[49m\u001b[38;5;241;43m*\u001b[39;49m\u001b[38;5;241;43m*\u001b[39;49m\u001b[43mkwargs\u001b[49m\u001b[43m)\u001b[49m\n",
      "File \u001b[0;32m~/anaconda3/envs/bnn/lib/python3.10/site-packages/torch/nn/modules/module.py:1520\u001b[0m, in \u001b[0;36mModule._call_impl\u001b[0;34m(self, *args, **kwargs)\u001b[0m\n\u001b[1;32m   1515\u001b[0m \u001b[38;5;66;03m# If we don't have any hooks, we want to skip the rest of the logic in\u001b[39;00m\n\u001b[1;32m   1516\u001b[0m \u001b[38;5;66;03m# this function, and just call forward.\u001b[39;00m\n\u001b[1;32m   1517\u001b[0m \u001b[38;5;28;01mif\u001b[39;00m \u001b[38;5;129;01mnot\u001b[39;00m (\u001b[38;5;28mself\u001b[39m\u001b[38;5;241m.\u001b[39m_backward_hooks \u001b[38;5;129;01mor\u001b[39;00m \u001b[38;5;28mself\u001b[39m\u001b[38;5;241m.\u001b[39m_backward_pre_hooks \u001b[38;5;129;01mor\u001b[39;00m \u001b[38;5;28mself\u001b[39m\u001b[38;5;241m.\u001b[39m_forward_hooks \u001b[38;5;129;01mor\u001b[39;00m \u001b[38;5;28mself\u001b[39m\u001b[38;5;241m.\u001b[39m_forward_pre_hooks\n\u001b[1;32m   1518\u001b[0m         \u001b[38;5;129;01mor\u001b[39;00m _global_backward_pre_hooks \u001b[38;5;129;01mor\u001b[39;00m _global_backward_hooks\n\u001b[1;32m   1519\u001b[0m         \u001b[38;5;129;01mor\u001b[39;00m _global_forward_hooks \u001b[38;5;129;01mor\u001b[39;00m _global_forward_pre_hooks):\n\u001b[0;32m-> 1520\u001b[0m     \u001b[38;5;28;01mreturn\u001b[39;00m \u001b[43mforward_call\u001b[49m\u001b[43m(\u001b[49m\u001b[38;5;241;43m*\u001b[39;49m\u001b[43margs\u001b[49m\u001b[43m,\u001b[49m\u001b[43m \u001b[49m\u001b[38;5;241;43m*\u001b[39;49m\u001b[38;5;241;43m*\u001b[39;49m\u001b[43mkwargs\u001b[49m\u001b[43m)\u001b[49m\n\u001b[1;32m   1522\u001b[0m \u001b[38;5;28;01mtry\u001b[39;00m:\n\u001b[1;32m   1523\u001b[0m     result \u001b[38;5;241m=\u001b[39m \u001b[38;5;28;01mNone\u001b[39;00m\n",
      "File \u001b[0;32m~/Projects/bayesian-torch/bayesian_torch/layers/variational_layers/conv_variational.py:534\u001b[0m, in \u001b[0;36mConv2dReparameterization_Multivariate.forward\u001b[0;34m(self, input, return_kl)\u001b[0m\n\u001b[1;32m    531\u001b[0m weight \u001b[38;5;241m=\u001b[39m weight_flat\u001b[38;5;241m.\u001b[39mview(weight_shape)\n\u001b[1;32m    533\u001b[0m \u001b[38;5;28;01mif\u001b[39;00m return_kl:\n\u001b[0;32m--> 534\u001b[0m     kl_weight \u001b[38;5;241m=\u001b[39m \u001b[38;5;28;43mself\u001b[39;49m\u001b[38;5;241;43m.\u001b[39;49m\u001b[43mkl_div_multivariate_gaussian\u001b[49m\u001b[43m(\u001b[49m\u001b[43mmu_flat\u001b[49m\u001b[43m,\u001b[49m\u001b[43m \u001b[49m\u001b[43mcov_flat\u001b[49m\u001b[43m,\u001b[49m\u001b[43m \u001b[49m\u001b[38;5;28;43mself\u001b[39;49m\u001b[38;5;241;43m.\u001b[39;49m\u001b[43mprior_mean\u001b[49m\u001b[43m,\u001b[49m\u001b[43m \u001b[49m\u001b[38;5;28;43mself\u001b[39;49m\u001b[38;5;241;43m.\u001b[39;49m\u001b[43mprior_variance\u001b[49m\u001b[43m)\u001b[49m\n\u001b[1;32m    536\u001b[0m bias \u001b[38;5;241m=\u001b[39m \u001b[38;5;28;01mNone\u001b[39;00m\n\u001b[1;32m    537\u001b[0m \u001b[38;5;28;01mif\u001b[39;00m \u001b[38;5;28mself\u001b[39m\u001b[38;5;241m.\u001b[39mbias:\n",
      "File \u001b[0;32m~/Projects/bayesian-torch/bayesian_torch/layers/base_variational_layer.py:85\u001b[0m, in \u001b[0;36mBaseVariationalLayer_.kl_div_multivariate_gaussian\u001b[0;34m(self, mu_q, sigma_q, mu_p, sigma_p, device)\u001b[0m\n\u001b[1;32m     70\u001b[0m \u001b[38;5;28;01mdef\u001b[39;00m \u001b[38;5;21mkl_div_multivariate_gaussian\u001b[39m(\u001b[38;5;28mself\u001b[39m, mu_q, sigma_q, mu_p, sigma_p, device\u001b[38;5;241m=\u001b[39m\u001b[38;5;124m'\u001b[39m\u001b[38;5;124mcuda\u001b[39m\u001b[38;5;124m'\u001b[39m):\n\u001b[1;32m     71\u001b[0m \u001b[38;5;250m    \u001b[39m\u001b[38;5;124;03m\"\"\"\u001b[39;00m\n\u001b[1;32m     72\u001b[0m \u001b[38;5;124;03m    Calculates kl divergence between two multivariate gaussians (Q || P)\u001b[39;00m\n\u001b[1;32m     73\u001b[0m \n\u001b[0;32m   (...)\u001b[0m\n\u001b[1;32m     80\u001b[0m \u001b[38;5;124;03m    returns torch.Tensor of shape 0\u001b[39;00m\n\u001b[1;32m     81\u001b[0m \u001b[38;5;124;03m    \"\"\"\u001b[39;00m\n\u001b[1;32m     83\u001b[0m     kl \u001b[38;5;241m=\u001b[39m \u001b[38;5;241m0.5\u001b[39m \u001b[38;5;241m*\u001b[39m (torch\u001b[38;5;241m.\u001b[39mlogdet(sigma_p)\u001b[38;5;241m.\u001b[39mto(device) \u001b[38;5;241m-\u001b[39m torch\u001b[38;5;241m.\u001b[39mlogdet(sigma_q)\u001b[38;5;241m.\u001b[39mto(device) \u001b[38;5;241m+\u001b[39m\n\u001b[1;32m     84\u001b[0m                 torch\u001b[38;5;241m.\u001b[39mtrace(torch\u001b[38;5;241m.\u001b[39mmatmul(sigma_q\u001b[38;5;241m.\u001b[39mto(device), torch\u001b[38;5;241m.\u001b[39minverse(sigma_p)\u001b[38;5;241m.\u001b[39mto(device))) \u001b[38;5;241m+\u001b[39m\n\u001b[0;32m---> 85\u001b[0m                 torch\u001b[38;5;241m.\u001b[39mmatmul(torch\u001b[38;5;241m.\u001b[39mmatmul((mu_q\u001b[38;5;241m.\u001b[39mto(device) \u001b[38;5;241m-\u001b[39m mu_p\u001b[38;5;241m.\u001b[39mto(device))\u001b[38;5;241m.\u001b[39munsqueeze(\u001b[38;5;241m-\u001b[39m\u001b[38;5;241m1\u001b[39m)\u001b[38;5;241m.\u001b[39mpermute(\u001b[38;5;241m1\u001b[39m, \u001b[38;5;241m0\u001b[39m), \u001b[43mtorch\u001b[49m\u001b[38;5;241;43m.\u001b[39;49m\u001b[43minverse\u001b[49m\u001b[43m(\u001b[49m\u001b[43msigma_p\u001b[49m\u001b[38;5;241;43m.\u001b[39;49m\u001b[43mto\u001b[49m\u001b[43m(\u001b[49m\u001b[43mdevice\u001b[49m\u001b[43m)\u001b[49m\u001b[43m)\u001b[49m), (mu_q\u001b[38;5;241m.\u001b[39mcuda() \u001b[38;5;241m-\u001b[39m mu_p\u001b[38;5;241m.\u001b[39mcuda())\u001b[38;5;241m.\u001b[39munsqueeze(\u001b[38;5;241m-\u001b[39m\u001b[38;5;241m1\u001b[39m))\u001b[38;5;241m.\u001b[39msqueeze() \u001b[38;5;241m-\u001b[39m mu_p\u001b[38;5;241m.\u001b[39mshape[\u001b[38;5;241m0\u001b[39m])\n\u001b[1;32m     86\u001b[0m     \u001b[38;5;28;01mreturn\u001b[39;00m kl\u001b[38;5;241m.\u001b[39mmean()\n",
      "\u001b[0;31mKeyboardInterrupt\u001b[0m: "
     ]
    }
   ],
   "source": [
    "\n",
    "class args:\n",
    "    pass\n",
    "args = args()\n",
    "args.t = 1.0\n",
    "from torch.utils.tensorboard import SummaryWriter\n",
    "writer = SummaryWriter(f'runs/bnn_with_covI_multi')\n",
    "train_BNN(epoch= 100, model = bnn_with_good_prior.cuda(), train_loader= train_loader, test_loader= test_loader, optimizer= optim.Adam(bnn_with_good_prior.parameters(), lr=1e-3), writer = writer, mc_runs = 100, bs = 1024, device = 'cuda', args=args, moped=False)\n"
   ]
  },
  {
   "cell_type": "markdown",
   "metadata": {},
   "source": [
    "### Randomly Initialized Cov"
   ]
  },
  {
   "cell_type": "code",
   "execution_count": 23,
   "metadata": {},
   "outputs": [
    {
     "name": "stderr",
     "output_type": "stream",
     "text": [
      "10000it [00:53, 187.31it/s]\n"
     ]
    },
    {
     "data": {
      "text/plain": [
       "Text(0.5, 1.0, 'Loss')"
      ]
     },
     "execution_count": 23,
     "metadata": {},
     "output_type": "execute_result"
    },
    {
     "data": {
      "image/png": "[encoded data removed]",
      "text/plain": [
       "<Figure size 500x500 with 1 Axes>"
      ]
     },
     "metadata": {},
     "output_type": "display_data"
    }
   ],
   "source": [
    "\n",
    "device = torch.device('cuda' if torch.cuda.is_available() else 'cpu')\n",
    "bnn_multi = LeNet_BNN().to(device)\n",
    "optimizer = optim.Adam([bnn_multi.conv1.mu_kernel, bnn_multi.conv2.mu_kernel], lr=1e-3)\n",
    "\n",
    "mu_log = []\n",
    "losses = []\n",
    "mean_loss = []\n",
    "for idx, _ in tqdm(enumerate(range(10000))):\n",
    "    w_conv1_dnn = dnn.conv1.weight.data.to(device)\n",
    "    w_conv2_dnn = dnn.conv2.weight.data.to(device)\n",
    "    \n",
    "    c_in_conv1, c_out_conv1, k_conv1, _ = w_conv1_dnn.size()\n",
    "    c_in_conv2, c_out_conv2, k_conv2, _ = w_conv2_dnn.size()\n",
    "    \n",
    "    mu_bnn_conv1 = bnn_multi.conv1.mu_kernel\n",
    "    mu_flat_conv1 = mu_bnn_conv1.view(-1)\n",
    "    \n",
    "    mu_bnn_conv2 = bnn_multi.conv2.mu_kernel\n",
    "    mu_flat_conv2 = mu_bnn_conv2.view(-1)\n",
    "    \n",
    "    w_flat_conv1 = w_conv1_dnn.view(-1)\n",
    "    w_flat_conv2 = w_conv2_dnn.view(-1)\n",
    "\n",
    "    epslion = 1e-6\n",
    "    cov_1 = bnn_multi.conv1.get_covariance_matrix()\n",
    "    cov_2 = bnn_multi.conv2.get_covariance_matrix()\n",
    "    \n",
    "    # Sampling the weight\n",
    "    w_bnn_conv1 = torch.distributions.MultivariateNormal(mu_flat_conv1, cov_1).rsample().reshape(c_in_conv1, c_out_conv1, k_conv1, k_conv1)\n",
    "    w_bnn_conv2 = torch.distributions.MultivariateNormal(mu_flat_conv2, cov_2).rsample().reshape(c_in_conv2, c_out_conv2, k_conv2, k_conv2)\n",
    "\n",
    "    nll = (w_bnn_conv1 - w_conv1_dnn).pow(2).mean()\n",
    "    nll += (w_bnn_conv2 - w_conv2_dnn).pow(2).mean()\n",
    "    \n",
    "    optimizer.zero_grad()\n",
    "    nll.backward()  # Do not use retain_graph=True\n",
    "    optimizer.step()\n",
    "\n",
    "    mu_log.append(mu_bnn_conv1.mean().item() + mu_bnn_conv2.mean().item())\n",
    "    \n",
    "    losses.append(nll.item())\n",
    "    \n",
    "    mean_loss.append(np.mean(losses))\n",
    "\n",
    "plt.figure(figsize=(5,5))\n",
    "# plt.subplot(1,3,1)\n",
    "# plt.imshow(cov_not_optimized[:9,:9])\n",
    "# plt.title('Covariance matrix (not optimized)')\n",
    "\n",
    "# plt.subplot(1,3,2)\n",
    "# i=1\n",
    "# plt.imshow(bnn_multi.conv1.get_covariance_matrix().cpu().detach().numpy()[:,:][:9*i,:9*i])\n",
    "# plt.title('Covariance matrix (optimized)')\n",
    "# plt.colorbar()\n",
    "# plt.subplot(1,3,3)\n",
    "plt.plot(mean_loss[:])\n",
    "plt.grid()\n",
    "plt.title('Loss')\n"
   ]
  },
  {
   "cell_type": "code",
   "execution_count": 24,
   "metadata": {},
   "outputs": [
    {
     "data": {
      "text/plain": [
       "<matplotlib.image.AxesImage at 0x7f98e9c01ae0>"
      ]
     },
     "execution_count": 24,
     "metadata": {},
     "output_type": "execute_result"
    },
    {
     "data": {
      "image/png": "[encoded data removed]",
      "text/plain": [
       "<Figure size 640x480 with 2 Axes>"
      ]
     },
     "metadata": {},
     "output_type": "display_data"
    }
   ],
   "source": [
    "\n",
    "bnn_with_good_prior = LeNet_BNN().to(device) \n",
    "\n",
    "'''\n",
    "bnn_with_good_prior.conv1.prior_mean = bnn.conv1.mu_kernel.detach().clone().flatten()\n",
    "bnn_with_good_prior.conv1.prior_variance = bnn_with_good_prior.conv1.get_covariance_matrix(bnn.conv1.L_param.detach().clone(), bnn.conv1.B_param.detach().clone())\n",
    "\n",
    "    epslion = 1e-6\n",
    "    cov_1 = bnn_multi.conv1.get_covariance_matrix() + epslion * torch.eye(c_in_conv1 * c_out_conv1 * k_conv1 * k_conv1).to(device)\n",
    "    cov_2 = bnn_multi.conv2.get_covariance_matrix() + epslion * torch.eye(c_in_conv2 * c_out_conv2 * k_conv2 * k_conv2).to(device)\n",
    "    \n",
    "'''\n",
    "epslion = 1e-6\n",
    "\n",
    "bnn_with_good_prior.conv1.prior_mean = bnn_multi.conv1.mu_kernel.detach().clone().flatten()\n",
    "bnn_with_good_prior.conv1.prior_variance = bnn_multi.conv1.get_covariance_matrix().detach().clone()\n",
    "\n",
    "bnn_with_good_prior.conv2.prior_mean = bnn_multi.conv2.mu_kernel.detach().clone().flatten()\n",
    "bnn_with_good_prior.conv2.prior_variance = bnn_multi.conv2.get_covariance_matrix().detach().clone()\n",
    "\n",
    "bnn_with_good_prior.conv1.mu_kernel = bnn_multi.conv1.mu_kernel\n",
    "# bnn_with_good_prior.conv1.L_param = bnn_multi.conv1.L_param\n",
    "\n",
    "bnn_with_good_prior.conv2.mu_kernel = bnn_multi.conv2.mu_kernel\n",
    "# bnn_with_good_prior.conv2.L_param = bnn_multi.conv2.L_param\n",
    "\n",
    "bnn_with_good_prior.fc1 = dnn.fc1\n",
    "\n",
    "plt.subplot(1,3,1)\n",
    "plt.imshow(bnn_with_good_prior.conv1.prior_variance.cpu().detach().numpy())\n",
    "# plt.colorbar()\n",
    "\n",
    "plt.subplot(1,3,2)\n",
    "plt.imshow(bnn_with_good_prior.conv2.prior_variance.cpu().detach().numpy())\n",
    "\n",
    "# plt.subplot(1,3,3)\n",
    "# plt.imshow(bnn_with_good_prior.fc1.prior_variance.cpu().detach().numpy())\n",
    "# plt.colorbar()"
   ]
  },
  {
   "cell_type": "code",
   "execution_count": 25,
   "metadata": {},
   "outputs": [
    {
     "name": "stderr",
     "output_type": "stream",
     "text": [
      "\u001b[34m[Train] Epoch: 0/100, Acc: 0.89338, NNL: 0.47514 KL: 43.98667\u001b[0m: : 59it [02:12,  2.25s/it] \n"
     ]
    },
    {
     "name": "stdout",
     "output_type": "stream",
     "text": [
      "\u001b[33m[Test] Acc: 0.94400, NNL: 0.22786, KL: 8.48806\u001b[0m\n",
      "\u001b[32mBest model saved at epoch 0\u001b[0m\n"
     ]
    },
    {
     "name": "stderr",
     "output_type": "stream",
     "text": [
      "\u001b[34m[Train] Epoch: 1/100, Acc: 0.94522, NNL: 0.19714 KL: 6.17330\u001b[0m: : 59it [01:52,  1.91s/it]\n"
     ]
    },
    {
     "name": "stdout",
     "output_type": "stream",
     "text": [
      "\u001b[33m[Test] Acc: 0.94620, NNL: 0.20490, KL: 4.65600\u001b[0m\n",
      "\u001b[32mBest model saved at epoch 1\u001b[0m\n"
     ]
    },
    {
     "name": "stderr",
     "output_type": "stream",
     "text": [
      "\u001b[34m[Train] Epoch: 2/100, Acc: 0.95285, NNL: 0.16324 KL: 3.88168\u001b[0m: : 59it [01:52,  1.91s/it]\n"
     ]
    },
    {
     "name": "stdout",
     "output_type": "stream",
     "text": [
      "\u001b[33m[Test] Acc: 0.96130, NNL: 0.13205, KL: 3.24728\u001b[0m\n",
      "\u001b[32mBest model saved at epoch 2\u001b[0m\n"
     ]
    },
    {
     "name": "stderr",
     "output_type": "stream",
     "text": [
      "\u001b[34m[Train] Epoch: 3/100, Acc: 0.96108, NNL: 0.12006 KL: 3.14280\u001b[0m: : 14it [00:26,  1.88s/it]"
     ]
    }
   ],
   "source": [
    "\n",
    "class args:\n",
    "    pass\n",
    "args = args()\n",
    "args.t = 1.0\n",
    "from torch.utils.tensorboard import SummaryWriter\n",
    "writer = SummaryWriter(f'runs/bnn_with_cov_random_multi')\n",
    "train_BNN(epoch= 100, model = bnn_with_good_prior.cuda(), train_loader= train_loader, test_loader= test_loader, optimizer= optim.Adam(bnn_with_good_prior.parameters(), lr=1e-3), writer = writer, mc_runs = 100, bs = 1024, device = 'cuda', args=args, moped=False)\n"
   ]
  },
  {
   "cell_type": "code",
   "execution_count": null,
   "metadata": {},
   "outputs": [],
   "source": []
  },
  {
   "cell_type": "code",
   "execution_count": null,
   "metadata": {},
   "outputs": [],
   "source": []
  },
  {
   "cell_type": "code",
   "execution_count": null,
   "metadata": {},
   "outputs": [],
   "source": [
    "# Sample the weights\n",
    "\n",
    "# loss = torch.nn.MSELoss()\n",
    "optimizer = torch.optim.Adam([bnn_multi.conv1.mu_kernel, bnn_multi.conv1.L_param, bnn_multi.conv1.B_param], lr=1e-3)\n",
    "\n",
    "# Log for plotting\n",
    "mu_log = []\n",
    "sigma_log = []\n",
    "losses = []\n",
    "for epoch in range(1000):\n",
    "    \n",
    "    mu = bnn_multi.conv1.mu_kernel\n",
    "    sigma = bnn_multi.conv1.get_covariance_matrix(bnn_multi.conv1.L_param, bnn_multi.conv1.B_param)\n",
    "\n",
    "    k = \n",
    "    loss_val = 0.5 * (k * torch.log(2 * torch.pi) + torch.log(cov_det) + mahalanobis_dist)\n",
    "    # loss_val = 0.5 * torch.mean((mu - w_conv1_dnn)**2 / sigma + sigma )\n",
    "        \n",
    "        \n",
    "    \n",
    "    # loss_val = loss(w, w_conv1_dnn)\n",
    "    optimizer.zero_grad()\n",
    "    loss_val.backward()\n",
    "    optimizer.step()\n",
    "    mu_log.append(mu.mean().item())\n",
    "    sigma_log.append(sigma.mean().item())\n",
    "    losses.append(loss_val.item())\n",
    "    \n",
    "# plot training progress\n",
    "plt.plot(losses)\n",
    "plt.plot(mu_log)\n",
    "plt.plot(sigma_log)\n",
    "plt.grid()\n",
    "plt.legend(['loss', 'mu', 'sigma'])\n",
    "\n",
    "import torch\n",
    "import numpy as np\n",
    "import matplotlib.pyplot as plt\n",
    "from scipy.stats import norm\n",
    "\n",
    "# 예시 데이터, 실제 데이터로 대체하세요.\n",
    "mu_kernel = bnn_uni.conv1.mu_kernel  # 실제 mu_kernel 값으로 대체\n",
    "rho_kernel = bnn_uni.conv1.rho_kernel  # 실제 rho_kernel 값으로 대체\n",
    "w_dnn = dnn.conv1.weight.data\n",
    "# sigma_weight 계산\n",
    "sigma_weight = torch.log1p(torch.exp(rho_kernel))\n",
    "\n",
    "plt.figure(figsize=(15,15))\n",
    "for idx, (w_target, mu, sigma) in enumerate(zip(w_dnn, mu_kernel, sigma_weight)):\n",
    "    \n",
    "    print(w_target.shape, mu.shape, sigma.shape)\n",
    "    w_target = w_target.cpu().detach().numpy()\n",
    "    plt.subplot(6,1, idx+1)\n",
    "    for i in range(3):\n",
    "        \n",
    "        for j in range(3):\n",
    "            \n",
    "            plt.axvline(x=w_target[0,i,j], color='r', linestyle='--', label='target')\n",
    "            \n",
    "            x = np.linspace(mu[0,i,j].item() - 3 * sigma[0,i,j].item(), mu[0,i,j].item() + 3 * sigma[0,i,j].item(), 1000)\n",
    "            pdf = norm.pdf(x, loc=mu[0,i,j].item(), scale= sigma[0,i,j].item())\n",
    "            # plt.subplot(3,3,i+j+1)\n",
    "\n",
    "            plt.plot(x, pdf, label=f'N({mu[0,i,j].item():.2f}, {sigma[0,i,j].item():.2f})')\n",
    "            "
   ]
  },
  {
   "cell_type": "code",
   "execution_count": null,
   "metadata": {},
   "outputs": [],
   "source": [
    "from bayesian_torch.layers.variational_layers.conv_variational_layers import Conv2dReparameterization_Multivariate\n",
    "\n",
    "# Hook 함수 정의\n",
    "def hook_fn(module, input, output):\n",
    "    if isinstance(module, Conv2dReparameterization_Multivariate):\n",
    "        if module == bnn.conv1:\n",
    "            bnn_conv1_out.append(output)\n",
    "        elif module == bnn.conv2:\n",
    "            bnn_conv2_out.append(output)\n",
    "    # elif isinstance(module, nn.AvgPool2d):\n",
    "    #     bnn_pool_out.append(output)\n",
    "\n",
    "\n",
    "# 모델 초기화\n",
    "# dnn = LeNet()\n",
    "bnn = LeNet_BNN()  # 실제로는 Bayesian Neural Network여야 함\n",
    "\n",
    "# Hook을 저장할 리스트\n",
    "dnn_conv1_out = []\n",
    "dnn_conv2_out = []\n",
    "dnn_pool_out = []\n",
    "bnn_conv1_out = []\n",
    "bnn_conv2_out = []\n",
    "bnn_pool_out = []\n",
    "\n",
    "# Hook 등록\n",
    "dnn.conv1.register_forward_hook(lambda m, i, o: dnn_conv1_out.append(o))\n",
    "dnn.conv2.register_forward_hook(lambda m, i, o: dnn_conv2_out.append(o))\n",
    "dnn.pool.register_forward_hook(lambda m, i, o: dnn_pool_out.append(o))\n",
    "\n",
    "bnn.conv1.register_forward_hook(hook_fn)\n",
    "bnn.conv2.register_forward_hook(hook_fn)\n",
    "bnn.pool.register_forward_hook(hook_fn)\n",
    "\n",
    "# 옵티마이저 설정\n",
    "optimizer = torch.optim.Adam(bnn.parameters(), lr=1e-3)#, momentum=0.9, nesterov=True)\n",
    "\n",
    "# Knowledge Distillation 학습 루프\n",
    "epochs = 10\n",
    "for e in range(epochs):\n",
    "    pbar = tqdm(enumerate(train_loader))\n",
    "    dnn.eval().cuda()\n",
    "    bnn.train().cuda()\n",
    "    \n",
    "    losses = []\n",
    "    for batch_idx, (data, target) in pbar:\n",
    "        data, target = data.cuda(), target.cuda()\n",
    "        \n",
    "        with torch.no_grad():\n",
    "            dnn_conv1_out.clear()\n",
    "            dnn_conv2_out.clear()\n",
    "            dnn_pool_out.clear()\n",
    "            \n",
    "            y_t = dnn(data)\n",
    "            # output_t = [dnn_conv1_out[0], dnn_conv2_out[0], y_t]\n",
    "            output_t = [dnn_conv1_out[0]]\n",
    "            \n",
    "        bnn_conv1_out.clear()\n",
    "        bnn_conv2_out.clear()\n",
    "        bnn_pool_out.clear()\n",
    "        \n",
    "        y_s, _ = bnn(data)\n",
    "        # output_s = [bnn_conv1_out[0][0], bnn_conv2_out[0][0], y_s]\n",
    "        output_s = [bnn_conv1_out[0][0]]\n",
    "        \n",
    "        loss = 0\n",
    "        for idx, (t, s) in enumerate(zip(output_t, output_s)):\n",
    "            loss += F.mse_loss(s, t)\n",
    "        \n",
    "        losses.append(loss.item())\n",
    "        \n",
    "        optimizer.zero_grad()\n",
    "        loss.backward()\n",
    "        optimizer.step()\n",
    "        \n",
    "        pbar.set_description(f\"Loss: {np.mean(losses):.3f} Epoch: {e}\")\n"
   ]
  },
  {
   "cell_type": "code",
   "execution_count": null,
   "metadata": {},
   "outputs": [],
   "source": [
    "# Visualize the covariance matrix\n",
    "\n",
    "import matplotlib.pyplot as plt\n",
    "conv1_cov = bnn.conv1.get_covariance_matrix(bnn.conv1.L_param, bnn.conv1.B_param).cpu().detach().numpy()\n",
    "# conv2_cov = bnn.conv2.get_covariance_matrix(bnn.conv2.L_param, bnn.conv2.B_param).cpu().detach().numpy()"
   ]
  },
  {
   "cell_type": "code",
   "execution_count": null,
   "metadata": {},
   "outputs": [],
   "source": [
    "i=1\n",
    "plt.figure(figsize=(10,10))\n",
    "\n",
    "plt.subplot(1,2,1)\n",
    "plt.imshow(conv1_cov[:9*i,:9*i], cmap='plasma')\n",
    "\n",
    "i=9\n",
    "plt.subplot(1,2,2)\n",
    "plt.imshow(conv1_cov[:9*i,:9*i], cmap='plasma')"
   ]
  },
  {
   "cell_type": "code",
   "execution_count": null,
   "metadata": {},
   "outputs": [],
   "source": [
    "\n",
    "bnn_with_good_prior = LeNet_BNN()\n",
    "bnn_with_good_prior.conv1.prior_mean = bnn.conv1.mu_kernel.detach().clone().flatten()\n",
    "bnn_with_good_prior.conv1.prior_variance = bnn_with_good_prior.conv1.get_covariance_matrix(bnn.conv1.L_param.detach().clone(), bnn.conv1.B_param.detach().clone())\n",
    "\n",
    "# bnn_with_good_prior.conv2.prior_mean = bnn.conv2.mu_kernel.detach().clone().flatten()\n",
    "# bnn_with_good_prior.conv2.prior_variance = bnn_with_good_prior.conv2.get_covariance_matrix(bnn.conv2.L_param.detach().clone(), bnn.conv2.B_param.detach().clone())\n",
    "\n",
    "train_BNN(10, bnn_with_good_prior)\n"
   ]
  },
  {
   "cell_type": "code",
   "execution_count": null,
   "metadata": {},
   "outputs": [],
   "source": [
    "# Visualize the covariance matrix\n",
    "import matplotlib.pyplot as plt\n",
    "conv1_cov = naiive_bnn.conv1.get_covariance_matrix(naiive_bnn.conv1.L_param, naiive_bnn.conv1.B_param).cpu().detach().numpy()\n",
    "\n",
    "plt.figure(figsize=(15,15))\n",
    "plt.subplot(1,2,1)\n",
    "plt.imshow(conv1_cov[:,:], cmap='plasma')\n",
    "\n",
    "conv1_cov2 = bnn_with_good_prior.conv1.get_covariance_matrix(bnn_with_good_prior.conv1.L_param, bnn_with_good_prior.conv1.B_param).cpu().detach().numpy()\n",
    "plt.subplot(1,2,2)\n",
    "plt.imshow(conv1_cov2[:,:], cmap='plasma')"
   ]
  },
  {
   "cell_type": "code",
   "execution_count": null,
   "metadata": {},
   "outputs": [],
   "source": []
  }
 ],
 "metadata": {
  "kernelspec": {
   "display_name": "bnn",
   "language": "python",
   "name": "python3"
  },
  "language_info": {
   "codemirror_mode": {
    "name": "ipython",
    "version": 3
   },
   "file_extension": ".py",
   "mimetype": "text/x-python",
   "name": "python",
   "nbconvert_exporter": "python",
   "pygments_lexer": "ipython3",
   "version": "3.10.13"
  }
 },
 "nbformat": 4,
 "nbformat_minor": 2
}
