{
 "cells": [
  {
   "cell_type": "code",
   "execution_count": 1,
   "metadata": {},
   "outputs": [],
   "source": [
    "import torch\n",
    "import torch.nn as nn\n",
    "import torch.nn.functional as F\n",
    "import torch.optim as optim\n",
    "import numpy as np\n",
    "import matplotlib.pyplot as plt"
   ]
  },
  {
   "cell_type": "code",
   "execution_count": 2,
   "metadata": {},
   "outputs": [
    {
     "data": {
      "text/plain": [
       "<All keys matched successfully>"
      ]
     },
     "execution_count": 2,
     "metadata": {},
     "output_type": "execute_result"
    }
   ],
   "source": [
    "# Define the network\n",
    "from bayesian_torch.layers.variational_layers.conv_variational import Conv2dReparameterization_Multivariate\n",
    "\n",
    "# LeNet\n",
    "class LeNet_BNN(nn.Module):\n",
    "    \n",
    "    def __init__(self):\n",
    "        super(LeNet_BNN, self).__init__()\n",
    "        self.conv1 = Conv2dReparameterization_Multivariate(1, 6, 3, 1)\n",
    "        self.conv2 = Conv2dReparameterization_Multivariate(6, 16, 3, 1)\n",
    "        self.pool = nn.AvgPool2d(2, 2)\n",
    "        self.fc1 = nn.Linear(16*12*12, 10)\n",
    "        \n",
    "    def forward(self, x):\n",
    "        kl_sum = 0\n",
    "        \n",
    "        x, kl = self.conv1(x)\n",
    "        kl_sum += kl\n",
    "        x = F.relu(x)\n",
    "        \n",
    "        x, kl = self.conv2(x)\n",
    "        kl_sum += kl\n",
    "        x = F.relu(x)\n",
    "        \n",
    "        x = self.pool(x)\n",
    "        \n",
    "        x = x.view(-1, 16*12*12)\n",
    "        \n",
    "        logit = self.fc1(x)\n",
    "        \n",
    "        return logit, kl_sum\n",
    "\n",
    "class LeNet(nn.Module):\n",
    "    \n",
    "    def __init__(self):\n",
    "        super(LeNet, self).__init__()\n",
    "        self.conv1 = nn.Conv2d(1, 6, 3, 1)\n",
    "        self.conv2 = nn.Conv2d(6, 16, 3, 1)\n",
    "        self.pool = nn.AvgPool2d(2, 2)\n",
    "        self.fc1 = nn.Linear(16*12*12, 10)\n",
    "        \n",
    "    def forward(self, x):\n",
    "        \n",
    "        x = self.conv1(x)\n",
    "        x = F.relu(x)\n",
    "        \n",
    "        x = self.conv2(x)\n",
    "        x = F.relu(x)\n",
    "        \n",
    "        x = self.pool(x)\n",
    "        \n",
    "        x = x.view(-1, 16*12*12)\n",
    "        \n",
    "        logit = self.fc1(x)\n",
    "        \n",
    "        return logit\n",
    "    \n",
    "# MNIST dataset\n",
    "\n",
    "from torchvision import datasets, transforms\n",
    "from tqdm import tqdm \n",
    "\n",
    "train_dataset = datasets.MNIST(root='./data/', train=True, transform=transforms.ToTensor(), download=True)\n",
    "test_dataset = datasets.MNIST(root='./data/', train=False, transform=transforms.ToTensor())\n",
    "\n",
    "bs = 512\n",
    "train_loader = torch.utils.data.DataLoader(dataset=train_dataset, batch_size=bs, shuffle=True)\n",
    "test_loader = torch.utils.data.DataLoader(dataset=test_dataset, batch_size=bs, shuffle=False)\n",
    "\n",
    "# Training\n",
    "bnn = LeNet_BNN()\n",
    "def train_BNN(epoch, model):\n",
    "    \n",
    "    optimizer = optim.Adam(model.parameters(), lr=0.001)\n",
    "\n",
    "    model.train()\n",
    "    model.cuda()\n",
    "    for e in range(epoch):\n",
    "        \n",
    "        pbar = tqdm(enumerate(train_loader))\n",
    "        for batch_idx, (data, target) in pbar:\n",
    "            '''\n",
    "             # compute output\n",
    "            output_ = []\n",
    "            kl_ = []\n",
    "            for mc_run in range(args.num_mc):\n",
    "                output, kl = model(input_var)\n",
    "                output_.append(output)\n",
    "                kl_.append(kl)\n",
    "            output = torch.mean(torch.stack(output_), dim=0)\n",
    "            kl = torch.mean(torch.stack(kl_), dim=0)\n",
    "            '''\n",
    "            data, target = data.cuda(), target.cuda()\n",
    "            output_ =[]\n",
    "            kl_ = []\n",
    "            for mc_run in range(50):\n",
    "                output, kl = model(data)\n",
    "                output_.append(output)\n",
    "                kl_.append(kl)\n",
    "            output = torch.mean(torch.stack(output_), dim=0)\n",
    "            kl = torch.mean(torch.stack(kl_), dim=0)\n",
    "            \n",
    "            loss = F.cross_entropy(output, target) + kl / bs # batch size\n",
    "\n",
    "            optimizer.zero_grad()\n",
    "            loss.backward()\n",
    "            optimizer.step()\n",
    "            \n",
    "            pbar.set_description(f\"Loss: {loss.item():.3f} KL: {kl.item() / bs:.3f} Epoch: {e}\")\n",
    "            \n",
    "        print(f\"Test accuracy: {test_BNN(model):.3f}\")\n",
    "        \n",
    "def test_BNN(model):\n",
    "    model.eval()\n",
    "    correct = 0\n",
    "    total = 0\n",
    "    with torch.no_grad():\n",
    "        for data, target in test_loader:\n",
    "            data, target = data.cuda(), target.cuda()\n",
    "            \n",
    "            output_ = []\n",
    "            for mc_run in range(50):\n",
    "                output, _ = model(data)\n",
    "                output_.append(output)\n",
    "            output = torch.mean(torch.stack(output_), dim=0)\n",
    "            _, predicted = torch.max(output.data, 1)\n",
    "        \n",
    "            total += target.size(0)\n",
    "            correct += (predicted == target).sum().item()\n",
    "    return correct / total\n",
    "\n",
    "dnn = LeNet()\n",
    "def train_DNN(epoch, model):\n",
    "    \n",
    "    \n",
    "    model.cuda()\n",
    "    optimizer = optim.Adam(model.parameters(), lr=0.001)\n",
    "    \n",
    "    model.train()\n",
    "    for e in range(epoch):\n",
    "        \n",
    "        pbar = tqdm(enumerate(train_loader))\n",
    "        for batch_idx, (data, target) in pbar:\n",
    "            \n",
    "            data, target = data.cuda(), target.cuda()\n",
    "            optimizer.zero_grad()\n",
    "            output = model(data)\n",
    "            loss = F.cross_entropy(output, target)\n",
    "            loss.backward()\n",
    "            optimizer.step()\n",
    "            \n",
    "            pbar.set_description(f\"Loss: {loss.item():.3f} Epoch: {epoch}\")\n",
    "            \n",
    "        print(f\"Test accuracy: {test_DNN(model):.3f}\")\n",
    "        \n",
    "def test_DNN(model):\n",
    "\n",
    "    model.cuda()\n",
    "    model.eval()\n",
    "    correct = 0\n",
    "    total = 0\n",
    "    with torch.no_grad():\n",
    "        for data, target in test_loader:\n",
    "            data, target = data.cuda(), target.cuda()\n",
    "            output = model(data)\n",
    "            _, predicted = torch.max(output.data, 1)\n",
    "        \n",
    "            total += target.size(0)\n",
    "            correct += (predicted == target).sum().item()\n",
    "    return correct / total\n",
    "\n",
    "\n",
    "# train_DNN(10, dnn)\n",
    "dnn.load_state_dict(torch.load('dnn.pth'))\n",
    "\n"
   ]
  },
  {
   "cell_type": "code",
   "execution_count": 3,
   "metadata": {},
   "outputs": [
    {
     "name": "stderr",
     "output_type": "stream",
     "text": [
      "Loss: 78.019 Epoch: 0: : 118it [00:08, 14.11it/s]\n",
      "Loss: 72.680 Epoch: 1: : 118it [00:07, 15.13it/s]\n",
      "Loss: 63.932 Epoch: 2: : 118it [00:07, 15.09it/s]\n",
      "Loss: 56.090 Epoch: 3: : 118it [00:07, 14.85it/s]\n",
      "Loss: 53.571 Epoch: 4: : 118it [00:07, 14.85it/s]\n",
      "Loss: 48.556 Epoch: 5: : 118it [00:07, 14.77it/s]\n",
      "Loss: 49.625 Epoch: 6: : 118it [00:07, 14.93it/s]\n",
      "Loss: 48.002 Epoch: 7: : 118it [00:07, 15.06it/s]\n",
      "Loss: 47.509 Epoch: 8: : 118it [00:07, 15.01it/s]\n",
      "Loss: 51.056 Epoch: 9: : 118it [00:07, 15.19it/s]\n"
     ]
    }
   ],
   "source": [
    "import torch\n",
    "import torch.nn as nn\n",
    "import torch.nn.functional as F\n",
    "from tqdm import tqdm\n",
    "\n",
    "bnn = LeNet_BNN()\n",
    "\n",
    "# Hook 함수 정의\n",
    "def hook_fn(module, input, output):\n",
    "    if isinstance(module, Conv2dReparameterization_Multivariate):\n",
    "        if module == bnn.conv1:\n",
    "            bnn_conv1_out.append(output)\n",
    "        elif module == bnn.conv2:\n",
    "            bnn_conv2_out.append(output)\n",
    "    elif isinstance(module, nn.AvgPool2d):\n",
    "        bnn_pool_out.append(output)\n",
    "\n",
    "\n",
    "# 모델 초기화\n",
    "# dnn = LeNet()\n",
    "bnn = LeNet_BNN()  # 실제로는 Bayesian Neural Network여야 함\n",
    "\n",
    "# Hook을 저장할 리스트\n",
    "dnn_conv1_out = []\n",
    "dnn_conv2_out = []\n",
    "dnn_pool_out = []\n",
    "bnn_conv1_out = []\n",
    "bnn_conv2_out = []\n",
    "bnn_pool_out = []\n",
    "\n",
    "# Hook 등록\n",
    "dnn.conv1.register_forward_hook(lambda m, i, o: dnn_conv1_out.append(o))\n",
    "dnn.conv2.register_forward_hook(lambda m, i, o: dnn_conv2_out.append(o))\n",
    "dnn.pool.register_forward_hook(lambda m, i, o: dnn_pool_out.append(o))\n",
    "\n",
    "bnn.conv1.register_forward_hook(hook_fn)\n",
    "bnn.conv2.register_forward_hook(hook_fn)\n",
    "bnn.pool.register_forward_hook(hook_fn)\n",
    "\n",
    "# 옵티마이저 설정\n",
    "optimizer = torch.optim.Adam(bnn.parameters(), lr=1e-3)\n",
    "\n",
    "# Knowledge Distillation 학습 루프\n",
    "epochs = 10\n",
    "for e in range(epochs):\n",
    "    pbar = tqdm(enumerate(train_loader))\n",
    "    dnn.eval().cuda()\n",
    "    bnn.train().cuda()\n",
    "    \n",
    "    losses = []\n",
    "    for batch_idx, (data, target) in pbar:\n",
    "        data, target = data.cuda(), target.cuda()\n",
    "        \n",
    "        with torch.no_grad():\n",
    "            dnn_conv1_out.clear()\n",
    "            dnn_conv2_out.clear()\n",
    "            dnn_pool_out.clear()\n",
    "            \n",
    "            y_t = dnn(data)\n",
    "            output_t = [dnn_conv1_out[0], dnn_conv2_out[0], y_t]\n",
    "            \n",
    "        bnn_conv1_out.clear()\n",
    "        bnn_conv2_out.clear()\n",
    "        bnn_pool_out.clear()\n",
    "        \n",
    "        y_s, _ = bnn(data)\n",
    "        output_s = [bnn_conv1_out[0][0], bnn_conv2_out[0][0], y_s]\n",
    "        \n",
    "        loss = 0\n",
    "        for idx, (t, s) in enumerate(zip(output_t, output_s)):\n",
    "            loss += F.mse_loss(s, t)\n",
    "        \n",
    "        losses.append(loss.item())\n",
    "        \n",
    "        optimizer.zero_grad()\n",
    "        loss.backward()\n",
    "        optimizer.step()\n",
    "        \n",
    "        pbar.set_description(f\"Loss: {np.mean(losses):.3f} Epoch: {e}\")\n"
   ]
  },
  {
   "cell_type": "code",
   "execution_count": 6,
   "metadata": {},
   "outputs": [],
   "source": [
    "# Visualize the covariance matrix\n",
    "\n",
    "import matplotlib.pyplot as plt\n",
    "conv1_cov = bnn.conv1.get_covariance_matrix(bnn.conv1.L_param).cpu().detach().numpy()\n",
    "conv2_cov = bnn.conv2.get_covariance_matrix(bnn.conv2.L_param).cpu().detach().numpy()"
   ]
  },
  {
   "cell_type": "code",
   "execution_count": 7,
   "metadata": {},
   "outputs": [
    {
     "data": {
      "text/plain": [
       "<matplotlib.image.AxesImage at 0x7f8e04e150f0>"
      ]
     },
     "execution_count": 7,
     "metadata": {},
     "output_type": "execute_result"
    },
    {
     "data": {
      "image/png": "[encoded data removed]",
      "text/plain": [
       "<Figure size 1000x1000 with 2 Axes>"
      ]
     },
     "metadata": {},
     "output_type": "display_data"
    }
   ],
   "source": [
    "i=1\n",
    "plt.figure(figsize=(10,10))\n",
    "\n",
    "plt.subplot(1,2,1)\n",
    "plt.imshow(conv1_cov[:9*i,:9*i], cmap='plasma')\n",
    "\n",
    "i=9\n",
    "plt.subplot(1,2,2)\n",
    "plt.imshow(conv1_cov[:9*i,:9*i], cmap='plasma')"
   ]
  },
  {
   "cell_type": "code",
   "execution_count": 8,
   "metadata": {},
   "outputs": [
    {
     "data": {
      "text/plain": [
       "<matplotlib.image.AxesImage at 0x7f8e0415f8b0>"
      ]
     },
     "execution_count": 8,
     "metadata": {},
     "output_type": "execute_result"
    },
    {
     "data": {
      "image/png": "[encoded data removed]",
      "text/plain": [
       "<Figure size 1000x1000 with 2 Axes>"
      ]
     },
     "metadata": {},
     "output_type": "display_data"
    }
   ],
   "source": [
    "i=1\n",
    "plt.figure(figsize=(10,10))\n",
    "\n",
    "plt.subplot(1,2,1)\n",
    "plt.imshow(conv2_cov[:9*i,:9*i], cmap='plasma')\n",
    "\n",
    "i=9\n",
    "plt.subplot(1,2,2)\n",
    "plt.imshow(conv2_cov[:9*i,:9*i], cmap='plasma')"
   ]
  },
  {
   "cell_type": "code",
   "execution_count": 9,
   "metadata": {},
   "outputs": [],
   "source": [
    "bnn_with_good_prior = LeNet_BNN()\n",
    "bnn_with_good_prior.conv1.L_param = bnn.conv1.L_param\n"
   ]
  },
  {
   "cell_type": "code",
   "execution_count": 11,
   "metadata": {},
   "outputs": [],
   "source": [
    "\n",
    "bnn_with_good_prior = LeNet_BNN()\n",
    "bnn_with_good_prior.conv1.prior_mean = bnn.conv1.mu_kernel.detach().clone().flatten()\n",
    "bnn_with_good_prior.conv1.prior_variance = bnn_with_good_prior.conv1.get_covariance_matrix(bnn.conv1.L_param)\n",
    "\n",
    "# bnn_with_good_prior.conv2.prior_mean = bnn.conv2.mu_kernel.detach().clone().flatten()\n",
    "# bnn_with_good_prior.conv2.prior_variance = bnn.conv2.L_param.detach().clone()\n",
    "# train_BNN(10, bnn_with_good_prior)\n"
   ]
  },
  {
   "cell_type": "code",
   "execution_count": 12,
   "metadata": {},
   "outputs": [
    {
     "data": {
      "text/plain": [
       "torch.Size([1, 54])"
      ]
     },
     "execution_count": 12,
     "metadata": {},
     "output_type": "execute_result"
    }
   ],
   "source": [
    "bnn.conv1.L_param.shape"
   ]
  },
  {
   "cell_type": "code",
   "execution_count": null,
   "metadata": {},
   "outputs": [],
   "source": [
    "naive_bnn = LeNet_BNN()\n",
    "train_BNN(10, naive_bnn)"
   ]
  },
  {
   "cell_type": "code",
   "execution_count": null,
   "metadata": {},
   "outputs": [],
   "source": [
    "mu_q = bnn_with_good_prior.conv1.mu_kernel.view(-1)\n",
    "sigma_q = bnn_with_good_prior.conv1.get_covariance_matrix()\n",
    "mu_p = bnn_with_good_prior.conv1.prior_mean\n",
    "sigma_p = bnn_with_good_prior.conv1.prior_variance\n",
    "device = 'cuda'\n",
    "\n",
    "print(torch.logdet(sigma_p).to(device) - torch.logdet(sigma_q).to(device))\n",
    "print(torch.trace(torch.matmul(sigma_q.to(device), torch.inverse(sigma_p).to(device))))\n",
    "print(torch.matmul(torch.matmul((mu_q.to(device) - mu_p.to(device)).unsqueeze(-1).permute(1, 0), torch.inverse(sigma_p.to(device))), (mu_q.cuda() - mu_p.cuda()).unsqueeze(-1)).squeeze())\n",
    "print(mu_p.shape[0])\n",
    "kl = torch.logdet(sigma_p).to(device) - torch.logdet(sigma_q).to(device) \n",
    "kl += torch.trace(torch.matmul(sigma_q.to(device), torch.inverse(sigma_p).to(device)))\n",
    "kl += torch.matmul(torch.matmul((mu_q.to(device) - mu_p.to(device)).unsqueeze(-1).permute(1, 0), torch.inverse(sigma_p.to(device))), (mu_q.cuda() - mu_p.cuda()).unsqueeze(-1)).squeeze()\n",
    "kl -= mu_p.shape[0]\n",
    "kl *= 0.5\n",
    "print(kl)\n",
    "\n",
    "print(\"@@@\")\n",
    "mu_q = bnn_with_good_prior.conv2.mu_kernel.view(-1)\n",
    "sigma_q = bnn_with_good_prior.conv2.get_covariance_matrix()\n",
    "mu_p = bnn_with_good_prior.conv2.prior_mean\n",
    "sigma_p = bnn_with_good_prior.conv2.prior_variance\n",
    "device = 'cuda'\n",
    "\n",
    "print(torch.logdet(sigma_p).to(device) - torch.logdet(sigma_q).to(device))\n",
    "print(torch.trace(torch.matmul(sigma_q.to(device), torch.inverse(sigma_p).to(device))))\n",
    "print(torch.matmul(torch.matmul((mu_q.to(device) - mu_p.to(device)).unsqueeze(-1).permute(1, 0), torch.inverse(sigma_p.to(device))), (mu_q.cuda() - mu_p.cuda()).unsqueeze(-1)).squeeze())\n",
    "print(mu_p.shape[0])\n",
    "kl = torch.logdet(sigma_p).to(device) - torch.logdet(sigma_q).to(device) \n",
    "kl += torch.trace(torch.matmul(sigma_q.to(device), torch.inverse(sigma_p).to(device)))\n",
    "kl += torch.matmul(torch.matmul((mu_q.to(device) - mu_p.to(device)).unsqueeze(-1).permute(1, 0), torch.inverse(sigma_p.to(device))), (mu_q.cuda() - mu_p.cuda()).unsqueeze(-1)).squeeze()\n",
    "kl -= mu_p.shape[0]\n",
    "kl *= 0.5\n",
    "print(kl)"
   ]
  },
  {
   "cell_type": "code",
   "execution_count": null,
   "metadata": {},
   "outputs": [],
   "source": [
    "bnn_with_good_prior.conv2.mu_kernel.shape.numel()"
   ]
  },
  {
   "cell_type": "code",
   "execution_count": null,
   "metadata": {},
   "outputs": [],
   "source": []
  }
 ],
 "metadata": {
  "kernelspec": {
   "display_name": "bnn",
   "language": "python",
   "name": "python3"
  },
  "language_info": {
   "codemirror_mode": {
    "name": "ipython",
    "version": 3
   },
   "file_extension": ".py",
   "mimetype": "text/x-python",
   "name": "python",
   "nbconvert_exporter": "python",
   "pygments_lexer": "ipython3",
   "version": "3.10.13"
  }
 },
 "nbformat": 4,
 "nbformat_minor": 2
}
